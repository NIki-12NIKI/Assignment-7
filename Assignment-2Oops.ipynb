{
 "cells": [
  {
   "cell_type": "code",
   "execution_count": 1,
   "id": "d8be6d58-698e-43b5-b3a9-38fa1b4f53de",
   "metadata": {},
   "outputs": [
    {
     "data": {
      "text/plain": [
       "'Constructor:\\n1. What is a constructor in Python? Explain its purpose and usage.\\n2. Differentiate between a parameterless constructor and a parameterized constructor in Python.\\n3. How do you define a constructor in a Python class? Provide an example.\\n4. Explain the `__init__` method in Python and its role in constructors.\\n5. In a class named `Person`, create a constructor that initializes the `name` and `age` attributes. Provide an\\nexample of creating an object of this class.\\n6. How can you call a constructor explicitly in Python? Give an example.\\n7. What is the significance of the `self` parameter in Python constructors? Explain with an example.\\n8. Discuss the concept of default constructors in Python. When are they used?\\n9. Create a Python class called `Rectangle` with a constructor that initializes the `width` and `height`\\nattributes. Provide a method to calculate the area of the rectangle.\\n10. How can you have multiple constructors in a Python class? Explain with an example.\\n11. What is method overloading, and how is it related to constructors in Python?\\n12. Explain the use of the `super()` function in Python constructors. Provide an example.\\n13. Create a class called `Book` with a constructor that initializes the `title`, `author`, and `published_year`\\nattributes. Provide a method to display book details.\\n14. Discuss the differences between constructors and regular methods in Python classes.\\n15. Explain the role of the `self` parameter in instance variable initialization within a constructor.\\n16. How do you prevent a class from having multiple instances by using constructors in Python? Provide an\\nexample.\\n17. Create a Python class called `Student` with a constructor that takes a list of subjects as a parameter and\\ninitializes the `subjects` attribute.\\n18. What is the purpose of the `__del__` method in Python classes, and how does it relate to constructors?\\n19. Explain the use of constructor chaining in Python. Provide a practical example.\\n20. Create a Python class called `Car` with a default constructor that initializes the `make` and `model`\\nattributes. Provide a method to display car information.'"
      ]
     },
     "execution_count": 1,
     "metadata": {},
     "output_type": "execute_result"
    }
   ],
   "source": [
    "\"\"\"Constructor:\n",
    "1. What is a constructor in Python? Explain its purpose and usage.\n",
    "2. Differentiate between a parameterless constructor and a parameterized constructor in Python.\n",
    "3. How do you define a constructor in a Python class? Provide an example.\n",
    "4. Explain the `__init__` method in Python and its role in constructors.\n",
    "5. In a class named `Person`, create a constructor that initializes the `name` and `age` attributes. Provide an\n",
    "example of creating an object of this class.\n",
    "6. How can you call a constructor explicitly in Python? Give an example.\n",
    "7. What is the significance of the `self` parameter in Python constructors? Explain with an example.\n",
    "8. Discuss the concept of default constructors in Python. When are they used?\n",
    "9. Create a Python class called `Rectangle` with a constructor that initializes the `width` and `height`\n",
    "attributes. Provide a method to calculate the area of the rectangle.\n",
    "10. How can you have multiple constructors in a Python class? Explain with an example.\n",
    "11. What is method overloading, and how is it related to constructors in Python?\n",
    "12. Explain the use of the `super()` function in Python constructors. Provide an example.\n",
    "13. Create a class called `Book` with a constructor that initializes the `title`, `author`, and `published_year`\n",
    "attributes. Provide a method to display book details.\n",
    "14. Discuss the differences between constructors and regular methods in Python classes.\n",
    "15. Explain the role of the `self` parameter in instance variable initialization within a constructor.\n",
    "16. How do you prevent a class from having multiple instances by using constructors in Python? Provide an\n",
    "example.\n",
    "17. Create a Python class called `Student` with a constructor that takes a list of subjects as a parameter and\n",
    "initializes the `subjects` attribute.\n",
    "18. What is the purpose of the `__del__` method in Python classes, and how does it relate to constructors?\n",
    "19. Explain the use of constructor chaining in Python. Provide a practical example.\n",
    "20. Create a Python class called `Car` with a default constructor that initializes the `make` and `model`\n",
    "attributes. Provide a method to display car information.\"\"\""
   ]
  },
  {
   "cell_type": "code",
   "execution_count": 16,
   "id": "bbba6a81-e375-48ad-b3ed-ca7b46ea60fe",
   "metadata": {},
   "outputs": [
    {
     "name": "stdout",
     "output_type": "stream",
     "text": [
      "Alice\n",
      "30\n"
     ]
    },
    {
     "data": {
      "text/plain": [
       "\"1. A constructor in Python is a special method that is automatically called when an object of a class is created. \\nIts primary purpose is to initialize the attributes (variables) of the newly created object \\nPurpose:\\n\\nAttribute initialization: Sets initial values for an object's attributes.\\nObject creation: Essential for creating instances of a class.\\nCustomization: Allows for flexible object creation based on different parameters.\\nUsage:\\n\\nDefine attributes: Use self. to reference attributes within the constructor.\\nPass arguments: Provide arguments to the constructor when creating an object.\\nAccess attributes: Use dot notation to access attributes of the created object.\""
      ]
     },
     "execution_count": 16,
     "metadata": {},
     "output_type": "execute_result"
    }
   ],
   "source": [
    "#1 & 3\n",
    "\n",
    "class Person:\n",
    "    def __init__(self, name, age):\n",
    "        self.name = name\n",
    "        self.age = age\n",
    "\n",
    "# Creating an object\n",
    "person1 = Person(\"Alice\", 30)\n",
    "\n",
    "\n",
    "# Accessing attributes\n",
    "print(person1.name)  \n",
    "\n",
    "print(person1.age)   \n",
    "\"\"\"1. A constructor in Python is a special method that is automatically called when an object of a class is created. \n",
    "Its primary purpose is to initialize the attributes (variables) of the newly created object \n",
    "Purpose:\n",
    "\n",
    "Attribute initialization: Sets initial values for an object's attributes.\n",
    "Object creation: Essential for creating instances of a class.\n",
    "Customization: Allows for flexible object creation based on different parameters.\n",
    "Usage:\n",
    "\n",
    "Define attributes: Use self. to reference attributes within the constructor.\n",
    "Pass arguments: Provide arguments to the constructor when creating an object.\n",
    "Access attributes: Use dot notation to access attributes of the created object.\"\"\""
   ]
  },
  {
   "cell_type": "code",
   "execution_count": 15,
   "id": "837c0e5c-3d74-4d10-b287-1efc3e25dddf",
   "metadata": {},
   "outputs": [
    {
     "data": {
      "text/plain": [
       "\"In Python, constructors are special methods used to initialize attributes (variables) of an object when it's created. They're distinguished by whether they take parameters or not.\\n\\na. Parameterless Constructor\\nDefinition: A constructor that doesn't take any arguments.\\nPurpose:\\nProvides a default initialization for object attributes.\\nOften used when a class has fixed or known default values for its attributes.\\ndef __init__(self):\\n    # Initialize attributes with default values\\n    \\nb . Parameterized Constructor\\nDefinition: A constructor that takes one or more arguments.\\nPurpose:\\nAllows for flexible initialization of object attributes based on specific values provided during object creation.\\nProvides more control over the state of the object.\\ndef __init__(self, arg1, arg2, ...):\\n    # Initialize attributes using the provided arguments\""
      ]
     },
     "execution_count": 15,
     "metadata": {},
     "output_type": "execute_result"
    }
   ],
   "source": [
    "\"\"\"In Python, constructors are special methods used to initialize attributes (variables) of an object when it's created. They're distinguished by whether they take parameters or not.\n",
    "\n",
    "a. Parameterless Constructor\n",
    "Definition: A constructor that doesn't take any arguments.\n",
    "Purpose:\n",
    "Provides a default initialization for object attributes.\n",
    "Often used when a class has fixed or known default values for its attributes.\n",
    "def __init__(self):\n",
    "    # Initialize attributes with default values\n",
    "    \n",
    "b . Parameterized Constructor\n",
    "Definition: A constructor that takes one or more arguments.\n",
    "Purpose:\n",
    "Allows for flexible initialization of object attributes based on specific values provided during object creation.\n",
    "Provides more control over the state of the object.\n",
    "def __init__(self, arg1, arg2, ...):\n",
    "    # Initialize attributes using the provided arguments\"\"\"\n",
    "\n"
   ]
  },
  {
   "cell_type": "code",
   "execution_count": 17,
   "id": "8741a4ae-bbea-4be1-afed-aa7219c648c6",
   "metadata": {},
   "outputs": [
    {
     "data": {
      "text/plain": [
       "\"The __init__ method in Python is a special method, also known as a constructor, that's automatically called when a new instance (object) of a class is created. Its primary purpose is to initialize the attributes (variables) of the newly created object.\\n\\nHere's a breakdown of its role:\\n\\nInitialization: __init__ sets initial values for an object's attributes based on the arguments passed to it when the object is created.\\nCustomization: It allows for flexible object creation by providing different values for attributes.\\nObject Creation: It's essential for creating instances of a class.\""
      ]
     },
     "execution_count": 17,
     "metadata": {},
     "output_type": "execute_result"
    }
   ],
   "source": [
    "\"\"\"The __init__ method in Python is a special method, also known as a constructor, that's automatically called when a new instance (object) of a class is created. Its primary purpose is to initialize the attributes (variables) of the newly created object.\n",
    "\n",
    "Here's a breakdown of its role:\n",
    "\n",
    "Initialization: __init__ sets initial values for an object's attributes based on the arguments passed to it when the object is created.\n",
    "Customization: It allows for flexible object creation by providing different values for attributes.\n",
    "Object Creation: It's essential for creating instances of a class.\"\"\""
   ]
  },
  {
   "cell_type": "code",
   "execution_count": 19,
   "id": "1f01ceb1-950c-49bd-8ca6-c5d458aa5bda",
   "metadata": {},
   "outputs": [
    {
     "data": {
      "text/plain": [
       "'In Python, we cannot directly call a constructor explicitly. The constructor is automatically invoked when you \\ncreate an object of a class using the class name followed by parentheses.\\n\\n//person1 = Person(\"Alice\", 30)\\nRather call this\\nperson2 = Person()'"
      ]
     },
     "execution_count": 19,
     "metadata": {},
     "output_type": "execute_result"
    }
   ],
   "source": [
    "\"\"\"In Python, we cannot directly call a constructor explicitly. The constructor is automatically invoked when you \n",
    "create an object of a class using the class name followed by parentheses.\n",
    "\n",
    "//person1 = Person(\"Alice\", 30)\n",
    "Rather call this\n",
    "person2 = Person()\"\"\""
   ]
  },
  {
   "cell_type": "code",
   "execution_count": 22,
   "id": "7339b6b3-ecc5-47d0-9c01-58ef70c72644",
   "metadata": {},
   "outputs": [
    {
     "name": "stdout",
     "output_type": "stream",
     "text": [
      "Ali\n",
      "30\n",
      "Hello, my name is Ali\n"
     ]
    }
   ],
   "source": [
    "\"\"\"The self parameter in Python constructors is a reference to the instance (object) being created. It's used to access and modify the attributes of the newly created object within the constructor.\n",
    "\n",
    "Significance:\n",
    "\n",
    "Object Reference: self provides a way to refer to the specific object that's being constructed.\n",
    "Attribute Access: It allows you to access and modify the attributes of the object using dot notation.\n",
    "Method Calls: You can call other methods of the class using self to perform actions on the object.\"\"\"\n",
    "class Person:\n",
    "    def __init__(self, name, age):\n",
    "        self.name = name\n",
    "        self.age = age\n",
    "\n",
    "    def greet(self):\n",
    "        print(\"Hello, my name is\", self.name)\n",
    "\n",
    "\n",
    "person1 = Person(\"Ali\", 30)\n",
    "\n",
    "\n",
    "print(person1.name) \n",
    "print(person1.age)   \n",
    "\n",
    "\n",
    "person1.greet()  "
   ]
  },
  {
   "cell_type": "code",
   "execution_count": 28,
   "id": "e7bff6e7-8dae-4116-a04c-fc14fac087b5",
   "metadata": {},
   "outputs": [
    {
     "name": "stdout",
     "output_type": "stream",
     "text": [
      "0\n"
     ]
    }
   ],
   "source": [
    "\"\"\"Default constructors in Python are constructors that don't take any arguments. They provide a way to create objects of a class with default values for their attributes.\"\"\"\n",
    "class Person:\n",
    "    def __init__(self, name=\"Unknown\", age=0):\n",
    "        self.name = name\n",
    "        self.age = age\n",
    "\n",
    "# Creating objects with default values\n",
    "person1 = Person()  # name will be \"Unknown\", age will be 0\n",
    "person2 = Person(\"Alice\")  # age will be 0\n",
    "person3 = Person(\"Bob\", 30)  # both name and age are specified\n",
    "print(person2.age)"
   ]
  },
  {
   "cell_type": "code",
   "execution_count": 29,
   "id": "e5378353-5ed5-4202-b614-6f09acab2d6b",
   "metadata": {},
   "outputs": [
    {
     "name": "stdout",
     "output_type": "stream",
     "text": [
      "Area of the rectangle: 15\n"
     ]
    }
   ],
   "source": [
    "class Rectangle:\n",
    "    def __init__(self, width, height):\n",
    "        self.width = width\n",
    "        self.height = height\n",
    "\n",
    "    def calculate_area(self):\n",
    "        return self.width * self.height\n",
    "\n",
    "# Example usage\n",
    "rect = Rectangle(5, 3)\n",
    "area = rect.calculate_area()\n",
    "print(\"Area of the rectangle:\", area)"
   ]
  },
  {
   "cell_type": "code",
   "execution_count": 31,
   "id": "1c59d339-3549-4a80-9f44-3b76b0c672d7",
   "metadata": {},
   "outputs": [
    {
     "name": "stdout",
     "output_type": "stream",
     "text": [
      "123 Main St\n"
     ]
    }
   ],
   "source": [
    "\"\"\"Python does not support multiple constructors directly. However, you can achieve a similar effect by using optional arguments in a single constructor.\n",
    "\n",
    "Here's how it works:\n",
    "\n",
    "Define a single constructor: Create a constructor with optional arguments that cover all possible scenarios.\n",
    "Use default values: Assign default values to optional arguments.\n",
    "Handle different cases: Inside the constructor, use conditional statements (like if-else) to handle different combinations of arguments and initialize attributes accordingly.\"\"\"\n",
    "class Person:\n",
    "    def __init__(self, name, age=None, address=None):\n",
    "        self.name = name\n",
    "        self.age = age\n",
    "        self.address = address\n",
    "\n",
    "person1 = Person(\"Alice\", 30, \"123 Main St\")  \n",
    "person2 = Person(\"Bob\", 25)\n",
    "person3 = Person(\"Charlie\") \n",
    "print(person1.address)"
   ]
  },
  {
   "cell_type": "code",
   "execution_count": 1,
   "id": "ee6d209d-54ac-4c3a-9565-481272c807ff",
   "metadata": {},
   "outputs": [
    {
     "data": {
      "text/plain": [
       "'\\nMethod overloading is a programming concept where a class can have multiple methods with the same name but different parameters. \\nThis allows you to perform different actions based on the arguments passed to the method.\\n\\nIn Python, method overloading is not directly supported. This is because Python determines the method to call based on the \\nnumber and types of arguments passed, rather than the methods name. This is known as duck typing.\\nPython doesnt directly support method overloading, you can achieve similar functionality using optional arguments, default values, and conditional logic. \\nThis approach provides flexibility and allows you to write more concise and readable code.'"
      ]
     },
     "execution_count": 1,
     "metadata": {},
     "output_type": "execute_result"
    }
   ],
   "source": [
    "\"\"\"\n",
    "Method overloading is a programming concept where a class can have multiple methods with the same name but different parameters. \n",
    "This allows you to perform different actions based on the arguments passed to the method.\n",
    "\n",
    "In Python, method overloading is not directly supported. This is because Python determines the method to call based on the \n",
    "number and types of arguments passed, rather than the methods name. This is known as duck typing.\n",
    "Python doesnt directly support method overloading, you can achieve similar functionality using optional arguments, default values, and conditional logic. \n",
    "This approach provides flexibility and allows you to write more concise and readable code.\"\"\""
   ]
  },
  {
   "cell_type": "code",
   "execution_count": 2,
   "id": "ae91de8b-4a19-4245-9066-a86cf983ef5c",
   "metadata": {},
   "outputs": [
    {
     "data": {
      "text/plain": [
       "\"The super() function in Python is primarily used to call methods of a parent class from within a child class. In the context of constructors, \\nit is often used to ensure that the parent classes constructor is called before the child class's constructor. This is particularly important when dealing with inheritance \\nand ensuring that the necessary initialization steps are performed correctly.\""
      ]
     },
     "execution_count": 2,
     "metadata": {},
     "output_type": "execute_result"
    }
   ],
   "source": [
    "\"\"\"The super() function in Python is primarily used to call methods of a parent class from within a child class. In the context of constructors, \n",
    "it is often used to ensure that the parent classes constructor is called before the child class's constructor. This is particularly important when dealing with inheritance \n",
    "and ensuring that the necessary initialization steps are performed correctly.\"\"\""
   ]
  },
  {
   "cell_type": "code",
   "execution_count": 3,
   "id": "37a6601d-24e5-474a-8ae7-4700e48b795b",
   "metadata": {},
   "outputs": [
    {
     "name": "stdout",
     "output_type": "stream",
     "text": [
      "Title: To Kill a Mockingbird\n",
      "Author: Harper Lee\n",
      "Published Year: 1960\n"
     ]
    }
   ],
   "source": [
    "class Book:\n",
    "    def __init__(self, title, author, published_year):\n",
    "        self.title = title\n",
    "        self.author = author\n",
    "        self.published_year = published_year\n",
    "\n",
    "    def display_details(self):\n",
    "        print(f\"Title: {self.title}\")\n",
    "        print(f\"Author: {self.author}\")\n",
    "        print(f\"Published Year: {self.published_year}\")\n",
    "\n",
    "# Example usage\n",
    "book1 = Book(\"To Kill a Mockingbird\", \"Harper Lee\", 1960)\n",
    "book1.display_details()"
   ]
  },
  {
   "cell_type": "code",
   "execution_count": 4,
   "id": "7dbf222d-76f8-4399-9050-849d0749ec56",
   "metadata": {},
   "outputs": [
    {
     "data": {
      "text/plain": [
       "\"\\nConstructors\\nPurpose: Primarily used to initialize the attributes (variables) of an object when it's created.\\nName: Always named __init__.\\nInvocation: Automatically called when an object of the class is instantiated.\\nParameters: Can take parameters to initialize attributes with specific values.\\nReturn value: Do not return any values.\\nUsage: Essential for creating objects of a class and setting their initial state.\\nRegular Methods\\nPurpose: Define the behavior and functionality of an object.\\nName: Can have any valid name (except for special methods like __init__).\\nInvocation: Called explicitly by an object of the class.\\nParameters: Can take parameters to receive data and perform actions.\\nReturn value: Can return values based on their calculations or operations.\\nUsage: Implement the object's actions and logic.\""
      ]
     },
     "execution_count": 4,
     "metadata": {},
     "output_type": "execute_result"
    }
   ],
   "source": [
    "\n",
    "\"\"\"\n",
    "Constructors\n",
    "Purpose: Primarily used to initialize the attributes (variables) of an object when it's created.\n",
    "Name: Always named __init__.\n",
    "Invocation: Automatically called when an object of the class is instantiated.\n",
    "Parameters: Can take parameters to initialize attributes with specific values.\n",
    "Return value: Do not return any values.\n",
    "Usage: Essential for creating objects of a class and setting their initial state.\n",
    "Regular Methods\n",
    "Purpose: Define the behavior and functionality of an object.\n",
    "Name: Can have any valid name (except for special methods like __init__).\n",
    "Invocation: Called explicitly by an object of the class.\n",
    "Parameters: Can take parameters to receive data and perform actions.\n",
    "Return value: Can return values based on their calculations or operations.\n",
    "Usage: Implement the object's actions and logic.\"\"\""
   ]
  },
  {
   "cell_type": "code",
   "execution_count": 5,
   "id": "cf9532c5-5f4e-4e1e-a4b1-10a7830223c0",
   "metadata": {},
   "outputs": [
    {
     "data": {
      "text/plain": [
       "\"The self parameter in Python constructors is a reference to the instance (object) being created. It plays a crucial role in initializing instance variables (attributes) of the object.\\n\\nHere's how it works:\\n\\nObject Reference: When a new object is created, self refers to that specific object.\\nAttribute Access: Within the constructor, you use self. to access and assign values to the object's attributes.\\nInstance-Specific Values: By using self, you ensure that the attributes being initialized belong to the current instance, rather than being shared across all instances of the class.\""
      ]
     },
     "execution_count": 5,
     "metadata": {},
     "output_type": "execute_result"
    }
   ],
   "source": [
    "\"\"\"The self parameter in Python constructors is a reference to the instance (object) being created. It plays a crucial role in initializing instance variables (attributes) of the object.\n",
    "\n",
    "Here's how it works:\n",
    "\n",
    "Object Reference: When a new object is created, self refers to that specific object.\n",
    "Attribute Access: Within the constructor, you use self. to access and assign values to the object's attributes.\n",
    "Instance-Specific Values: By using self, you ensure that the attributes being initialized belong to the current instance, rather than being shared across all instances of the class.\"\"\""
   ]
  },
  {
   "cell_type": "code",
   "execution_count": 7,
   "id": "6e2c45ed-db2e-4e2e-8c16-07fd6b7a1f4f",
   "metadata": {},
   "outputs": [],
   "source": [
    "class Student:\n",
    "    def __init__(self, subjects):\n",
    "        self.subjects = subjects\n",
    "\n",
    "student1 = Student([\"Math\", \"Science\", \"English\"])"
   ]
  },
  {
   "cell_type": "code",
   "execution_count": 8,
   "id": "0a4d9469-f8c3-4a06-b821-576f837d6ddb",
   "metadata": {},
   "outputs": [
    {
     "data": {
      "text/plain": [
       "\"The __del__ Method in Python: A Destructor\\nThe __del__ method in Python is often referred to as a destructor. It's a special method that gets called when an object is about to be garbage collected, meaning there are no more references to it.\\n\\nPurpose:\\n\\nResource deallocation: Used to release external resources like file handles, network connections, or database connections that the object might be holding.\\nCleanup tasks: Perform any necessary cleanup operations before the object is destroyed.\""
      ]
     },
     "execution_count": 8,
     "metadata": {},
     "output_type": "execute_result"
    }
   ],
   "source": [
    "\"\"\"The __del__ Method in Python: A Destructor\n",
    "The __del__ method in Python is often referred to as a destructor. It's a special method that gets called when an object is about to be garbage collected, meaning there are no more references to it.\n",
    "\n",
    "Purpose:\n",
    "\n",
    "Resource deallocation: Used to release external resources like file handles, network connections, or database connections that the object might be holding.\n",
    "Cleanup tasks: Perform any necessary cleanup operations before the object is destroyed.\"\"\""
   ]
  },
  {
   "cell_type": "code",
   "execution_count": 9,
   "id": "ec431637-0ee8-465f-abb9-ed1094823fa5",
   "metadata": {},
   "outputs": [
    {
     "name": "stdout",
     "output_type": "stream",
     "text": [
      "Make: Unknown\n",
      "Model: Unknown\n",
      "Make: Toyota\n",
      "Model: Camry\n"
     ]
    }
   ],
   "source": [
    "class Car:\n",
    "    def __init__(self, make=\"Unknown\", model=\"Unknown\"):\n",
    "        self.make = make\n",
    "        self.model = model\n",
    "\n",
    "    def display_info(self):\n",
    "        print(f\"Make: {self.make}\")\n",
    "        print(f\"Model: {self.model}\")\n",
    "\n",
    "# Example usage\n",
    "car1 = Car()  # Using default values\n",
    "car2 = Car(\"Toyota\", \"Camry\")\n",
    "car1.display_info()\n",
    "car2.display_info()"
   ]
  },
  {
   "cell_type": "code",
   "execution_count": 10,
   "id": "ca75e23e-52e2-4509-a9bc-9ae3727d3f64",
   "metadata": {},
   "outputs": [
    {
     "data": {
      "text/plain": [
       "'Inheritance:\\n1. What is inheritance in Python? Explain its significance in object-oriented programming.\\n2. Differentiate between single inheritance and multiple inheritance in Python. Provide examples for each.\\n3. Create a Python class called `Vehicle` with attributes `color` and `speed`. Then, create a child class called\\n`Car` that inherits from `Vehicle` and adds a `brand` attribute. Provide an example of creating a `Car` object.\\n4. Explain the concept of method overriding in inheritance. Provide a practical example.\\n5. How can you access the methods and attributes of a parent class from a child class in Python? Give an\\nexample.\\n6. Discuss the use of the `super()` function in Python inheritance. When and why is it used? Provide an\\nexample.\\n7. Create a Python class called `Animal` with a method `speak()`. Then, create child classes `Dog` and `Cat` that inherit from `Animal` and override the `speak()` method. Provide an example of using these classes.\\n8. Explain the role of the `isinstance()` function in Python and how it relates to inheritance.\\n9. What is the purpose of the `issubclass()` function in Python? Provide an example.\\n10. Discuss the concept of constructor inheritance in Python. How are constructors inherited in child classes?\\n11. Create a Python class called `Shape` with a method `area()` that calculates the area of a shape. Then, create child classes `Circle` and `Rectangle` that inherit from `Shape` and implement the `area()` method\\naccordingly. Provide an example.\\n12. Explain the use of abstract base classes (ABCs) in Python and how they relate to inheritance. Provide an\\nexample using the `abc` module.\\n13. How can you prevent a child class from modifying certain attributes or methods inherited from a parent\\nclass in Python?\\n14. Create a Python class called `Employee` with attributes `name` and `salary`. Then, create a child class\\n`Manager` that inherits from `Employee` and adds an attribute `department`. Provide an example.\\n15. Discuss the concept of method overloading in Python inheritance. How does it differ from method\\noverriding?\\n16. Explain the purpose of the `__init__()` method in Python inheritance and how it is utilized in child classes.\\n17. Create a Python class called `Bird` with a method `fly()`. Then, create child classes `Eagle` and `Sparrow` that inherit from `Bird` and implement the `fly()` method differently. Provide an example of using these\\nclasses.\\n18. What is the \"diamond problem\" in multiple inheritance, and how does Python address it?\\n19. Discuss the concept of \"is-a\" and \"has-a\" relationships in inheritance, and provide examples of each.\\n20. Create a Python class hierarchy for a university system. Start with a base class `Person` and create child\\nclasses `Student` and `Professor`, each with their own attributes and methods. Provide an example of using\\nthese classes in a university context.'"
      ]
     },
     "execution_count": 10,
     "metadata": {},
     "output_type": "execute_result"
    }
   ],
   "source": [
    "\"\"\"Inheritance:\n",
    "1. What is inheritance in Python? Explain its significance in object-oriented programming.\n",
    "2. Differentiate between single inheritance and multiple inheritance in Python. Provide examples for each.\n",
    "3. Create a Python class called `Vehicle` with attributes `color` and `speed`. Then, create a child class called\n",
    "`Car` that inherits from `Vehicle` and adds a `brand` attribute. Provide an example of creating a `Car` object.\n",
    "4. Explain the concept of method overriding in inheritance. Provide a practical example.\n",
    "5. How can you access the methods and attributes of a parent class from a child class in Python? Give an\n",
    "example.\n",
    "6. Discuss the use of the `super()` function in Python inheritance. When and why is it used? Provide an\n",
    "example.\n",
    "7. Create a Python class called `Animal` with a method `speak()`. Then, create child classes `Dog` and `Cat` that inherit from `Animal` and override the `speak()` method. Provide an example of using these classes.\n",
    "8. Explain the role of the `isinstance()` function in Python and how it relates to inheritance.\n",
    "9. What is the purpose of the `issubclass()` function in Python? Provide an example.\n",
    "10. Discuss the concept of constructor inheritance in Python. How are constructors inherited in child classes?\n",
    "11. Create a Python class called `Shape` with a method `area()` that calculates the area of a shape. Then, create child classes `Circle` and `Rectangle` that inherit from `Shape` and implement the `area()` method\n",
    "accordingly. Provide an example.\n",
    "12. Explain the use of abstract base classes (ABCs) in Python and how they relate to inheritance. Provide an\n",
    "example using the `abc` module.\n",
    "13. How can you prevent a child class from modifying certain attributes or methods inherited from a parent\n",
    "class in Python?\n",
    "14. Create a Python class called `Employee` with attributes `name` and `salary`. Then, create a child class\n",
    "`Manager` that inherits from `Employee` and adds an attribute `department`. Provide an example.\n",
    "15. Discuss the concept of method overloading in Python inheritance. How does it differ from method\n",
    "overriding?\n",
    "16. Explain the purpose of the `__init__()` method in Python inheritance and how it is utilized in child classes.\n",
    "17. Create a Python class called `Bird` with a method `fly()`. Then, create child classes `Eagle` and `Sparrow` that inherit from `Bird` and implement the `fly()` method differently. Provide an example of using these\n",
    "classes.\n",
    "18. What is the \"diamond problem\" in multiple inheritance, and how does Python address it?\n",
    "19. Discuss the concept of \"is-a\" and \"has-a\" relationships in inheritance, and provide examples of each.\n",
    "20. Create a Python class hierarchy for a university system. Start with a base class `Person` and create child\n",
    "classes `Student` and `Professor`, each with their own attributes and methods. Provide an example of using\n",
    "these classes in a university context.\"\"\""
   ]
  },
  {
   "cell_type": "code",
   "execution_count": 11,
   "id": "f6eb2499-d2f6-46a9-b3d2-c070b546e5f7",
   "metadata": {},
   "outputs": [
    {
     "data": {
      "text/plain": [
       "'Inheritance in Python\\nInheritance is a fundamental concept in object-oriented programming that allows one class (child class or derived class) to inherit properties and methods from another class (parent class or base class). This promotes code reusability and creates a hierarchical relationship between classes.\\n\\nSignificance in Object-Oriented Programming:\\n\\nCode Reusability: By inheriting from a parent class, a child class can reuse its existing code, reducing redundancy and making the codebase more maintainable.\\nHierarchical Structure: Inheritance helps establish a clear hierarchical structure between classes, making it easier to understand the relationships and dependencies between different parts of the code.\\nPolymorphism: Inheritance is a key component of polymorphism, which allows objects of different classes to be treated as if they were of the same type.\\nSpecialization: Child classes can specialize the behavior of the parent class by overriding or extending its methods.\\nExtensibility: Inheritance makes it easier to extend the functionality of existing code without modifying the original classes.'"
      ]
     },
     "execution_count": 11,
     "metadata": {},
     "output_type": "execute_result"
    }
   ],
   "source": [
    "\"\"\"Inheritance in Python\n",
    "Inheritance is a fundamental concept in object-oriented programming that allows one class (child class or derived class) to inherit properties and methods from another class (parent class or base class). This promotes code reusability and creates a hierarchical relationship between classes.\n",
    "\n",
    "Significance in Object-Oriented Programming:\n",
    "\n",
    "Code Reusability: By inheriting from a parent class, a child class can reuse its existing code, reducing redundancy and making the codebase more maintainable.\n",
    "Hierarchical Structure: Inheritance helps establish a clear hierarchical structure between classes, making it easier to understand the relationships and dependencies between different parts of the code.\n",
    "Polymorphism: Inheritance is a key component of polymorphism, which allows objects of different classes to be treated as if they were of the same type.\n",
    "Specialization: Child classes can specialize the behavior of the parent class by overriding or extending its methods.\n",
    "Extensibility: Inheritance makes it easier to extend the functionality of existing code without modifying the original classes.\"\"\""
   ]
  },
  {
   "cell_type": "code",
   "execution_count": 12,
   "id": "3c4d2cba-3136-4ed9-b838-000449b2f792",
   "metadata": {},
   "outputs": [
    {
     "data": {
      "text/plain": [
       "'Single Inheritance:\\n\\nDefinition: A child class inherits properties and methods from a single parent class.\\nMultiple Inheritance:\\n\\nDefinition: A child class inherits properties and methods from multiple parent classes.'"
      ]
     },
     "execution_count": 12,
     "metadata": {},
     "output_type": "execute_result"
    }
   ],
   "source": [
    "\"\"\"Single Inheritance:\n",
    "\n",
    "Definition: A child class inherits properties and methods from a single parent class.\n",
    "Multiple Inheritance:\n",
    "\n",
    "Definition: A child class inherits properties and methods from multiple parent classes.\"\"\""
   ]
  },
  {
   "cell_type": "code",
   "execution_count": 13,
   "id": "1e50fbea-9641-465c-973d-9a030f303e29",
   "metadata": {},
   "outputs": [],
   "source": [
    "class Vehicle:\n",
    "    def __init__(self, color, speed):\n",
    "        self.color = color\n",
    "        self.speed = speed\n",
    "\n",
    "class Car(Vehicle):\n",
    "    def __init__(self, color, speed, brand):\n",
    "        super().__init__(color, speed)\n",
    "        self.brand = brand\n",
    "\n",
    "# Example usage\n",
    "car = Car(\"Red\", 120, \"Toyota\")\n"
   ]
  },
  {
   "cell_type": "code",
   "execution_count": 14,
   "id": "7b2b32b5-7e68-4b61-95dc-67d20967227f",
   "metadata": {},
   "outputs": [
    {
     "data": {
      "text/plain": [
       "\"Method overriding occurs when a child class defines a method with the same name as a method in its parent class. This allows the child class to provide a specific implementation for the method, overriding the parent class's version.\\n\\nKey points:\\n\\nSame name: The method in the child class must have the same name as the method in the parent class.\\nSame parameters: The method in the child class should typically have the same parameters as the method in the parent class.\\nDifferent implementation: The child class's method provides a different implementation, tailored to its specific needs.\""
      ]
     },
     "execution_count": 14,
     "metadata": {},
     "output_type": "execute_result"
    }
   ],
   "source": [
    "\"\"\"Method overriding occurs when a child class defines a method with the same name as a method in its parent class. This allows the child class to provide a specific implementation for the method, overriding the parent class's version.\n",
    "\n",
    "Key points:\n",
    "\n",
    "Same name: The method in the child class must have the same name as the method in the parent class.\n",
    "Same parameters: The method in the child class should typically have the same parameters as the method in the parent class.\n",
    "Different implementation: The child class's method provides a different implementation, tailored to its specific needs.\"\"\"\n"
   ]
  },
  {
   "cell_type": "code",
   "execution_count": 15,
   "id": "1255612d-fd6e-4361-952d-87d5c762d749",
   "metadata": {},
   "outputs": [
    {
     "data": {
      "text/plain": [
       "\"In Python, you can access the methods and attributes of a parent class from a child class using the super() function.\\n\\nThe super() function returns a proxy object that allows you to call methods of the parent class. This is especially useful when you need to override a method in the child class but still want to call the parent class's implementation. \\xa0 \\n\\n\""
      ]
     },
     "execution_count": 15,
     "metadata": {},
     "output_type": "execute_result"
    }
   ],
   "source": [
    "\"\"\"In Python, you can access the methods and attributes of a parent class from a child class using the super() function.\n",
    "\n",
    "The super() function returns a proxy object that allows you to call methods of the parent class. This is especially useful \n",
    "when you need to override a method in the child class but still want to call the parent class's implementation.   \n",
    "\n",
    "\"\"\"\n"
   ]
  },
  {
   "cell_type": "code",
   "execution_count": 16,
   "id": "527b0923-7f67-46d9-ba7b-0a2934381d30",
   "metadata": {},
   "outputs": [
    {
     "data": {
      "text/plain": [
       "\"The super() function in Python is a powerful tool for working with inheritance. It allows you to call methods or access attributes of a parent class from within a child class.\\n\\nWhen to use super():\\n\\nCalling parent class constructors: To invoke the parent class's constructor and initialize its attributes before initializing the child class's attributes. This is especially important when dealing with multiple inheritance or when you need to ensure that certain initialization steps are performed in a specific order.\\nMethod overriding: To call the parent class's implementation of a method from within a child class's overridden version. This can be useful when you want to extend the parent class's behavior or provide a specialized implementation.\""
      ]
     },
     "execution_count": 16,
     "metadata": {},
     "output_type": "execute_result"
    }
   ],
   "source": [
    "\"\"\"The super() function in Python is a powerful tool for working with inheritance. It allows you to call methods or access attributes of a parent class from within a child class.\n",
    "\n",
    "When to use super():\n",
    "\n",
    "Calling parent class constructors: To invoke the parent class's constructor and initialize its attributes before initializing the child class's attributes. This is especially important when dealing with multiple inheritance or when you need to ensure that certain initialization steps are performed in a specific order.\n",
    "Method overriding: To call the parent class's implementation of a method from within a child class's overridden version. This can be useful when you want to extend the parent class's behavior or provide a specialized implementation.\"\"\""
   ]
  },
  {
   "cell_type": "code",
   "execution_count": 17,
   "id": "1e4b12f4-c7b4-4ca4-8660-68f8a43fe3da",
   "metadata": {},
   "outputs": [
    {
     "name": "stdout",
     "output_type": "stream",
     "text": [
      "Woof!\n",
      "Meow!\n"
     ]
    }
   ],
   "source": [
    "class Animal:\n",
    "    def speak(self):\n",
    "        print(\"Generic animal sound\")\n",
    "\n",
    "class Dog(Animal):\n",
    "    def speak(self):\n",
    "        print(\"Woof!\")\n",
    "\n",
    "class Cat(Animal):\n",
    "    def speak(self):\n",
    "        print(\"Meow!\")\n",
    "\n",
    "# Example usage\n",
    "dog = Dog()\n",
    "cat = Cat()\n",
    "\n",
    "dog.speak()  # Output: Woof!\n",
    "cat.speak()  # Output: Meow!"
   ]
  },
  {
   "cell_type": "code",
   "execution_count": 20,
   "id": "26d89f55-0b94-46b4-9158-ee05d6b452c2",
   "metadata": {},
   "outputs": [
    {
     "data": {
      "text/plain": [
       "\"The isinstance() function in Python is used to check if an object is an instance of a specific class or its subclasses. It's a powerful tool for determining the type of an object at runtime.\\n\\nHow it works:\\n\\nTakes two arguments: an object and a class or a tuple of classes.\\nReturns True if the object is an instance of the specified class or one of its subclasses.\\nReturns False otherwise.\\nRelation to Inheritance:\\n\\nThe isinstance() function is particularly useful when dealing with inheritance, as it allows you to check\\nif an object belongs to a specific class or any of its derived classes. This can be helpful in situations where you need to perform different actions based on the type of an object.\""
      ]
     },
     "execution_count": 20,
     "metadata": {},
     "output_type": "execute_result"
    }
   ],
   "source": [
    "\"\"\"The isinstance() function in Python is used to check if an object is an instance of a specific class or its subclasses. It's a powerful tool for determining the type of an object at runtime.\n",
    "\n",
    "How it works:\n",
    "\n",
    "Takes two arguments: an object and a class or a tuple of classes.\n",
    "Returns True if the object is an instance of the specified class or one of its subclasses.\n",
    "Returns False otherwise.\n",
    "Relation to Inheritance:\n",
    "\n",
    "The isinstance() function is particularly useful when dealing with inheritance, as it allows you to check\n",
    "if an object belongs to a specific class or any of its derived classes. This can be helpful in situations where you need to perform different actions based on the type of an object.\"\"\""
   ]
  },
  {
   "cell_type": "code",
   "execution_count": 19,
   "id": "5450fef1-0f8a-44f8-a91e-79b096e842cc",
   "metadata": {},
   "outputs": [
    {
     "data": {
      "text/plain": [
       "\"The issubclass() function in Python is used to check if a class is a subclass of another class. It's a useful tool for determining the hierarchical relationship between classes.\\n\\nHow it works:\\n\\nTakes two arguments: a subclass and a superclass.\\nReturns True if the subclass is a direct or indirect subclass of the superclass.\\nReturns False otherwise.\""
      ]
     },
     "execution_count": 19,
     "metadata": {},
     "output_type": "execute_result"
    }
   ],
   "source": [
    "\"\"\"The issubclass() function in Python is used to check if a class is a subclass of another class. It's a useful tool for determining the hierarchical relationship between classes.\n",
    "\n",
    "How it works:\n",
    "\n",
    "Takes two arguments: a subclass and a superclass.\n",
    "Returns True if the subclass is a direct or indirect subclass of the superclass.\n",
    "Returns False otherwise.\"\"\""
   ]
  },
  {
   "cell_type": "code",
   "execution_count": 21,
   "id": "e88a8321-b0c4-4ba7-a88c-8262a0283d11",
   "metadata": {},
   "outputs": [
    {
     "data": {
      "text/plain": [
       "\"Constructor Inheritance in Python\\nConstructor inheritance in Python refers to the way constructors are passed down from parent classes to child classes. While Python doesn't explicitly support constructor inheritance in the same way as some other languages, the concept is implicitly implemented through the __init__ method.\\n\\nHow Constructors Are Inherited:\\nImplicit Call: When a child class object is created, the parent class's __init__ method is automatically called before the child class's __init__ method.\\nArgument Passing: The arguments passed to the child class's constructor are typically passed on to the parent class's constructor.\\nCustomizations: The child class's constructor can modify or extend the initialization process by adding its own code or using the super() function to call the parent class's constructor with different arguments.\""
      ]
     },
     "execution_count": 21,
     "metadata": {},
     "output_type": "execute_result"
    }
   ],
   "source": [
    "\"\"\"Constructor Inheritance in Python\n",
    "Constructor inheritance in Python refers to the way constructors are passed down from parent classes to child classes. While Python doesn't explicitly support constructor inheritance in the same way as some other languages, the concept is implicitly implemented through the __init__ method.\n",
    "\n",
    "How Constructors Are Inherited:\n",
    "Implicit Call: When a child class object is created, the parent class's __init__ method is automatically called before the child class's __init__ method.\n",
    "Argument Passing: The arguments passed to the child class's constructor are typically passed on to the parent class's constructor.\n",
    "Customizations: The child class's constructor can modify or extend the initialization process by adding its own code or using the super() function to call the parent class's constructor with different arguments.\"\"\""
   ]
  },
  {
   "cell_type": "code",
   "execution_count": 22,
   "id": "fb0a099f-edf9-461d-8bb4-5bd8f0ce3c86",
   "metadata": {},
   "outputs": [
    {
     "name": "stdout",
     "output_type": "stream",
     "text": [
      "78.53981633974483\n",
      "12\n"
     ]
    }
   ],
   "source": [
    "import math\n",
    "\n",
    "class Shape:\n",
    "    def area(self):\n",
    "        raise NotImplementedError(\"Area method must be implemented in child classes\")\n",
    "\n",
    "class Circle(Shape):\n",
    "    def __init__(self, radius):\n",
    "        self.radius = radius\n",
    "\n",
    "    def area(self):\n",
    "        return math.pi * self.radius ** 2\n",
    "\n",
    "class Rectangle(Shape):\n",
    "    def __init__(self, length, width):\n",
    "        self.length = length\n",
    "        self.width = width\n",
    "\n",
    "    def area(self):\n",
    "        return self.length * self.width\n",
    "\n",
    "\n",
    "circle = Circle(5)\n",
    "rectangle = Rectangle(4, 3)\n",
    "\n",
    "print(circle.area())  \n",
    "print(rectangle.area()) "
   ]
  },
  {
   "cell_type": "code",
   "execution_count": 23,
   "id": "1d353524-6f5c-490b-a1c5-2be69bec5ed3",
   "metadata": {},
   "outputs": [
    {
     "data": {
      "text/plain": [
       "\"Abstract Base Classes (ABCs) are a powerful tool in Python for defining the common interface that subclasses must implement. They provide a way to enforce a consistent structure and behavior among related classes, promoting code reusability and maintainability.\\n\\nKey features and benefits of ABCs:\\n\\nInterface definition: ABCs define the methods that subclasses must implement.\\nEnforced consistency: By requiring subclasses to implement specific methods, ABCs ensure that they have a common interface, making them more interchangeable and easier to use.\\nCode reusability: ABCs can be used to create reusable components that can be extended and customized by subclasses.\\nPolymorphism: ABCs are essential for achieving polymorphism, as they allow objects of different classes to be treated as if they were of the same type.\\nHow ABCs work:\\n\\nCreate an abstract base class: Use the abc module to create an abstract base class by inheriting from abc.ABC.\\nDefine abstract methods: Use the @abstractmethod decorator to mark methods as abstract. These methods must be implemented by subclasses.\\nCreate concrete subclasses: Subclasses of the ABC must implement all abstract methods.\\nUse instances of subclasses: Instances of concrete subclasses can be used interchangeably as long as they adhere to the ABC's interface.\""
      ]
     },
     "execution_count": 23,
     "metadata": {},
     "output_type": "execute_result"
    }
   ],
   "source": [
    "\"\"\"Abstract Base Classes (ABCs) are a powerful tool in Python for defining the common interface that subclasses must implement. They provide a way to enforce a consistent structure and behavior among related classes, promoting code reusability and maintainability.\n",
    "\n",
    "Key features and benefits of ABCs:\n",
    "\n",
    "Interface definition: ABCs define the methods that subclasses must implement.\n",
    "Enforced consistency: By requiring subclasses to implement specific methods, ABCs ensure that they have a common interface, making them more interchangeable and easier to use.\n",
    "Code reusability: ABCs can be used to create reusable components that can be extended and customized by subclasses.\n",
    "Polymorphism: ABCs are essential for achieving polymorphism, as they allow objects of different classes to be treated as if they were of the same type.\n",
    "How ABCs work:\n",
    "\n",
    "Create an abstract base class: Use the abc module to create an abstract base class by inheriting from abc.ABC.\n",
    "Define abstract methods: Use the @abstractmethod decorator to mark methods as abstract. These methods must be implemented by subclasses.\n",
    "Create concrete subclasses: Subclasses of the ABC must implement all abstract methods.\n",
    "Use instances of subclasses: Instances of concrete subclasses can be used interchangeably as long as they adhere to the ABC's interface.\"\"\""
   ]
  },
  {
   "cell_type": "code",
   "execution_count": 24,
   "id": "6812d043-0dc7-48c2-ba63-4cbd1c242001",
   "metadata": {},
   "outputs": [
    {
     "data": {
      "text/plain": [
       "' Use the @property Decorator:\\n Define Abstract Methods:'"
      ]
     },
     "execution_count": 24,
     "metadata": {},
     "output_type": "execute_result"
    }
   ],
   "source": [
    "\"\"\" Use the @property Decorator:\n",
    " Define Abstract Methods:\"\"\""
   ]
  },
  {
   "cell_type": "code",
   "execution_count": 25,
   "id": "6b9de6d3-7819-4e11-843e-a34d1184d4c4",
   "metadata": {},
   "outputs": [
    {
     "name": "stdout",
     "output_type": "stream",
     "text": [
      "John Doe\n",
      "50000\n",
      "Jane Smith\n",
      "75000\n",
      "Sales\n"
     ]
    }
   ],
   "source": [
    "class Employee:\n",
    "    def __init__(self, name, salary):\n",
    "        self.name = name\n",
    "        self.salary = salary\n",
    "\n",
    "class Manager(Employee):\n",
    "    def __init__(self, name, salary, department):\n",
    "        super().__init__(name, salary)\n",
    "        self.department = department\n",
    "\n",
    "# Example usage\n",
    "employee1 = Employee(\"John Doe\", 50000)\n",
    "manager1 = Manager(\"Jane Smith\", 75000, \"Sales\")\n",
    "\n",
    "print(employee1.name)  \n",
    "print(employee1.salary) \n",
    "\n",
    "print(manager1.name) \n",
    "print(manager1.salary) \n",
    "print(manager1.department)  "
   ]
  },
  {
   "cell_type": "code",
   "execution_count": 26,
   "id": "e53fecc5-4085-4b3c-99b1-d44cc2bb628d",
   "metadata": {},
   "outputs": [
    {
     "data": {
      "text/plain": [
       "\"Method overloading is not directly supported in Python. Unlike languages like Java or C++, Python does not allow multiple methods with the same name but different parameter lists within a class.\\n\\nInstead, Python uses duck typing, which means that the type of an object is determined by its behavior rather than its explicit class. This means that Python focuses on the methods and attributes an object has, rather than its declared type.\\n\\nMethod overriding, on the other hand, is supported in Python. It occurs when a child class defines a method with the same name as a method in its parent class. This allows the child class to provide a specific \\nimplementation for the method, overriding the parent class's version.\""
      ]
     },
     "execution_count": 26,
     "metadata": {},
     "output_type": "execute_result"
    }
   ],
   "source": [
    "\"\"\"Method overloading is not directly supported in Python. Unlike languages like Java or C++, Python does not allow multiple methods with the same name but different parameter lists within a class.\n",
    "\n",
    "Instead, Python uses duck typing, which means that the type of an object is determined by its behavior rather than its explicit class. This means that Python focuses on the methods and attributes an object has, rather than its declared type.\n",
    "\n",
    "Method overriding, on the other hand, is supported in Python. It occurs when a child class defines a method with the same name as a method in its parent class. This allows the child class to provide a specific \n",
    "implementation for the method, overriding the parent class's version.\"\"\""
   ]
  },
  {
   "cell_type": "code",
   "execution_count": 1,
   "id": "248b7fed-6a44-42a1-beca-2dd363e4bc45",
   "metadata": {},
   "outputs": [
    {
     "name": "stdout",
     "output_type": "stream",
     "text": [
      "Soaring high in the sky\n",
      "Flitting from branch to branch\n"
     ]
    }
   ],
   "source": [
    "class Bird:\n",
    "    def fly(self):\n",
    "        print(\"Flying...\")\n",
    "\n",
    "class Eagle(Bird):\n",
    "    def fly(self):\n",
    "        print(\"Soaring high in the sky\")\n",
    "\n",
    "class Sparrow(Bird):\n",
    "    def fly(self):\n",
    "        print(\"Flitting from branch to branch\")\n",
    "\n",
    "eagle = Eagle()\n",
    "sparrow = Sparrow()\n",
    "\n",
    "eagle.fly()  \n",
    "sparrow.fly()  "
   ]
  },
  {
   "cell_type": "code",
   "execution_count": 2,
   "id": "085777b8-cfe9-49e4-8fa7-af41d8007966",
   "metadata": {},
   "outputs": [
    {
     "data": {
      "text/plain": [
       "'The Diamond Problem in multiple inheritance occurs when a class inherits from two parent classes that have a common ancestor, creating a diamond-shaped hierarchy. This can lead to conflicts if both parent classes\\nhave methods with the same name, and it becomes unclear which method should be called.'"
      ]
     },
     "execution_count": 2,
     "metadata": {},
     "output_type": "execute_result"
    }
   ],
   "source": [
    "\"\"\"The Diamond Problem in multiple inheritance occurs when a class inherits from two parent classes that have a common ancestor, creating a diamond-shaped hierarchy. This can lead to conflicts if both parent classes\n",
    "have methods with the same name, and it becomes unclear which method should be called.\"\"\""
   ]
  },
  {
   "cell_type": "code",
   "execution_count": 4,
   "id": "c6828227-8247-4081-b66d-a9dd7fc08603",
   "metadata": {},
   "outputs": [
    {
     "data": {
      "text/plain": [
       "'A child class \"is a\" specialized version of its parent class. This implies that the child class inherits all the properties and behaviors of the parent class.\\nExample:\\nA Dog is a type of Animal.\\nA Car is a type of Vehicle.\\n\"Has-a\" Relationship\\n* **Definition:** A class \"has a\" reference to another class as an attribute. This indicates that an object of one class contains or uses an object of another class.\\n* **Example:**\\n - A `Person` \"has a\" `Address`.\\n - A `Car`python'"
      ]
     },
     "execution_count": 4,
     "metadata": {},
     "output_type": "execute_result"
    }
   ],
   "source": [
    " \"\"\"A child class \"is a\" specialized version of its parent class. This implies that the child class inherits all the properties and behaviors of the parent class.\n",
    "Example:\n",
    "A Dog is a type of Animal.\n",
    "A Car is a type of Vehicle.\n",
    "\"Has-a\" Relationship\n",
    "* **Definition:** A class \"has a\" reference to another class as an attribute. This indicates that an object of one class contains or uses an object of another class.\n",
    "* **Example:**\n",
    "  - A `Person` \"has a\" `Address`.\n",
    "  - A `Car`python\"\"\""
   ]
  },
  {
   "cell_type": "code",
   "execution_count": 5,
   "id": "87aaab7f-75b4-48b2-b442-53907e2f0874",
   "metadata": {},
   "outputs": [
    {
     "name": "stdout",
     "output_type": "stream",
     "text": [
      "Alice is studying Computer Science.\n",
      "Dr. Smith is teaching Calculus.\n"
     ]
    }
   ],
   "source": [
    "class Person:\n",
    "    def __init__(self, name, age):\n",
    "        self.name = name\n",
    "        self.age = age\n",
    "\n",
    "class Student(Person):\n",
    "    def __init__(self, name, age, student_id, major):\n",
    "        super().__init__(name, age)\n",
    "        self.student_id = student_id\n",
    "        self.major = major\n",
    "\n",
    "    def study(self):\n",
    "        print(f\"{self.name} is studying {self.major}.\")\n",
    "\n",
    "class Professor(Person):\n",
    "    def __init__(self, name, age, department):\n",
    "        super().__init__(name, age)\n",
    "        self.department = department\n",
    "\n",
    "    def teach(self, course):\n",
    "        print(f\"{self.name} is teaching {course}.\")\n",
    "\n",
    "\n",
    "student1 = Student(\"Alice\", 20, \"12345\", \"Computer Science\")\n",
    "professor1 = Professor(\"Dr. Smith\", 45, \"Mathematics\")\n",
    "\n",
    "student1.study()\n",
    "professor1.teach(\"Calculus\") "
   ]
  },
  {
   "cell_type": "code",
   "execution_count": 6,
   "id": "cae7576c-41d1-4568-b2e7-24ce24539613",
   "metadata": {},
   "outputs": [
    {
     "data": {
      "text/plain": [
       "'Encapsulation:\\n1. Explain the concept of encapsulation in Python. What is its role in object-oriented programming?\\n2. Describe the key principles of encapsulation, including access control and data hiding.\\n3. How can you achieve encapsulation in Python classes? Provide an example.\\n4. Discuss the difference between public, private, and protected access modifiers in Python.\\n5. Create a Python class called `Person` with a private attribute `__name`. Provide methods to get and set the\\nname attribute.\\n6. Explain the purpose of getter and setter methods in encapsulation. Provide examples.\\n7. What is name mangling in Python, and how does it affect encapsulation?\\n8. Create a Python class called `BankAccount` with private attributes for the account balance (`__balance`) and account number (`__account_number`). Provide methods for depositing and withdrawing money.\\n9. Discuss the advantages of encapsulation in terms of code maintainability and security.\\n10. How can you access private attributes in Python? Provide an example demonstrating the use of name\\nmangling.\\n11. Create a Python class hierarchy for a school system, including classes for students, teachers, and courses,\\nand implement encapsulation principles to protect sensitive information.\\n12. Explain the concept of property decorators in Python and how they relate to encapsulation.\\n13. What is data hiding, and why is it important in encapsulation? Provide examples.\\n14. Create a Python class called `Employee` with private attributes for salary (`__salary`) and employee ID (`__employee_id`). Provide a method to calculate yearly bonuses.\\n15. Discuss the use of accessors and mutators in encapsulation. How do they help maintain control over\\nattribute access?\\n16. What are the potential drawbacks or disadvantages of using encapsulation in Python?\\n17. Create a Python class for a library system that encapsulates book information, including titles, authors,\\nand availability status.\\n18. Explain how encapsulation enhances code reusability and modularity in Python programs.\\n19. Describe the concept of information hiding in encapsulation. Why is it essential in software development?\\n20. Create a Python class called `Customer` with private attributes for customer details like name, address,\\nand contact information. Implement encapsulation to ensure data integrity and security.'"
      ]
     },
     "execution_count": 6,
     "metadata": {},
     "output_type": "execute_result"
    }
   ],
   "source": [
    "\"\"\"Encapsulation:\n",
    "1. Explain the concept of encapsulation in Python. What is its role in object-oriented programming?\n",
    "2. Describe the key principles of encapsulation, including access control and data hiding.\n",
    "3. How can you achieve encapsulation in Python classes? Provide an example.\n",
    "4. Discuss the difference between public, private, and protected access modifiers in Python.\n",
    "5. Create a Python class called `Person` with a private attribute `__name`. Provide methods to get and set the\n",
    "name attribute.\n",
    "6. Explain the purpose of getter and setter methods in encapsulation. Provide examples.\n",
    "7. What is name mangling in Python, and how does it affect encapsulation?\n",
    "8. Create a Python class called `BankAccount` with private attributes for the account balance (`__balance`) and account number (`__account_number`). Provide methods for depositing and withdrawing money.\n",
    "9. Discuss the advantages of encapsulation in terms of code maintainability and security.\n",
    "10. How can you access private attributes in Python? Provide an example demonstrating the use of name\n",
    "mangling.\n",
    "11. Create a Python class hierarchy for a school system, including classes for students, teachers, and courses,\n",
    "and implement encapsulation principles to protect sensitive information.\n",
    "12. Explain the concept of property decorators in Python and how they relate to encapsulation.\n",
    "13. What is data hiding, and why is it important in encapsulation? Provide examples.\n",
    "14. Create a Python class called `Employee` with private attributes for salary (`__salary`) and employee ID (`__employee_id`). Provide a method to calculate yearly bonuses.\n",
    "15. Discuss the use of accessors and mutators in encapsulation. How do they help maintain control over\n",
    "attribute access?\n",
    "16. What are the potential drawbacks or disadvantages of using encapsulation in Python?\n",
    "17. Create a Python class for a library system that encapsulates book information, including titles, authors,\n",
    "and availability status.\n",
    "18. Explain how encapsulation enhances code reusability and modularity in Python programs.\n",
    "19. Describe the concept of information hiding in encapsulation. Why is it essential in software development?\n",
    "20. Create a Python class called `Customer` with private attributes for customer details like name, address,\n",
    "and contact information. Implement encapsulation to ensure data integrity and security.\"\"\""
   ]
  },
  {
   "cell_type": "code",
   "execution_count": 8,
   "id": "d273abc1-ab18-4b4c-aec2-d4b0c39fa6b0",
   "metadata": {},
   "outputs": [
    {
     "data": {
      "text/plain": [
       "\"Encapsulation is a fundamental principle in object-oriented programming (OOP) that bundles data (attributes) and methods (functions) that operate on that data into a single unit, called an object. This bundling helps in:\\n\\nData Hiding: Encapsulation allows you to control access to the internal state of an object. You can make certain attributes or methods private (accessible only within the class), while others can be public (accessible from outside the class). This protects the object's data integrity and prevents unintended modifications.\\n\\nModularity: By encapsulating related data and methods into a single object, you can create well-defined, reusable components. This promotes modularity and makes your code easier to understand, maintain, and test.\\n\\nAbstraction: Encapsulation allows you to abstract away the implementation details of an object, providing a clear interface for interacting with it. This means you can use an object without needing to know how it works internally.\\nRole in Object-Oriented Programming\\n\\nEncapsulation is crucial in OOP for several reasons:\\n\\nData Security: It protects the internal state of an object from unauthorized access, ensuring data integrity and preventing unintended modifications.\\nCode Reusability: By creating well-defined objects with encapsulated data and methods, you can reuse them in different parts of your program, promoting code efficiency.\\nMaintainability: Encapsulation makes code easier to maintain by separating concerns and improving code organization.\\nAbstraction: It allows you to abstract away implementation details, providing a clear interface for interacting with objects, making your code more readable and understandable.\""
      ]
     },
     "execution_count": 8,
     "metadata": {},
     "output_type": "execute_result"
    }
   ],
   "source": [
    "\"\"\"Encapsulation is a fundamental principle in object-oriented programming (OOP) that bundles data (attributes) and methods (functions) that operate on that data into a single unit, called an object. This bundling helps in:\n",
    "\n",
    "Data Hiding: Encapsulation allows you to control access to the internal state of an object. You can make certain attributes or methods private (accessible only within the class), while others can be public (accessible from outside the class). This protects the object's data integrity and prevents unintended modifications.\n",
    "\n",
    "Modularity: By encapsulating related data and methods into a single object, you can create well-defined, reusable components. This promotes modularity and makes your code easier to understand, maintain, and test.\n",
    "\n",
    "Abstraction: Encapsulation allows you to abstract away the implementation details of an object, providing a clear interface for interacting with it. This means you can use an object without needing to know how it works internally.\n",
    "Role in Object-Oriented Programming\n",
    "\n",
    "Encapsulation is crucial in OOP for several reasons:\n",
    "\n",
    "Data Security: It protects the internal state of an object from unauthorized access, ensuring data integrity and preventing unintended modifications.\n",
    "Code Reusability: By creating well-defined objects with encapsulated data and methods, you can reuse them in different parts of your program, promoting code efficiency.\n",
    "Maintainability: Encapsulation makes code easier to maintain by separating concerns and improving code organization.\n",
    "Abstraction: It allows you to abstract away implementation details, providing a clear interface for interacting with objects, making your code more readable and understandable.\"\"\""
   ]
  },
  {
   "cell_type": "code",
   "execution_count": 9,
   "id": "34cd62d7-5221-4523-aeaa-c2bb958330b7",
   "metadata": {},
   "outputs": [
    {
     "data": {
      "text/plain": [
       "\"1. Access Control : public,private & protected\\n2. Data Hiding: Data hiding is the practice of restricting direct access to an object's internal state. It ensures that\\ndata is manipulated only through well-defined methods, which can enforce consistency and prevent unintended modifications.\""
      ]
     },
     "execution_count": 9,
     "metadata": {},
     "output_type": "execute_result"
    }
   ],
   "source": [
    "\"\"\"1. Access Control : public,private & protected\n",
    "2. Data Hiding: Data hiding is the practice of restricting direct access to an object's internal state. It ensures that\n",
    "data is manipulated only through well-defined methods, which can enforce consistency and prevent unintended modifications.\"\"\""
   ]
  },
  {
   "cell_type": "code",
   "execution_count": 11,
   "id": "031f0416-a2f0-4835-8011-95fa196785ef",
   "metadata": {},
   "outputs": [],
   "source": [
    "\"\"\"Encapsulation in Python is primarily achieved through private attributes and public methods. By making attributes private, you restrict direct access from outside the class, \n",
    "ensuring that data is manipulated only through well-defined methods.\"\"\"\n",
    "class BankAccount:\n",
    "    def __init__(self, account_number, balance):\n",
    "        self.__account_number = account_number\n",
    "        self.__balance = balance\n",
    "\n",
    "    def get_balance(self):\n",
    "        return self.__balance\n",
    "\n",
    "    def deposit(self, amount):\n",
    "        if amount > 0:\n",
    "            self.__balance += amount\n",
    "            print(\"Deposit successful.\")\n",
    "        else:\n",
    "            print(\"Invalid deposit amount.\")\n",
    "\n",
    "    def withdraw(self, amount):\n",
    "        if amount > 0 and amount <= self.__balance:\n",
    "            self.__balance -= amount\n",
    "            print(\"Withdrawal successful.\")\n",
    "        else:\n",
    "            print(\"Insufficient funds or invalid withdrawal amount.\")"
   ]
  },
  {
   "cell_type": "code",
   "execution_count": 12,
   "id": "48a4399d-1203-48a8-ad8d-d83ef8f0b6fc",
   "metadata": {},
   "outputs": [
    {
     "data": {
      "text/plain": [
       "\"Access Modifiers in Python: Public, Private, and Protected\\nWhile Python doesn't have explicit keywords for public, private, and protected access modifiers like languages like Java or C++, it uses a convention to indicate the intended access level of attributes and methods:\\n\\n1. Public Access\\nDefault: By default, all attributes and methods in a Python class are public. This means they can be accessed from anywhere within or outside the class.\\nNo special notation: There's no specific keyword or symbol to denote public access.\\n2. Private Access\\nDouble underscores: Attributes and methods prefixed with double underscores (__) are considered private. This is a convention, not a strict rule.\\nName mangling: Python performs name mangling on private attributes and methods to make it harder (but not impossible) to access them from outside the class. For example, __attribute becomes _ClassName__attribute.\\n3. Protected Access\\nSingle underscore: Attributes and methods prefixed with a single underscore (_) are considered protected. This is also a convention, not a strict rule.\\nIntended for internal use: Protected members are intended for internal use within the class and its subclasses. While they can be accessed from outside the class, it's generally discouraged to do so.\""
      ]
     },
     "execution_count": 12,
     "metadata": {},
     "output_type": "execute_result"
    }
   ],
   "source": [
    "\"\"\"Access Modifiers in Python: Public, Private, and Protected\n",
    "While Python doesn't have explicit keywords for public, private, and protected access modifiers like languages like Java or C++, it uses a convention to indicate the intended access level of attributes and methods:\n",
    "\n",
    "1. Public Access\n",
    "Default: By default, all attributes and methods in a Python class are public. This means they can be accessed from anywhere within or outside the class.\n",
    "No special notation: There's no specific keyword or symbol to denote public access.\n",
    "2. Private Access\n",
    "Double underscores: Attributes and methods prefixed with double underscores (__) are considered private. This is a convention, not a strict rule.\n",
    "Name mangling: Python performs name mangling on private attributes and methods to make it harder (but not impossible) to access them from outside the class. For example, __attribute becomes _ClassName__attribute.\n",
    "3. Protected Access\n",
    "Single underscore: Attributes and methods prefixed with a single underscore (_) are considered protected. This is also a convention, not a strict rule.\n",
    "Intended for internal use: Protected members are intended for internal use within the class and its subclasses. While they can be accessed from outside the class, it's generally discouraged to do so.\"\"\""
   ]
  },
  {
   "cell_type": "code",
   "execution_count": 13,
   "id": "e99c2756-ec4e-46fb-b4f7-6eb7c3cdbed2",
   "metadata": {},
   "outputs": [
    {
     "name": "stdout",
     "output_type": "stream",
     "text": [
      "Alice\n"
     ]
    }
   ],
   "source": [
    "class Person:\n",
    "    def __init__(self, name=\"\"):\n",
    "        self.__name = name\n",
    "    def get_name(self):\n",
    "        return self.__name\n",
    "    def set_name(self, name):\n",
    "        self.__name = name\n",
    "person = Person()\n",
    "person.set_name(\"Alice\")\n",
    "print(person.get_name())  \n"
   ]
  },
  {
   "cell_type": "code",
   "execution_count": 14,
   "id": "adc7af87-b06b-4839-b5ae-c1fb4185db15",
   "metadata": {},
   "outputs": [
    {
     "name": "stdout",
     "output_type": "stream",
     "text": [
      "Account Balance: 1000\n",
      "Updated Balance: 1500\n",
      "Invalid balance. Balance cannot be negative.\n",
      "Balance after invalid operation: 1500\n"
     ]
    }
   ],
   "source": [
    "\"\"\"Getter Methods:\n",
    "Getter methods allow controlled access to private attributes.\n",
    "They provide a way to retrieve the value of a private attribute without giving direct access to it.\n",
    "Setter Methods:\n",
    "Setter methods allow controlled modification of private attributes.\n",
    "They ensure that any changes to the attribute are validated or modified before being\"\"\"\n",
    "class BankAccount:\n",
    "    def __init__(self, account_holder, balance=0):\n",
    "        self.__account_holder = account_holder  # Private attribute\n",
    "        self.__balance = balance  # Private attribute\n",
    "\n",
    "    # Getter for account holder\n",
    "    def get_account_holder(self):\n",
    "        return self.__account_holder\n",
    "\n",
    "    # Setter for account holder (no special validation here)\n",
    "    def set_account_holder(self, name):\n",
    "        self.__account_holder = name\n",
    "\n",
    "    # Getter for balance\n",
    "    def get_balance(self):\n",
    "        return self.__balance\n",
    "\n",
    "    # Setter for balance (with validation)\n",
    "    def set_balance(self, amount):\n",
    "        if amount >= 0:\n",
    "            self.__balance = amount\n",
    "        else:\n",
    "            print(\"Invalid balance. Balance cannot be negative.\")\n",
    "\n",
    "account = BankAccount(\"Alice\", 1000)\n",
    "\n",
    "# Using getter to access balance\n",
    "print(\"Account Balance:\", account.get_balance())  # Output: 1000\n",
    "\n",
    "# Using setter to modify balance (valid amount)\n",
    "account.set_balance(1500)\n",
    "print(\"Updated Balance:\", account.get_balance())  # Output: 1500\n",
    "\n",
    "# Using setter to modify balance (invalid amount)\n",
    "account.set_balance(-500)  # Output: Invalid balance. Balance cannot be negative.\n",
    "print(\"Balance after invalid operation:\", account.get_balance())  # Output: 1500\n"
   ]
  },
  {
   "cell_type": "code",
   "execution_count": 15,
   "id": "ae810e9a-9a69-4623-a677-895b30e38e6e",
   "metadata": {},
   "outputs": [
    {
     "data": {
      "text/plain": [
       "'In Python, name mangling is a technique used to make class attributes (and methods) more secure by renaming them in a way that makes them harder to accidentally access or modify from outside the class. This typically happens when an attribute\\'s or method\\'s name begins with two leading underscores (__), making it \"private.\"\\n\\nPython internally changes the name of the attribute to include the class name in front of it. This is done to avoid accidental name collisions in subclasses and to help with encapsulation.\\n\\nHow Name Mangling Works\\nWhen an attribute name begins with double underscores, Python renames the attribute using the pattern _ClassName__AttributeName. This is called name mangling.\\nHow It Affects Encapsulation\\nEncapsulation and Access Control:\\n\\nName mangling reinforces the concept of encapsulation by making private attributes harder to access or modify from outside the class. This helps prevent accidental or unauthorized modifications.\\nHowever, Python\\'s name mangling is not a true private access modifier like in other languages (e.g., private in Java or C++). A determined user can still access the attribute if they know the mangling pattern (e.g., obj._ClassName__AttributeName).\\nAvoiding Naming Conflicts:\\n\\nName mangling helps prevent accidental attribute name collisions in subclasses. For example, if both a parent and a child class define an attribute with the same name but the parent class uses double underscores, the mangling ensures that the two attributes don’t conflict.'"
      ]
     },
     "execution_count": 15,
     "metadata": {},
     "output_type": "execute_result"
    }
   ],
   "source": [
    "\"\"\"In Python, name mangling is a technique used to make class attributes (and methods) more secure by renaming them in a way that makes them harder to accidentally access or modify from outside the class. This typically happens when an attribute's or method's name begins with two leading underscores (__), making it \"private.\"\n",
    "\n",
    "Python internally changes the name of the attribute to include the class name in front of it. This is done to avoid accidental name collisions in subclasses and to help with encapsulation.\n",
    "\n",
    "How Name Mangling Works\n",
    "When an attribute name begins with double underscores, Python renames the attribute using the pattern _ClassName__AttributeName. This is called name mangling.\n",
    "How It Affects Encapsulation\n",
    "Encapsulation and Access Control:\n",
    "\n",
    "Name mangling reinforces the concept of encapsulation by making private attributes harder to access or modify from outside the class. This helps prevent accidental or unauthorized modifications.\n",
    "However, Python's name mangling is not a true private access modifier like in other languages (e.g., private in Java or C++). A determined user can still access the attribute if they know the mangling pattern (e.g., obj._ClassName__AttributeName).\n",
    "Avoiding Naming Conflicts:\n",
    "\n",
    "Name mangling helps prevent accidental attribute name collisions in subclasses. For example, if both a parent and a child class define an attribute with the same name but the parent class uses double underscores, the mangling ensures that the two attributes don’t conflict.\"\"\"\n"
   ]
  },
  {
   "cell_type": "code",
   "execution_count": 16,
   "id": "bdd26fc5-2997-4329-80cd-d59d3e758273",
   "metadata": {},
   "outputs": [
    {
     "data": {
      "text/plain": [
       "\"\\n1. Improved Code Maintainability\\nEncapsulation helps create more modular, maintainable code by organizing data and functions into cohesive units (classes). Here's how it contributes to maintainability:\\n\\nSeparation of Concerns: Encapsulation separates an object's internal workings from its external interface. This allows developers to modify the internal logic of a class without impacting the rest of the program, as long as the public interface (getter and setter methods) remains the same.\\n\\nEase of Refactoring: Since internal attributes are hidden, changing how data is stored or calculated internally can be done without needing to modify external code that interacts with the object. This makes refactoring less risky and easier.\\n\\nReduction of Complexity: Encapsulation allows for the creation of well-defined interfaces for interacting with data. This reduces the cognitive load on developers, as they only need to focus on what the class does, rather than how it does it.\\n\\nCode Reusability: Encapsulation allows developers to create well-defined, reusable objects. These encapsulated objects can be used across different parts of an application without needing to understand or worry about their internal implementation.\""
      ]
     },
     "execution_count": 16,
     "metadata": {},
     "output_type": "execute_result"
    }
   ],
   "source": [
    "\"\"\"\n",
    "1. Improved Code Maintainability\n",
    "Encapsulation helps create more modular, maintainable code by organizing data and functions into cohesive units (classes). Here's how it contributes to maintainability:\n",
    "\n",
    "Separation of Concerns: Encapsulation separates an object's internal workings from its external interface. This allows developers to modify the internal logic of a class without impacting the rest of the program, as long as the public interface (getter and setter methods) remains the same.\n",
    "\n",
    "Ease of Refactoring: Since internal attributes are hidden, changing how data is stored or calculated internally can be done without needing to modify external code that interacts with the object. This makes refactoring less risky and easier.\n",
    "\n",
    "Reduction of Complexity: Encapsulation allows for the creation of well-defined interfaces for interacting with data. This reduces the cognitive load on developers, as they only need to focus on what the class does, rather than how it does it.\n",
    "\n",
    "Code Reusability: Encapsulation allows developers to create well-defined, reusable objects. These encapsulated objects can be used across different parts of an application without needing to understand or worry about their internal implementation.\"\"\""
   ]
  },
  {
   "cell_type": "code",
   "execution_count": 17,
   "id": "df3bc0cf-c66e-488c-a36f-c6ac6f59606e",
   "metadata": {},
   "outputs": [
    {
     "name": "stdout",
     "output_type": "stream",
     "text": [
      "Name: Alice, Salary: 50000\n",
      "Alice\n",
      "50000\n"
     ]
    }
   ],
   "source": [
    "class Employee:\n",
    "    def __init__(self, name, salary):\n",
    "        self.__name = name  # Private attribute\n",
    "        self.__salary = salary  # Private attribute\n",
    "\n",
    "    def get_details(self):\n",
    "        return f\"Name: {self.__name}, Salary: {self.__salary}\"\n",
    "\n",
    "# Creating an instance of the Employee class\n",
    "employee = Employee(\"Alice\", 50000)\n",
    "\n",
    "# Accessing private attributes using getter methods\n",
    "print(employee.get_details())  # Output: Name: Alice, Salary: 50000\n",
    "\n",
    "# Trying to access the private attributes directly (will raise an error)\n",
    "# print(employee.__name)  # AttributeError: 'Employee' object has no attribute '__name'\n",
    "\n",
    "# Accessing private attributes using name mangling\n",
    "print(employee._Employee__name)   \n",
    "print(employee._Employee__salary) \n"
   ]
  },
  {
   "cell_type": "code",
   "execution_count": 18,
   "id": "0b7aea64-ad89-42a4-91a5-4b640c9296b5",
   "metadata": {},
   "outputs": [
    {
     "name": "stdout",
     "output_type": "stream",
     "text": [
      "{'Course Name': 'Mathematics', 'Teacher': 'Mr. Smith', 'Enrolled Students': ['Alice', 'Bob']}\n",
      "{'Mathematics': 'A'}\n",
      "{'Mathematics': 'B'}\n"
     ]
    }
   ],
   "source": [
    "# Base class for a person in the school system (could be student or teacher)\n",
    "class Person:\n",
    "    def __init__(self, name, age, id_number):\n",
    "        self.__name = name        # Private attribute\n",
    "        self.__age = age          # Private attribute\n",
    "        self.__id_number = id_number  # Private attribute (e.g., school ID)\n",
    "\n",
    "    # Getter for name\n",
    "    def get_name(self):\n",
    "        return self.__name\n",
    "\n",
    "    # Getter for age\n",
    "    def get_age(self):\n",
    "        return self.__age\n",
    "\n",
    "    # Getter for ID number\n",
    "    def get_id_number(self):\n",
    "        return self.__id_number\n",
    "\n",
    "    # Setter for name (validation can be added)\n",
    "    def set_name(self, name):\n",
    "        self.__name = name\n",
    "\n",
    "    # Setter for age (validation can be added)\n",
    "    def set_age(self, age):\n",
    "        if age > 0:\n",
    "            self.__age = age\n",
    "        else:\n",
    "            print(\"Invalid age\")\n",
    "\n",
    "# Student class inheriting from Person\n",
    "class Student(Person):\n",
    "    def __init__(self, name, age, id_number, grades=None):\n",
    "        super().__init__(name, age, id_number)\n",
    "        self.__grades = grades if grades is not None else {}  # Private attribute to store grades\n",
    "\n",
    "    # Add or update grades for a course\n",
    "    def add_grade(self, course, grade):\n",
    "        self.__grades[course] = grade\n",
    "\n",
    "    # Get the grades for a student (read-only)\n",
    "    def get_grades(self):\n",
    "        return self.__grades\n",
    "\n",
    "# Teacher class inheriting from Person\n",
    "class Teacher(Person):\n",
    "    def __init__(self, name, age, id_number, subject):\n",
    "        super().__init__(name, age, id_number)\n",
    "        self.__subject = subject  # Private attribute\n",
    "\n",
    "    # Getter for subject\n",
    "    def get_subject(self):\n",
    "        return self.__subject\n",
    "\n",
    "    # Setter for subject\n",
    "    def set_subject(self, subject):\n",
    "        self.__subject = subject\n",
    "\n",
    "# Course class that associates students and teachers\n",
    "class Course:\n",
    "    def __init__(self, course_name, teacher):\n",
    "        self.__course_name = course_name  # Private attribute\n",
    "        self.__teacher = teacher          # Private attribute (only the teacher assigned to the course)\n",
    "        self.__students = []              # List to store students enrolled in the course\n",
    "\n",
    "    # Add student to the course\n",
    "    def enroll_student(self, student):\n",
    "        self.__students.append(student)\n",
    "\n",
    "    # Get the list of students in the course\n",
    "    def get_students(self):\n",
    "        return [student.get_name() for student in self.__students]\n",
    "\n",
    "    # Get course details (e.g., course name and teacher)\n",
    "    def get_course_details(self):\n",
    "        return {\n",
    "            \"Course Name\": self.__course_name,\n",
    "            \"Teacher\": self.__teacher.get_name(),\n",
    "            \"Enrolled Students\": self.get_students()\n",
    "        }\n",
    "\n",
    "# Example usage of the class hierarchy\n",
    "# Creating a teacher\n",
    "teacher = Teacher(\"Mr. Smith\", 40, \"T001\", \"Mathematics\")\n",
    "\n",
    "# Creating students\n",
    "student1 = Student(\"Alice\", 18, \"S001\")\n",
    "student2 = Student(\"Bob\", 19, \"S002\")\n",
    "\n",
    "# Adding grades for students\n",
    "student1.add_grade(\"Mathematics\", \"A\")\n",
    "student2.add_grade(\"Mathematics\", \"B\")\n",
    "\n",
    "# Creating a course\n",
    "math_course = Course(\"Mathematics\", teacher)\n",
    "\n",
    "# Enrolling students in the course\n",
    "math_course.enroll_student(student1)\n",
    "math_course.enroll_student(student2)\n",
    "\n",
    "# Retrieving course details\n",
    "course_details = math_course.get_course_details()\n",
    "print(course_details)\n",
    "# Output:\n",
    "# {\n",
    "#     'Course Name': 'Mathematics',\n",
    "#     'Teacher': 'Mr. Smith',\n",
    "#     'Enrolled Students': ['Alice', 'Bob']\n",
    "# }\n",
    "\n",
    "# Accessing student grades (through encapsulation)\n",
    "print(student1.get_grades())  # Output: {'Mathematics': 'A'}\n",
    "print(student2.get_grades())  # Output: {'Mathematics': 'B'}\n"
   ]
  },
  {
   "cell_type": "code",
   "execution_count": 19,
   "id": "c7f27d4b-90fd-4b63-b001-bbe8e5bad6d8",
   "metadata": {},
   "outputs": [
    {
     "data": {
      "text/plain": [
       "\"\\nConcept of Property Decorators in Python\\nIn Python, property decorators (@property) provide a way to manage access to attributes using method calls, but allow these methods to be accessed like attributes. This is particularly useful in encapsulation, where you want to control access to private attributes but still provide a clean, user-friendly interface for interacting with those attributes.\\n\\nProperty decorators allow you to define:\\n\\nA getter method using @property.\\nA setter method using @attribute_name.setter.\\nAn optional deleter method using @attribute_name.deleter.\\nHow Property Decorators Relate to Encapsulation\\nEncapsulation aims to restrict direct access to an object's attributes while still allowing controlled access through methods. Property decorators enhance this concept by allowing you to:\\n\\nEncapsulate data without changing the syntax used by clients of your class.\\nHide implementation details while providing a clean and readable interface.\\nAdd validation logic in setter methods without exposing the internal representation of the attribute.\\nProperty decorators make the syntax for getting and setting values more intuitive, as you don’t need to explicitly call getter or setter methods. Instead, Python treats the method calls as if they were attribute access.\""
      ]
     },
     "execution_count": 19,
     "metadata": {},
     "output_type": "execute_result"
    }
   ],
   "source": [
    "\"\"\"\n",
    "Concept of Property Decorators in Python\n",
    "In Python, property decorators (@property) provide a way to manage access to attributes using method calls, but allow these methods to be accessed like attributes. This is particularly useful in encapsulation, where you want to control access to private attributes but still provide a clean, user-friendly interface for interacting with those attributes.\n",
    "\n",
    "Property decorators allow you to define:\n",
    "\n",
    "A getter method using @property.\n",
    "A setter method using @attribute_name.setter.\n",
    "An optional deleter method using @attribute_name.deleter.\n",
    "How Property Decorators Relate to Encapsulation\n",
    "Encapsulation aims to restrict direct access to an object's attributes while still allowing controlled access through methods. Property decorators enhance this concept by allowing you to:\n",
    "\n",
    "Encapsulate data without changing the syntax used by clients of your class.\n",
    "Hide implementation details while providing a clean and readable interface.\n",
    "Add validation logic in setter methods without exposing the internal representation of the attribute.\n",
    "Property decorators make the syntax for getting and setting values more intuitive, as you don’t need to explicitly call getter or setter methods. Instead, Python treats the method calls as if they were attribute access.\"\"\""
   ]
  },
  {
   "cell_type": "code",
   "execution_count": 21,
   "id": "3fa6b9d2-7e72-4906-b4ee-8efcb9466841",
   "metadata": {},
   "outputs": [
    {
     "data": {
      "text/plain": [
       "'\\nWhat is Data Hiding?\\nData hiding is a principle in object-oriented programming (OOP) that restricts direct access to an object’s internal attributes or data. It is a fundamental aspect of encapsulation, \\nwhere internal data is \"hidden\" from outside access and can only be accessed or modified through controlled interfaces like getter and setter methods.\\n\\nIn Python, data hiding is typically achieved by marking attributes as private using a double underscore prefix (__). \\nThis prevents accidental or unauthorized access to sensitive or important data, allowing developers to control how and when data is accessed or modified.'"
      ]
     },
     "execution_count": 21,
     "metadata": {},
     "output_type": "execute_result"
    }
   ],
   "source": [
    "\"\"\"\n",
    "What is Data Hiding?\n",
    "Data hiding is a principle in object-oriented programming (OOP) that restricts direct access to an object’s internal attributes or data. It is a fundamental aspect of encapsulation, \n",
    "where internal data is \"hidden\" from outside access and can only be accessed or modified through controlled interfaces like getter and setter methods.\n",
    "\n",
    "In Python, data hiding is typically achieved by marking attributes as private using a double underscore prefix (__). \n",
    "This prevents accidental or unauthorized access to sensitive or important data, allowing developers to control how and when data is accessed or modified.\"\"\""
   ]
  },
  {
   "cell_type": "code",
   "execution_count": 22,
   "id": "15c9367e-af68-4cfb-a973-b6936ef5b8e7",
   "metadata": {},
   "outputs": [
    {
     "name": "stdout",
     "output_type": "stream",
     "text": [
      "Yearly Bonus for 10%: $5000.00\n",
      "{'Name': 'John Doe', 'Salary': 50000, 'Employee ID': 'E12345'}\n",
      "Updated Salary: $55000\n",
      "Invalid bonus percentage. Must be between 0 and 100.\n"
     ]
    },
    {
     "data": {
      "text/plain": [
       "0"
      ]
     },
     "execution_count": 22,
     "metadata": {},
     "output_type": "execute_result"
    }
   ],
   "source": [
    "class Employee:\n",
    "    def __init__(self, name, salary, employee_id):\n",
    "        self.__name = name                # Private attribute for employee's name\n",
    "        self.__salary = salary            # Private attribute for employee's salary\n",
    "        self.__employee_id = employee_id  # Private attribute for employee's ID\n",
    "\n",
    "    # Method to calculate yearly bonus\n",
    "    def calculate_yearly_bonus(self, bonus_percentage):\n",
    "        if 0 <= bonus_percentage <= 100:\n",
    "            return self.__salary * (bonus_percentage / 100)\n",
    "        else:\n",
    "            print(\"Invalid bonus percentage. Must be between 0 and 100.\")\n",
    "            return 0\n",
    "\n",
    "    # Getter for employee details\n",
    "    def get_employee_details(self):\n",
    "        return {\n",
    "            \"Name\": self.__name,\n",
    "            \"Salary\": self.__salary,\n",
    "            \"Employee ID\": self.__employee_id\n",
    "        }\n",
    "\n",
    "    # Setter for salary (with validation, if needed)\n",
    "    def set_salary(self, salary):\n",
    "        if salary >= 0:\n",
    "            self.__salary = salary\n",
    "        else:\n",
    "            print(\"Invalid salary. Must be non-negative.\")\n",
    "\n",
    "    # Getter for salary (read-only access)\n",
    "    def get_salary(self):\n",
    "        return self.__salary\n",
    "\n",
    "# Example usage of the Employee class\n",
    "employee = Employee(\"John Doe\", 50000, \"E12345\")\n",
    "\n",
    "# Calculate yearly bonus\n",
    "bonus_percentage = 10\n",
    "yearly_bonus = employee.calculate_yearly_bonus(bonus_percentage)\n",
    "print(f\"Yearly Bonus for {bonus_percentage}%: ${yearly_bonus:.2f}\")\n",
    "\n",
    "# Access employee details\n",
    "details = employee.get_employee_details()\n",
    "print(details)\n",
    "\n",
    "# Update and retrieve salary\n",
    "employee.set_salary(55000)\n",
    "print(f\"Updated Salary: ${employee.get_salary()}\")\n",
    "\n",
    "# Attempting to calculate bonus with an invalid percentage\n",
    "employee.calculate_yearly_bonus(110)  # Output: Invalid bonus percentage. Must be between 0 and 100.\n"
   ]
  },
  {
   "cell_type": "code",
   "execution_count": null,
   "id": "d51f5197-6be2-4859-b18f-c3d047067a36",
   "metadata": {},
   "outputs": [],
   "source": [
    "\"\"\"Accessors and mutators are methods used in object-oriented programming (OOP) to manage access to an object's attributes. They are integral to the concept of encapsulation, which involves hiding the internal state of an object and only exposing a controlled interface for interaction.\n",
    "\n",
    "Accessors (Getters)\n",
    "Accessors are methods that allow you to retrieve the value of an object's private attributes. They are commonly referred to as getters. Accessors provide a controlled way to access attribute values without exposing the attributes directly.\n",
    "\n",
    "Purpose:\n",
    "Read-Only Access: They provide a way to read attribute values without allowing direct modification.\n",
    "Encapsulation: They help in maintaining encapsulation by restricting direct access to internal data.\n",
    "Validation: They can also perform additional logic or formatting when returning attribute values.\n",
    "Mutators (Setters)\n",
    "Mutators are methods that allow you to modify the value of an object's private attributes. They are commonly referred to as setters. Mutators provide a controlled way to change attribute values while enforcing validation or additional logic.\n",
    "\n",
    "Purpose:\n",
    "Controlled Modification: They allow you to update attributes with validation or constraints, ensuring the integrity of the data.\n",
    "Encapsulation: They help in maintaining encapsulation by controlling how data is modified and ensuring that invalid data cannot be set.\n",
    "Side Effects: They can trigger additional actions or updates when attributes are changed.\"\"\"\n"
   ]
  },
  {
   "cell_type": "code",
   "execution_count": 23,
   "id": "c072153a-269f-4ece-8295-fe68464521a6",
   "metadata": {},
   "outputs": [
    {
     "data": {
      "text/plain": [
       "'Encapsulation, while a fundamental principle in object-oriented programming, has some potential drawbacks or disadvantages in Python. Here’s a detailed look at these potential issues:\\n\\n1. Increased Complexity\\nLearning Curve: For beginners, understanding and implementing encapsulation can add complexity. The use of private attributes and methods, along with getters and setters, may seem cumbersome compared to more straightforward data access.\\nCode Overhead: Encapsulation often requires additional methods for accessing and modifying private attributes, which can lead to more verbose code and potentially harder-to-read classes.\\n2. Potential for Over-Encapsulation\\nUnnecessary Complexity: Excessive encapsulation can lead to overly complex class designs where the benefits of hiding internal details are outweighed by the complexity of the code. It’s important to strike a balance between hiding details and maintaining simplicity.\\nDifficulty in Accessing Data: Overly strict encapsulation can make it difficult to access necessary data or perform tasks, leading to cumbersome workarounds or inefficient code.\\n3. Performance Overheads\\nMethod Calls: Using getter and setter methods introduces additional method calls compared to direct attribute access. In performance-critical applications, this overhead might be noticeable, though in most cases, it is negligible.\\nAttribute Access: If accessors and mutators involve complex logic, this can add overhead compared to directly accessing attributes.\\n4. Reduced Flexibility\\nTightly Coupled Code: Encapsulation can lead to tightly coupled code if getter and setter methods are used extensively across different parts of the codebase. Changes in these methods can ripple through the code, potentially causing issues.\\nRefactoring Challenges: Refactoring classes with extensive encapsulation can be more challenging because changes in private attributes or methods require careful updates to corresponding accessors and mutators.\\n5. Bypassing Encapsulation\\nName Mangling: Python uses name mangling for private attributes (e.g., __attribute). However, this is not true access control, as attributes can still be accessed via their mangled names (e.g., _ClassName__attribute). This can be used to bypass encapsulation, leading to potential misuse or unintended side effects.\\n6. Reduced Readability\\nVerbose Access: Code that relies heavily on getters and setters can become verbose, making it harder to read and understand compared to direct attribute access. This can impact the maintainability of the code, especially if the access methods are not well-documented.'"
      ]
     },
     "execution_count": 23,
     "metadata": {},
     "output_type": "execute_result"
    }
   ],
   "source": [
    "\"\"\"Encapsulation, while a fundamental principle in object-oriented programming, has some potential drawbacks or disadvantages in Python. Here’s a detailed look at these potential issues:\n",
    "\n",
    "1. Increased Complexity\n",
    "Learning Curve: For beginners, understanding and implementing encapsulation can add complexity. The use of private attributes and methods, along with getters and setters, may seem cumbersome compared to more straightforward data access.\n",
    "Code Overhead: Encapsulation often requires additional methods for accessing and modifying private attributes, which can lead to more verbose code and potentially harder-to-read classes.\n",
    "2. Potential for Over-Encapsulation\n",
    "Unnecessary Complexity: Excessive encapsulation can lead to overly complex class designs where the benefits of hiding internal details are outweighed by the complexity of the code. It’s important to strike a balance between hiding details and maintaining simplicity.\n",
    "Difficulty in Accessing Data: Overly strict encapsulation can make it difficult to access necessary data or perform tasks, leading to cumbersome workarounds or inefficient code.\n",
    "3. Performance Overheads\n",
    "Method Calls: Using getter and setter methods introduces additional method calls compared to direct attribute access. In performance-critical applications, this overhead might be noticeable, though in most cases, it is negligible.\n",
    "Attribute Access: If accessors and mutators involve complex logic, this can add overhead compared to directly accessing attributes.\n",
    "4. Reduced Flexibility\n",
    "Tightly Coupled Code: Encapsulation can lead to tightly coupled code if getter and setter methods are used extensively across different parts of the codebase. Changes in these methods can ripple through the code, potentially causing issues.\n",
    "Refactoring Challenges: Refactoring classes with extensive encapsulation can be more challenging because changes in private attributes or methods require careful updates to corresponding accessors and mutators.\n",
    "5. Bypassing Encapsulation\n",
    "Name Mangling: Python uses name mangling for private attributes (e.g., __attribute). However, this is not true access control, as attributes can still be accessed via their mangled names (e.g., _ClassName__attribute). This can be used to bypass encapsulation, leading to potential misuse or unintended side effects.\n",
    "6. Reduced Readability\n",
    "Verbose Access: Code that relies heavily on getters and setters can become verbose, making it harder to read and understand compared to direct attribute access. This can impact the maintainability of the code, especially if the access methods are not well-documented.\"\"\""
   ]
  },
  {
   "cell_type": "code",
   "execution_count": 25,
   "id": "2d101b74-863d-4ed9-ae88-504d55d59179",
   "metadata": {},
   "outputs": [
    {
     "name": "stdout",
     "output_type": "stream",
     "text": [
      "Title: 1984, Author: George Orwell, Status: Available\n",
      "Title: To Kill a Mockingbird, Author: Harper Lee, Status: Not Available\n",
      "Title: Nineteen Eighty-Four, Author: George Orwell, Status: Not Available\n"
     ]
    }
   ],
   "source": [
    "class Book:\n",
    "    def __init__(self, title, author, available=True):\n",
    "        self.__title = title            # Private attribute for book title\n",
    "        self.__author = author          # Private attribute for book author\n",
    "        self.__available = available    # Private attribute for availability status\n",
    "\n",
    "    # Getter for title\n",
    "    def get_title(self):\n",
    "        return self.__title\n",
    "\n",
    "    # Setter for title\n",
    "    def set_title(self, title):\n",
    "        self.__title = title\n",
    "\n",
    "    # Getter for author\n",
    "    def get_author(self):\n",
    "        return self.__author\n",
    "\n",
    "    # Setter for author\n",
    "    def set_author(self, author):\n",
    "        self.__author = author\n",
    "\n",
    "    # Getter for availability status\n",
    "    def is_available(self):\n",
    "        return self.__available\n",
    "\n",
    "    # Setter for availability status\n",
    "    def set_availability(self, available):\n",
    "        if isinstance(available, bool):\n",
    "            self.__available = available\n",
    "        else:\n",
    "            print(\"Invalid availability status. Must be a boolean.\")\n",
    "\n",
    "    # Method to display book information\n",
    "    def display_info(self):\n",
    "        availability_status = \"Available\" if self.__available else \"Not Available\"\n",
    "        return f\"Title: {self.__title}, Author: {self.__author}, Status: {availability_status}\"\n",
    "\n",
    "# Example usage of the Book class\n",
    "book1 = Book(\"1984\", \"George Orwell\")\n",
    "book2 = Book(\"To Kill a Mockingbird\", \"Harper Lee\", False)\n",
    "\n",
    "# Display book information\n",
    "print(book1.display_info())  # Output: Title: 1984, Author: George Orwell, Status: Available\n",
    "print(book2.display_info())  # Output: Title: To Kill a Mockingbird, Author: Harper Lee, Status: Not Available\n",
    "\n",
    "# Update book details\n",
    "book1.set_title(\"Nineteen Eighty-Four\")\n",
    "book1.set_author(\"George Orwell\")\n",
    "book1.set_availability(False)\n",
    "\n",
    "# Display updated book information\n",
    "print(book1.display_info())  # Output: Title: Nineteen Eighty-Four, Author: George Orwell, Status: Not Available\n"
   ]
  },
  {
   "cell_type": "code",
   "execution_count": 26,
   "id": "445a882d-00cb-4704-a030-be2554088e23",
   "metadata": {},
   "outputs": [
    {
     "data": {
      "text/plain": [
       "'Encapsulation significantly enhances code reusability and modularity in Python programs. Here’s a detailed explanation of how encapsulation contributes to these aspects:\\n\\n1. Code Reusability\\nEncapsulation makes code more reusable by:\\n\\nCreating Self-Contained Components: Encapsulation allows you to create classes that bundle data and methods together, making them self-contained. Once a class is defined, it can be used across different parts of a program or in different programs without modification. For example, a Book class can be reused in various library management systems or applications.\\n\\nProviding a Consistent Interface: Encapsulation ensures that the internal implementation details of a class are hidden, exposing only a public interface. This means you can interact with the class using its public methods and attributes, making it easier to integrate and use in different contexts. For example, methods like get_title() and set_title() provide a consistent way to access and modify book titles.\\n\\nFacilitating Extensibility: Encapsulated classes can be extended or modified without changing existing code that relies on them. For instance, you can create subclasses of a Book class with additional functionality or attributes (e.g., EBook or AudioBook) while maintaining the same interface for interacting with the base Book class.'"
      ]
     },
     "execution_count": 26,
     "metadata": {},
     "output_type": "execute_result"
    }
   ],
   "source": [
    "\"\"\"Encapsulation significantly enhances code reusability and modularity in Python programs. Here’s a detailed explanation of how encapsulation contributes to these aspects:\n",
    "\n",
    "1. Code Reusability\n",
    "Encapsulation makes code more reusable by:\n",
    "\n",
    "Creating Self-Contained Components: Encapsulation allows you to create classes that bundle data and methods together, making them self-contained. Once a class is defined, it can be used across different parts of a program or in different programs without modification. For example, a Book class can be reused in various library management systems or applications.\n",
    "\n",
    "Providing a Consistent Interface: Encapsulation ensures that the internal implementation details of a class are hidden, exposing only a public interface. This means you can interact with the class using its public methods and attributes, making it easier to integrate and use in different contexts. For example, methods like get_title() and set_title() provide a consistent way to access and modify book titles.\n",
    "\n",
    "Facilitating Extensibility: Encapsulated classes can be extended or modified without changing existing code that relies on them. For instance, you can create subclasses of a Book class with additional functionality or attributes (e.g., EBook or AudioBook) while maintaining the same interface for interacting with the base Book class.\"\"\"\n"
   ]
  },
  {
   "cell_type": "code",
   "execution_count": 27,
   "id": "fee40399-c935-426f-9515-46f99a2153d2",
   "metadata": {},
   "outputs": [
    {
     "data": {
      "text/plain": [
       "\"\\nInformation hiding is a key principle in encapsulation and object-oriented programming. It refers to the practice of restricting access to the internal details of an object or module and exposing only the necessary parts through a controlled interface. This principle is crucial for managing complexity, ensuring data integrity, and supporting maintainability in software development.\\n\\nConcept of Information Hiding\\nInformation hiding involves:\\n\\nHiding Internal State: This means making the internal data of an object or module private or protected, so it cannot be directly accessed or modified from outside. Instead, access is provided through public methods (getters and setters) that control how the data is read or changed.\\n\\nProviding Controlled Access: By defining public interfaces (methods and properties) to interact with the hidden data, you can control how the internal state is accessed or modified. This ensures that the object maintains a consistent and valid state.\\n\\nEncapsulating Implementation Details: The internal implementation details of an object or module are hidden from the outside world. Users of the object or module interact only with its public interface, without needing to understand its internal workings.\\n\\nWhy Information Hiding is Essential in Software Development\\nReduces Complexity:\\n\\nSimplifies Interaction: By exposing only essential details through a well-defined interface, users can interact with the object or module without being overwhelmed by its complexity.\\nEncapsulation of Complexity: Implementation details are hidden, reducing the cognitive load required to understand and use the object or module.\\nEnhances Maintainability:\\n\\nIsolates Changes: Changes to internal implementation details do not affect other parts of the program as long as the public interface remains consistent. This makes it easier to update and maintain code.\\nReduces Risk of Errors: By restricting direct access to internal data, you prevent unintended modifications and potential errors that could arise from outside interference.\\nImproves Data Integrity:\\n\\nControlled Modification: Accessors and mutators (getters and setters) can include validation logic to ensure that only valid data is set. This helps maintain the integrity and consistency of the object's state.\\nPrevents Unauthorized Access: By hiding internal details, you prevent unauthorized or unintended access to sensitive data.\\nSupports Abstraction:\\n\\nEncapsulated Interfaces: Users interact with high-level abstractions rather than low-level details. This abstraction makes it easier to understand and use complex systems.\\nEncapsulation of Implementation Details: Internal details can change without affecting the external interface, supporting a clear separation between what an object does and how it does it.\\nFacilitates Code Reusability:\\n\\nModular Design: Objects or modules with well-defined interfaces can be reused in different contexts. The internal implementation can be modified or replaced without affecting code that depends on the public interface.\""
      ]
     },
     "execution_count": 27,
     "metadata": {},
     "output_type": "execute_result"
    }
   ],
   "source": [
    "\"\"\"\n",
    "Information hiding is a key principle in encapsulation and object-oriented programming. It refers to the practice of restricting access to the internal details of an object or module and exposing only the necessary parts through a controlled interface. This principle is crucial for managing complexity, ensuring data integrity, and supporting maintainability in software development.\n",
    "\n",
    "Concept of Information Hiding\n",
    "Information hiding involves:\n",
    "\n",
    "Hiding Internal State: This means making the internal data of an object or module private or protected, so it cannot be directly accessed or modified from outside. Instead, access is provided through public methods (getters and setters) that control how the data is read or changed.\n",
    "\n",
    "Providing Controlled Access: By defining public interfaces (methods and properties) to interact with the hidden data, you can control how the internal state is accessed or modified. This ensures that the object maintains a consistent and valid state.\n",
    "\n",
    "Encapsulating Implementation Details: The internal implementation details of an object or module are hidden from the outside world. Users of the object or module interact only with its public interface, without needing to understand its internal workings.\n",
    "\n",
    "Why Information Hiding is Essential in Software Development\n",
    "Reduces Complexity:\n",
    "\n",
    "Simplifies Interaction: By exposing only essential details through a well-defined interface, users can interact with the object or module without being overwhelmed by its complexity.\n",
    "Encapsulation of Complexity: Implementation details are hidden, reducing the cognitive load required to understand and use the object or module.\n",
    "Enhances Maintainability:\n",
    "\n",
    "Isolates Changes: Changes to internal implementation details do not affect other parts of the program as long as the public interface remains consistent. This makes it easier to update and maintain code.\n",
    "Reduces Risk of Errors: By restricting direct access to internal data, you prevent unintended modifications and potential errors that could arise from outside interference.\n",
    "Improves Data Integrity:\n",
    "\n",
    "Controlled Modification: Accessors and mutators (getters and setters) can include validation logic to ensure that only valid data is set. This helps maintain the integrity and consistency of the object's state.\n",
    "Prevents Unauthorized Access: By hiding internal details, you prevent unauthorized or unintended access to sensitive data.\n",
    "Supports Abstraction:\n",
    "\n",
    "Encapsulated Interfaces: Users interact with high-level abstractions rather than low-level details. This abstraction makes it easier to understand and use complex systems.\n",
    "Encapsulation of Implementation Details: Internal details can change without affecting the external interface, supporting a clear separation between what an object does and how it does it.\n",
    "Facilitates Code Reusability:\n",
    "\n",
    "Modular Design: Objects or modules with well-defined interfaces can be reused in different contexts. The internal implementation can be modified or replaced without affecting code that depends on the public interface.\"\"\""
   ]
  },
  {
   "cell_type": "code",
   "execution_count": 29,
   "id": "49efe32c-a77a-4096-b7f5-e4ace4a7596d",
   "metadata": {},
   "outputs": [
    {
     "name": "stdout",
     "output_type": "stream",
     "text": [
      "Name: Alice Johnson, Address: 123 Maple St, Contact Info: 555-1234\n",
      "Name: Alice Smith, Address: 456 Oak St, Contact Info: 555-5678\n",
      "Invalid name. Must be a non-empty string.\n",
      "Invalid contact information. Must be a non-empty string with more than 5 characters.\n"
     ]
    }
   ],
   "source": [
    "class Customer:\n",
    "    def __init__(self, name, address, contact_info):\n",
    "        self.__name = name                # Private attribute for customer name\n",
    "        self.__address = address          # Private attribute for customer address\n",
    "        self.__contact_info = contact_info # Private attribute for customer contact information\n",
    "\n",
    "    # Getter for name\n",
    "    def get_name(self):\n",
    "        return self.__name\n",
    "    def set_name(self, name):\n",
    "        if isinstance(name, str) and name:\n",
    "            self.__name = name\n",
    "        else:\n",
    "            print(\"Invalid name. Must be a non-empty string.\")\n",
    "\n",
    "    # Getter for address\n",
    "    def get_address(self):\n",
    "        return self.__address\n",
    "    def set_address(self, address):\n",
    "        if isinstance(address, str) and address:\n",
    "            self.__address = address\n",
    "        else:\n",
    "            print(\"Invalid address. Must be a non-empty string.\")\n",
    "    def get_contact_info(self):\n",
    "        return self.__contact_info\n",
    "    def set_contact_info(self, contact_info):\n",
    "        if isinstance(contact_info, str) and len(contact_info) > 5: \n",
    "            self.__contact_info = contact_info\n",
    "        else:\n",
    "            print(\"Invalid contact information. Must be a non-empty string with more than 5 characters.\")\n",
    "\n",
    "    def display_info(self):\n",
    "        return f\"Name: {self.__name}, Address: {self.__address}, Contact Info: {self.__contact_info}\"\n",
    "\n",
    "customer = Customer(\"Alice Johnson\", \"123 Maple St\", \"555-1234\")\n",
    "\n",
    "\n",
    "print(customer.display_info())  \n",
    "\n",
    "# Update customer details\n",
    "customer.set_name(\"Alice Smith\")\n",
    "customer.set_address(\"456 Oak St\")\n",
    "customer.set_contact_info(\"555-5678\")\n",
    "print(customer.display_info())  \n",
    "customer.set_name(\"\")           \n",
    "customer.set_contact_info(\"123\") \n"
   ]
  },
  {
   "cell_type": "code",
   "execution_count": 1,
   "id": "31ff83ce-b0e4-48fc-825f-a99a17d55c2a",
   "metadata": {},
   "outputs": [
    {
     "data": {
      "text/plain": [
       "'Polymorphism:\\n1. What is polymorphism in Python? Explain how it is related to object-oriented programming.\\n2. Describe the difference between compile-time polymorphism and runtime polymorphism in Python.\\n3. Create a Python class hierarchy for shapes (e.g., circle, square, triangle) and demonstrate polymorphism\\nthrough a common method, such as `calculate_area()`.\\n4. Explain the concept of method overriding in polymorphism. Provide an example.\\n5. How is polymorphism different from method overloading in Python? Provide examples for both.\\n6. Create a Python class called `Animal` with a method `speak()`. Then, create child classes like `Dog`, `Cat`, and `Bird`, each with their own `speak()` method. Demonstrate polymorphism by calling the `speak()` method\\non objects of different subclasses.\\n7. Discuss the use of abstract methods and classes in achieving polymorphism in Python. Provide an example\\nusing the `abc` module.\\n8. Create a Python class hierarchy for a vehicle system (e.g., car, bicycle, boat) and implement a polymorphic `start()` method that prints a message specific to each vehicle type.\\n9. Explain the significance of the `isinstance()` and `issubclass()` functions in Python polymorphism.\\n10. What is the role of the `@abstractmethod` decorator in achieving polymorphism in Python? Provide an\\nexample.\\n11. Create a Python class called `Shape` with a polymorphic method `area()` that calculates the area of different shapes (e.g., circle, rectangle, triangle).\\n12. Discuss the benefits of polymorphism in terms of code reusability and flexibility in Python programs.\\n13. Explain the use of the `super()` function in Python polymorphism. How does it help call methods of parent\\nclasses?\\n14. Create a Python class hierarchy for a banking system with various account types (e.g., savings, checking, credit card) and demonstrate polymorphism by implementing a common `withdraw()` method.\\n15. Describe the concept of operator overloading in Python and how it relates to polymorphism. Provide\\nexamples using operators like `+` and `*`.\\n16. What is dynamic polymorphism, and how is it achieved in Python?\\n17. Create a Python class hierarchy for employees in a company (e.g., manager, developer, designer) and implement polymorphism through a common `calculate_salary()` method.\\n18. Discuss the concept of function pointers and how they can be used to achieve polymorphism in Python.\\n19. Explain the role of interfaces and abstract classes in polymorphism, drawing comparisons between them.\\n20. Create a Python class for a zoo simulation, demonstrating polymorphism with different animal types (e.g., mammals, birds, reptiles) and their behavior (e.g., eating, sleeping, making sounds).'"
      ]
     },
     "execution_count": 1,
     "metadata": {},
     "output_type": "execute_result"
    }
   ],
   "source": [
    "\"\"\"Polymorphism:\n",
    "1. What is polymorphism in Python? Explain how it is related to object-oriented programming.\n",
    "2. Describe the difference between compile-time polymorphism and runtime polymorphism in Python.\n",
    "3. Create a Python class hierarchy for shapes (e.g., circle, square, triangle) and demonstrate polymorphism\n",
    "through a common method, such as `calculate_area()`.\n",
    "4. Explain the concept of method overriding in polymorphism. Provide an example.\n",
    "5. How is polymorphism different from method overloading in Python? Provide examples for both.\n",
    "6. Create a Python class called `Animal` with a method `speak()`. Then, create child classes like `Dog`, `Cat`, and `Bird`, each with their own `speak()` method. Demonstrate polymorphism by calling the `speak()` method\n",
    "on objects of different subclasses.\n",
    "7. Discuss the use of abstract methods and classes in achieving polymorphism in Python. Provide an example\n",
    "using the `abc` module.\n",
    "8. Create a Python class hierarchy for a vehicle system (e.g., car, bicycle, boat) and implement a polymorphic `start()` method that prints a message specific to each vehicle type.\n",
    "9. Explain the significance of the `isinstance()` and `issubclass()` functions in Python polymorphism.\n",
    "10. What is the role of the `@abstractmethod` decorator in achieving polymorphism in Python? Provide an\n",
    "example.\n",
    "11. Create a Python class called `Shape` with a polymorphic method `area()` that calculates the area of different shapes (e.g., circle, rectangle, triangle).\n",
    "12. Discuss the benefits of polymorphism in terms of code reusability and flexibility in Python programs.\n",
    "13. Explain the use of the `super()` function in Python polymorphism. How does it help call methods of parent\n",
    "classes?\n",
    "14. Create a Python class hierarchy for a banking system with various account types (e.g., savings, checking, credit card) and demonstrate polymorphism by implementing a common `withdraw()` method.\n",
    "15. Describe the concept of operator overloading in Python and how it relates to polymorphism. Provide\n",
    "examples using operators like `+` and `*`.\n",
    "16. What is dynamic polymorphism, and how is it achieved in Python?\n",
    "17. Create a Python class hierarchy for employees in a company (e.g., manager, developer, designer) and implement polymorphism through a common `calculate_salary()` method.\n",
    "18. Discuss the concept of function pointers and how they can be used to achieve polymorphism in Python.\n",
    "19. Explain the role of interfaces and abstract classes in polymorphism, drawing comparisons between them.\n",
    "20. Create a Python class for a zoo simulation, demonstrating polymorphism with different animal types (e.g., mammals, birds, reptiles) and their behavior (e.g., eating, sleeping, making sounds).\"\"\""
   ]
  },
  {
   "cell_type": "code",
   "execution_count": 2,
   "id": "8b558f53-4f2e-4f98-92d2-946fa3268586",
   "metadata": {},
   "outputs": [
    {
     "data": {
      "text/plain": [
       "'Polymorphism in Python refers to the ability of objects of different types to be treated as if they were of the same type. This means that you can write code that works with objects of different classes that share a common interface, without explicitly knowing their specific type.\\n\\nKey aspects of polymorphism in Python:\\n\\nMethod Overriding: When a subclass defines a method with the same name as a method in its superclass, it overrides the superclass\\'s method. This allows you to provide a specific implementation for the method in the subclass, while still maintaining the same interface.\\nDuck Typing: Python\\'s dynamic typing system uses \"duck typing,\" which means that the type of an object is determined by its behavior rather than its explicit class. If an object has the necessary attributes and methods to be used in a certain context, it can be treated as that type.\\nAbstract Base Classes (ABCs): ABCs provide a way to define a common interface for a group of related classes, without requiring them to implement all methods. This allows you to enforce a consistent behavior for objects of those classes.'"
      ]
     },
     "execution_count": 2,
     "metadata": {},
     "output_type": "execute_result"
    }
   ],
   "source": [
    "\"\"\"Polymorphism in Python refers to the ability of objects of different types to be treated as if they were of the same type. This means that you can write code that works with objects of different classes that share a common interface, without explicitly knowing their specific type.\n",
    "\n",
    "Key aspects of polymorphism in Python:\n",
    "\n",
    "Method Overriding: When a subclass defines a method with the same name as a method in its superclass, it overrides the superclass's method. This allows you to provide a specific implementation for the method in the subclass, while still maintaining the same interface.\n",
    "Duck Typing: Python's dynamic typing system uses \"duck typing,\" which means that the type of an object is determined by its behavior rather than its explicit class. If an object has the necessary attributes and methods to be used in a certain context, it can be treated as that type.\n",
    "Abstract Base Classes (ABCs): ABCs provide a way to define a common interface for a group of related classes, without requiring them to implement all methods. This allows you to enforce a consistent behavior for objects of those classes.\"\"\""
   ]
  },
  {
   "cell_type": "code",
   "execution_count": 3,
   "id": "2dee7a77-3bf7-48c5-aa94-5730a0ff6b10",
   "metadata": {},
   "outputs": [
    {
     "data": {
      "text/plain": [
       "\"Timing: Compile-time polymorphism happens during compilation, while runtime polymorphism occurs during program execution.\\nMechanism: Compile-time polymorphism uses method overloading, while runtime polymorphism uses method overriding.\\nFlexibility: Runtime polymorphism is generally more flexible as it allows for dynamic decision-making based on the object's type at runtime.\""
      ]
     },
     "execution_count": 3,
     "metadata": {},
     "output_type": "execute_result"
    }
   ],
   "source": [
    "\"\"\"Timing: Compile-time polymorphism happens during compilation, while runtime polymorphism occurs during program execution.\n",
    "Mechanism: Compile-time polymorphism uses method overloading, while runtime polymorphism uses method overriding.\n",
    "Flexibility: Runtime polymorphism is generally more flexible as it allows for dynamic decision-making based on the object's type at runtime.\"\"\""
   ]
  },
  {
   "cell_type": "code",
   "execution_count": 4,
   "id": "b0495ed6-5ef3-465f-b448-474ddfb875ba",
   "metadata": {},
   "outputs": [
    {
     "name": "stdout",
     "output_type": "stream",
     "text": [
      "78.53975\n",
      "16\n",
      "9.0\n"
     ]
    }
   ],
   "source": [
    "class Shape:\n",
    "    def calculate_area(self):\n",
    "        raise NotImplementedError(\"Calculate area method must be implemented in subclasses\")\n",
    "\n",
    "class Circle(Shape):\n",
    "    def __init__(self, radius):\n",
    "        self.radius = radius\n",
    "\n",
    "    def calculate_area(self):\n",
    "        return 3.14159 * self.radius * self.radius\n",
    "\n",
    "class Square(Shape):\n",
    "    def __init__(self, side):\n",
    "        self.side = side\n",
    "\n",
    "    def calculate_area(self):\n",
    "        return self.side * self.side\n",
    "\n",
    "class Triangle(Shape):\n",
    "    def __init__(self, base, height):\n",
    "        self.base = base\n",
    "        self.height = height\n",
    "\n",
    "    def calculate_area(self):\n",
    "        return 0.5 * self.base * self.height\n",
    "\n",
    "# Example usage\n",
    "shapes = [Circle(5), Square(4), Triangle(3, 6)]\n",
    "\n",
    "for shape in shapes:\n",
    "    print(shape.calculate_area())"
   ]
  },
  {
   "cell_type": "code",
   "execution_count": 6,
   "id": "7c8cb79b-f0f3-4304-9609-0a5c7ad956a9",
   "metadata": {},
   "outputs": [
    {
     "name": "stdout",
     "output_type": "stream",
     "text": [
      "Generic animal sound\n",
      "Woof!\n",
      "Meow!\n"
     ]
    }
   ],
   "source": [
    "\"\"\"Method Overriding is a key concept in polymorphism where a subclass provides a specific implementation for a method that is already defined in its superclass. This allows the subclass to modify or enhance the behavior of the inherited method without changing the method's signature.   \n",
    "\n",
    "Key Points:\n",
    "\n",
    "Same Method Signature: Both the overridden method in the superclass and the overriding method in the subclass must have the same name, parameters, and return type.\n",
    "Dynamic Binding: The method that is actually called at runtime is determined dynamically based on the object's actual type.\n",
    "Polymorphic Behavior: This enables polymorphic behavior, where objects of different types can be treated as if they were of the same type.\"\"\"\n",
    "class Animal:\n",
    "    def make_sound(self):\n",
    "        print(\"Generic animal sound\")\n",
    "\n",
    "class Dog(Animal):\n",
    "    def make_sound(self):\n",
    "        print(\"Woof!\")\n",
    "\n",
    "class Cat(Animal):\n",
    "    def make_sound(self):\n",
    "        print(\"Meow!\")\n",
    "\n",
    "animal1 = Animal()\n",
    "animal2 = Dog()\n",
    "animal3 = Cat()\n",
    "animal1.make_sound()  \n",
    "animal2.make_sound()  \n",
    "animal3.make_sound()  "
   ]
  },
  {
   "cell_type": "code",
   "execution_count": 7,
   "id": "0e527061-64cb-4c19-9e33-31053f1ba403",
   "metadata": {},
   "outputs": [
    {
     "data": {
      "text/plain": [
       "\"Key Differences:\\n\\nPurpose: Polymorphism is about treating objects of different types as if they were the same type, while method overloading is about having multiple methods with the same name but different parameters.\\nImplementation: Polymorphism is typically implemented through inheritance and method overriding, while method overloading can be achieved using different techniques in Python.\\nTiming: Polymorphism is a runtime concept, where the specific method to be called is determined at runtime based on the object's type. Method overloading is a compile-time concept, where the appropriate method is chosen based on the number and types of arguments passed at compile time.\""
      ]
     },
     "execution_count": 7,
     "metadata": {},
     "output_type": "execute_result"
    }
   ],
   "source": [
    "\"\"\"Key Differences:\n",
    "\n",
    "Purpose: Polymorphism is about treating objects of different types as if they were the same type, while method overloading is about having multiple methods with the same name but different parameters.\n",
    "Implementation: Polymorphism is typically implemented through inheritance and method overriding, while method overloading can be achieved using different techniques in Python.\n",
    "Timing: Polymorphism is a runtime concept, where the specific method to be called is determined at runtime based on the object's type. Method overloading is a compile-time concept, where the appropriate \n",
    "method is chosen based on the number and types of arguments passed at compile time.\"\"\""
   ]
  },
  {
   "cell_type": "code",
   "execution_count": 8,
   "id": "6948dd95-84f6-4b07-bae9-fe2f4f482bd4",
   "metadata": {},
   "outputs": [
    {
     "name": "stdout",
     "output_type": "stream",
     "text": [
      "Woof!\n",
      "Meow!\n",
      "Chirp!\n"
     ]
    }
   ],
   "source": [
    "class Animal:\n",
    "    def speak(self):\n",
    "        print(\"Generic animal sound\")\n",
    "\n",
    "class Dog(Animal):\n",
    "    def speak(self):\n",
    "        print(\"Woof!\")\n",
    "\n",
    "class Cat(Animal):\n",
    "    def speak(self):\n",
    "        print(\"Meow!\")\n",
    "\n",
    "class Bird(Animal):\n",
    "    def speak(self):\n",
    "        print(\"Chirp!\")\n",
    "\n",
    "# Creating objects\n",
    "dog = Dog()\n",
    "cat = Cat()\n",
    "bird = Bird()\n",
    "\n",
    "dog.speak()  \n",
    "cat.speak()  \n",
    "bird.speak()  "
   ]
  },
  {
   "cell_type": "code",
   "execution_count": 9,
   "id": "0e55b509-adfe-4d9e-b2c7-58f1850e4647",
   "metadata": {},
   "outputs": [
    {
     "data": {
      "text/plain": [
       "'Abstract Methods and Classes in Python for Polymorphism\\nAbstract methods are methods declared in a class but not defined within the class itself. They serve as placeholders for methods that must be implemented by subclasses. Abstract classes are classes that contain at least one abstract method.\\n\\nBenefits of using abstract methods and classes:\\n\\nEnforce common interface: Abstract classes define a common interface for their subclasses, ensuring that they all implement the necessary methods.\\nPrevent instantiation: Abstract classes cannot be instantiated directly, forcing developers to create concrete subclasses that provide implementations for the abstract methods.\\nPromote code reuse: Abstract classes can be used as a base for creating a hierarchy of related classes, promoting code reuse and maintainability.\\nUsing the abc module:\\n\\nThe abc module in Python provides tools for defining abstract base classes. It includes the ABC class and the abstractmethod decorator.'"
      ]
     },
     "execution_count": 9,
     "metadata": {},
     "output_type": "execute_result"
    }
   ],
   "source": [
    "\"\"\"Abstract Methods and Classes in Python for Polymorphism\n",
    "Abstract methods are methods declared in a class but not defined within the class itself. They serve as placeholders for methods that must be implemented by subclasses. Abstract classes are classes that contain at least one abstract method.\n",
    "\n",
    "Benefits of using abstract methods and classes:\n",
    "\n",
    "Enforce common interface: Abstract classes define a common interface for their subclasses, ensuring that they all implement the necessary methods.\n",
    "Prevent instantiation: Abstract classes cannot be instantiated directly, forcing developers to create concrete subclasses that provide implementations for the abstract methods.\n",
    "Promote code reuse: Abstract classes can be used as a base for creating a hierarchy of related classes, promoting code reuse and maintainability.\n",
    "Using the abc module:\n",
    "\n",
    "The abc module in Python provides tools for defining abstract base classes. It includes the ABC class and the abstractmethod decorator.\"\"\""
   ]
  },
  {
   "cell_type": "code",
   "execution_count": 10,
   "id": "646aab88-4be3-42a0-8cfd-fc980b7e5251",
   "metadata": {},
   "outputs": [
    {
     "name": "stdout",
     "output_type": "stream",
     "text": [
      "Starting the car engine...\n",
      "Pedaling the bicycle...\n",
      "Starting the boat engine...\n"
     ]
    }
   ],
   "source": [
    "from abc import ABC, abstractmethod\n",
    "\n",
    "class Vehicle(ABC):\n",
    "    @abstractmethod\n",
    "    def start(self):\n",
    "        pass\n",
    "\n",
    "class Car(Vehicle):\n",
    "    def start(self):\n",
    "        print(\"Starting the car engine...\")\n",
    "\n",
    "class Bicycle(Vehicle):\n",
    "    def start(self):\n",
    "        print(\"Pedaling the bicycle...\")\n",
    "\n",
    "class Boat(Vehicle):\n",
    "    def start(self):\n",
    "        print(\"Starting the boat engine...\")\n",
    "\n",
    "# Example usage\n",
    "vehicles = [Car(), Bicycle(), Boat()]\n",
    "\n",
    "for vehicle in vehicles:\n",
    "    vehicle.start()"
   ]
  },
  {
   "cell_type": "code",
   "execution_count": 11,
   "id": "b7bdd863-8f49-475e-a631-953f74931732",
   "metadata": {},
   "outputs": [
    {
     "data": {
      "text/plain": [
       "'The isinstance() and issubclass() functions are essential tools in Python for working with polymorphism. They allow you to dynamically check the type of an object or class at runtime.\\n\\nisinstance(object, classinfo)\\n\\nReturns True if the object is an instance of the specified class or a subclass of it.\\nTakes two arguments:\\nobject: The object to be checked.\\nclassinfo: A class, a tuple of classes, or a type object.\\n\\nissubclass(class, classinfo)\\n\\nReturns True if the class is a subclass of the specified class.\\nTakes two arguments:\\nclass: The class to be checked.\\nclassinfo: A class or a tuple of classes.\\nSignificance in Polymorphism:\\n\\nDynamic Type Checking: These functions allow you to write code that can handle objects of different types without explicitly knowing their specific class.\\nConditional Logic: You can use isinstance() and issubclass() to implement conditional logic based on the type of an object, enabling you to create more flexible and adaptable code.\\nType Hints: They can be used in conjunction with type hints to provide more informative code and catch potential type errors at runtime.'"
      ]
     },
     "execution_count": 11,
     "metadata": {},
     "output_type": "execute_result"
    }
   ],
   "source": [
    "\"\"\"The isinstance() and issubclass() functions are essential tools in Python for working with polymorphism. They allow you to dynamically check the type of an object or class at runtime.\n",
    "\n",
    "isinstance(object, classinfo)\n",
    "\n",
    "Returns True if the object is an instance of the specified class or a subclass of it.\n",
    "Takes two arguments:\n",
    "object: The object to be checked.\n",
    "classinfo: A class, a tuple of classes, or a type object.\n",
    "\n",
    "issubclass(class, classinfo)\n",
    "\n",
    "Returns True if the class is a subclass of the specified class.\n",
    "Takes two arguments:\n",
    "class: The class to be checked.\n",
    "classinfo: A class or a tuple of classes.\n",
    "Significance in Polymorphism:\n",
    "\n",
    "Dynamic Type Checking: These functions allow you to write code that can handle objects of different types without explicitly knowing their specific class.\n",
    "Conditional Logic: You can use isinstance() and issubclass() to implement conditional logic based on the type of an object, enabling you to create more flexible and adaptable code.\n",
    "Type Hints: They can be used in conjunction with type hints to provide more informative code and catch potential type errors at runtime.\"\"\""
   ]
  },
  {
   "cell_type": "code",
   "execution_count": 12,
   "id": "ce5d75cd-5fdb-4109-a2d1-80517c94de7d",
   "metadata": {},
   "outputs": [
    {
     "data": {
      "text/plain": [
       "'The @abstractmethod decorator is a powerful tool in Python for enforcing a common interface among related classes. It is used to define abstract methods within abstract base classes (ABCs). An abstract method is a method that must be implemented by any concrete subclass of the ABC.\\n\\nSignificance in Polymorphism:\\n\\nCommon Interface: By requiring subclasses to implement abstract methods, the @abstractmethod decorator ensures that all classes in a hierarchy adhere to a common interface. This makes it easier to write polymorphic code that can work with objects of different types.\\nCode Reusability: Abstract base classes can be used as templates for creating new classes, promoting code reusability and reducing redundancy.\\nError Prevention: The @abstractmethod decorator helps prevent errors by ensuring that subclasses have the necessary methods to function correctly.'"
      ]
     },
     "execution_count": 12,
     "metadata": {},
     "output_type": "execute_result"
    }
   ],
   "source": [
    "\"\"\"The @abstractmethod decorator is a powerful tool in Python for enforcing a common interface among related classes. It is used to define abstract methods within abstract base classes (ABCs). An abstract method is a method that must be implemented by any concrete subclass of the ABC.\n",
    "\n",
    "Significance in Polymorphism:\n",
    "\n",
    "Common Interface: By requiring subclasses to implement abstract methods, the @abstractmethod decorator ensures that all classes in a hierarchy adhere to a common interface. This makes it easier to write polymorphic code that can work with objects of different types.\n",
    "Code Reusability: Abstract base classes can be used as templates for creating new classes, promoting code reusability and reducing redundancy.\n",
    "Error Prevention: The @abstractmethod decorator helps prevent errors by ensuring that subclasses have the necessary methods to function correctly.\"\"\""
   ]
  },
  {
   "cell_type": "code",
   "execution_count": 13,
   "id": "b391f06d-2307-4c20-8f02-8d39ea14d943",
   "metadata": {},
   "outputs": [
    {
     "name": "stdout",
     "output_type": "stream",
     "text": [
      "Circle Area: 78.54\n",
      "Rectangle Area: 24.00\n",
      "Triangle Area: 10.50\n"
     ]
    }
   ],
   "source": [
    "import math\n",
    "\n",
    "# Base class\n",
    "class Shape:\n",
    "    def area(self):\n",
    "        pass  # Polymorphic method to be overridden in subclasses\n",
    "\n",
    "# Subclass for Circle\n",
    "class Circle(Shape):\n",
    "    def __init__(self, radius):\n",
    "        self.radius = radius\n",
    "\n",
    "    def area(self):\n",
    "        return math.pi * self.radius ** 2  # Formula: πr^2\n",
    "\n",
    "# Subclass for Rectangle\n",
    "class Rectangle(Shape):\n",
    "    def __init__(self, width, height):\n",
    "        self.width = width\n",
    "        self.height = height\n",
    "\n",
    "    def area(self):\n",
    "        return self.width * self.height  # Formula: width * height\n",
    "\n",
    "# Subclass for Triangle\n",
    "class Triangle(Shape):\n",
    "    def __init__(self, base, height):\n",
    "        self.base = base\n",
    "        self.height = height\n",
    "\n",
    "    def area(self):\n",
    "        return 0.5 * self.base * self.height  # Formula: 0.5 * base * height\n",
    "\n",
    "# Example usage:\n",
    "circle = Circle(5)\n",
    "rectangle = Rectangle(4, 6)\n",
    "triangle = Triangle(3, 7)\n",
    "\n",
    "print(f\"Circle Area: {circle.area():.2f}\")\n",
    "print(f\"Rectangle Area: {rectangle.area():.2f}\")\n",
    "print(f\"Triangle Area: {triangle.area():.2f}\")\n"
   ]
  },
  {
   "cell_type": "code",
   "execution_count": 14,
   "id": "74d0b085-81b9-4812-9fba-97cac9cb4ba3",
   "metadata": {},
   "outputs": [
    {
     "data": {
      "text/plain": [
       "'Polymorphism is a fundamental concept in object-oriented programming that significantly enhances code reusability and flexibility. Here are some of its key benefits in Python programs:\\n\\nCode Reusability\\nGeneric Functions: Polymorphism allows you to write generic functions that can operate on objects of different types, as long as they share a common interface. This reduces code duplication and makes your programs more maintainable.\\nCommon Interface: By defining a common interface for related objects, you can write code that interacts with them consistently, regardless of their specific implementation. This promotes code reuse and modularity.\\nFlexibility\\nDynamic Behavior: Polymorphism enables your code to adapt to different situations at runtime. This makes your programs more flexible and adaptable to changing requirements.\\nExtensibility: New classes can be easily added to a polymorphic hierarchy without modifying existing code. This makes your programs more extensible and easier to evolve over time.\\nSimplified Design: Polymorphism can simplify the design of your programs by focusing on the commonalities between objects and hiding their differences. This can lead to cleaner, more understandable code.'"
      ]
     },
     "execution_count": 14,
     "metadata": {},
     "output_type": "execute_result"
    }
   ],
   "source": [
    "\"\"\"Polymorphism is a fundamental concept in object-oriented programming that significantly enhances code reusability and flexibility. Here are some of its key benefits in Python programs:\n",
    "\n",
    "Code Reusability\n",
    "Generic Functions: Polymorphism allows you to write generic functions that can operate on objects of different types, as long as they share a common interface. This reduces code duplication and makes your programs more maintainable.\n",
    "Common Interface: By defining a common interface for related objects, you can write code that interacts with them consistently, regardless of their specific implementation. This promotes code reuse and modularity.\n",
    "Flexibility\n",
    "Dynamic Behavior: Polymorphism enables your code to adapt to different situations at runtime. This makes your programs more flexible and adaptable to changing requirements.\n",
    "Extensibility: New classes can be easily added to a polymorphic hierarchy without modifying existing code. This makes your programs more extensible and easier to evolve over time.\n",
    "Simplified Design: Polymorphism can simplify the design of your programs by focusing on the commonalities between objects and hiding their differences. This can lead to cleaner, more understandable code.\"\"\""
   ]
  },
  {
   "cell_type": "code",
   "execution_count": 15,
   "id": "b93ded74-0efd-47ea-9589-bedfdc5e4bdd",
   "metadata": {},
   "outputs": [
    {
     "data": {
      "text/plain": [
       "\"The super() function in Python is used to call methods of parent classes from within a subclass. It provides a dynamic way to access the parent class's methods, even if the subclass overrides them.\\n\\nKey Points:\\n\\nDynamic Parent Access: The super() function determines the parent class at runtime based on the object's inheritance hierarchy. This allows it to work correctly even in complex inheritance scenarios.\\nMethod Chaining: You can use super() to call a parent class's method and then perform additional operations within the subclass's method. This is often used to extend the functionality of inherited methods.\\nAvoiding Overriding: If you want to call a parent class's method without overriding it in the subclass, you can use super() to explicitly call it.\""
      ]
     },
     "execution_count": 15,
     "metadata": {},
     "output_type": "execute_result"
    }
   ],
   "source": [
    "\"\"\"The super() function in Python is used to call methods of parent classes from within a subclass. It provides a dynamic way to access the parent class's methods, even if the subclass overrides them.\n",
    "\n",
    "Key Points:\n",
    "\n",
    "Dynamic Parent Access: The super() function determines the parent class at runtime based on the object's inheritance hierarchy. This allows it to work correctly even in complex inheritance scenarios.\n",
    "Method Chaining: You can use super() to call a parent class's method and then perform additional operations within the subclass's method. This is often used to extend the functionality of inherited methods.\n",
    "Avoiding Overriding: If you want to call a parent class's method without overriding it in the subclass, you can use super() to explicitly call it.\"\"\""
   ]
  },
  {
   "cell_type": "code",
   "execution_count": 16,
   "id": "a04786c4-e9fb-49f6-ad8c-c6a354f1aa33",
   "metadata": {},
   "outputs": [
    {
     "name": "stdout",
     "output_type": "stream",
     "text": [
      "800\n",
      "Overdraft limit exceeded.\n",
      "500\n",
      "Credit limit exceeded.\n",
      "0\n"
     ]
    }
   ],
   "source": [
    "from abc import ABC, abstractmethod\n",
    "\n",
    "class Account(ABC):\n",
    "    def __init__(self, account_number, balance):\n",
    "        self.account_number = account_number\n",
    "        self.balance = balance\n",
    "\n",
    "    @abstractmethod\n",
    "    def deposit(self, amount):\n",
    "        pass\n",
    "\n",
    "    @abstractmethod\n",
    "    def withdraw(self, amount):\n",
    "        pass\n",
    "\n",
    "class SavingsAccount(Account):\n",
    "    def __init__(self, account_number, balance, interest_rate):\n",
    "        super().__init__(account_number, balance)\n",
    "        self.interest_rate = interest_rate\n",
    "\n",
    "    def deposit(self, amount):\n",
    "        self.balance += amount\n",
    "\n",
    "    def withdraw(self, amount):\n",
    "        if self.balance >= amount:\n",
    "            self.balance -= amount\n",
    "        else:\n",
    "            print(\"Insufficient funds.\")\n",
    "\n",
    "class CheckingAccount(Account):\n",
    "    def __init__(self, account_number, balance, overdraft_limit):\n",
    "        super().__init__(account_number, balance)\n",
    "        self.overdraft_limit = overdraft_limit\n",
    "\n",
    "    def deposit(self, amount):\n",
    "        self.balance += amount\n",
    "\n",
    "    def withdraw(self, amount):\n",
    "        if self.balance - amount >= -self.overdraft_limit:\n",
    "            self.balance -= amount\n",
    "        else:\n",
    "            print(\"Overdraft limit exceeded.\")\n",
    "\n",
    "class CreditCard(Account):\n",
    "    def __init__(self, account_number, balance, credit_limit):\n",
    "        super().__init__(account_number, balance)\n",
    "        self.credit_limit = credit_limit\n",
    "\n",
    "    def deposit(self, amount):\n",
    "        self.balance += amount\n",
    "\n",
    "    def withdraw(self, amount):\n",
    "        if self.balance - amount >= -self.credit_limit:\n",
    "            self.balance -= amount\n",
    "        else:\n",
    "            print(\"Credit limit exceeded.\")\n",
    "\n",
    "# Example usage\n",
    "savings_account = SavingsAccount(12345, 1000, 0.03)\n",
    "checking_account = CheckingAccount(67890, 500, 200)\n",
    "credit_card = CreditCard(98765, 0, 1000)\n",
    "\n",
    "savings_account.withdraw(200)\n",
    "print(savings_account.balance)  \n",
    "\n",
    "checking_account.withdraw(800)\n",
    "print(checking_account.balance) \n",
    "\n",
    "credit_card.withdraw(1200)\n",
    "print(credit_card.balance)  "
   ]
  },
  {
   "cell_type": "code",
   "execution_count": 19,
   "id": "46fcfc58-5d71-4d0f-b38a-a42f3e877809",
   "metadata": {},
   "outputs": [
    {
     "data": {
      "text/plain": [
       "\"Operator Overloading in Python\\nOperator overloading in Python allows you to redefine the behavior of built-in operators (like +, -, *, /, etc.) for custom objects. \\nThis means you can make these operators perform specific actions when applied to objects of your own classes.\\n\\nRelationship to Polymorphism:\\n\\nOperator overloading is closely related to polymorphism. When you overload an operator for a class, you're essentially defining\\na new behavior for that operator when applied to objects of that class. This allows you to treat objects of different classes in a uniform way, as if they were of the same type.\\n\\nthe __add__ method is overloaded to perform vector addition. When the + operator is applied to two Vector objects, the __add__ method is called,\\nand the result is a new Vector object representing the sum of the two vectors.\""
      ]
     },
     "execution_count": 19,
     "metadata": {},
     "output_type": "execute_result"
    }
   ],
   "source": [
    "\"\"\"Operator Overloading in Python\n",
    "Operator overloading in Python allows you to redefine the behavior of built-in operators (like +, -, *, /, etc.) for custom objects. \n",
    "This means you can make these operators perform specific actions when applied to objects of your own classes.\n",
    "\n",
    "Relationship to Polymorphism:\n",
    "\n",
    "Operator overloading is closely related to polymorphism. When you overload an operator for a class, you're essentially defining\n",
    "a new behavior for that operator when applied to objects of that class. This allows you to treat objects of different classes in a uniform way, as if they were of the same type.\n",
    "\n",
    "the __add__ method is overloaded to perform vector addition. When the + operator is applied to two Vector objects, the __add__ method is called,\n",
    "and the result is a new Vector object representing the sum of the two vectors.\"\"\""
   ]
  },
  {
   "cell_type": "code",
   "execution_count": 20,
   "id": "15eca48e-8765-4011-a4a8-44665d054d81",
   "metadata": {},
   "outputs": [
    {
     "data": {
      "text/plain": [
       "'Dynamic polymorphism, also known as runtime polymorphism, is a mechanism in object-oriented programming where the method to be called is determined at runtime based on the actual type of the object. This allows for flexible and adaptable code that can handle objects of different types in a uniform way.\\n\\nIn Python, dynamic polymorphism is primarily achieved through:\\n\\nMethod Overriding: When a subclass defines a method with the same name as a method in its superclass, it overrides the superclass\\'s method. This allows you to provide a specific implementation for the method in the subclass, while still maintaining the same interface.\\nDuck Typing: Python\\'s dynamic typing system uses \"duck typing,\" which means that the type of an object is determined by its behavior rather than its explicit class. If an object has the necessary attributes and methods to be used in a certain context, it can be treated as that type.'"
      ]
     },
     "execution_count": 20,
     "metadata": {},
     "output_type": "execute_result"
    }
   ],
   "source": [
    "\"\"\"Dynamic polymorphism, also known as runtime polymorphism, is a mechanism in object-oriented programming where the method to be called is determined at runtime based on the actual type of the object. This allows for flexible and adaptable code that can handle objects of different types in a uniform way.\n",
    "\n",
    "In Python, dynamic polymorphism is primarily achieved through:\n",
    "\n",
    "Method Overriding: When a subclass defines a method with the same name as a method in its superclass, it overrides the superclass's method. This allows you to provide a specific implementation for the method in the subclass, while still maintaining the same interface.\n",
    "Duck Typing: Python's dynamic typing system uses \"duck typing,\" which means that the type of an object is determined by its behavior rather than its explicit class. If an object has the necessary attributes and methods to be used in a certain context, it can be treated as that type.\"\"\""
   ]
  },
  {
   "cell_type": "code",
   "execution_count": 21,
   "id": "4cbff0df-824f-493b-a550-3ce4a151b2ce",
   "metadata": {},
   "outputs": [
    {
     "name": "stdout",
     "output_type": "stream",
     "text": [
      "60000\n",
      "50000\n",
      "43000\n"
     ]
    }
   ],
   "source": [
    "from abc import ABC, abstractmethod\n",
    "\n",
    "class Employee(ABC):\n",
    "    def __init__(self, name, salary):\n",
    "        self.name = name\n",
    "        self.salary = salary\n",
    "\n",
    "    @abstractmethod\n",
    "    def calculate_salary(self):\n",
    "        pass\n",
    "\n",
    "class Manager(Employee):\n",
    "    def __init__(self, name, salary, bonus):\n",
    "        super().__init__(name, salary)\n",
    "        self.bonus = bonus\n",
    "\n",
    "    def calculate_salary(self):\n",
    "        return self.salary + self.bonus\n",
    "\n",
    "class Developer(Employee):\n",
    "    def __init__(self, name, salary, project_bonus):\n",
    "        super().__init__(name, salary)\n",
    "        self.project_bonus = project_bonus\n",
    "\n",
    "    def calculate_salary(self):\n",
    "        return self.salary + self.project_bonus\n",
    "\n",
    "class Designer(Employee):\n",
    "    def __init__(self, name, salary, design_bonus):\n",
    "        super().__init__(name, salary)\n",
    "        self.design_bonus = design_bonus\n",
    "\n",
    "    def calculate_salary(self):\n",
    "        return self.salary + self.design_bonus\n",
    "\n",
    "# Example usage\n",
    "manager = Manager(\"John Doe\", 50000, 10000)\n",
    "developer = Developer(\"Jane Smith\", 45000, 5000)\n",
    "designer = Designer(\"Alice Johnson\", 40000, 3000)\n",
    "\n",
    "employees = [manager, developer, designer]\n",
    "\n",
    "for employee in employees:\n",
    "    print(employee.calculate_salary())"
   ]
  },
  {
   "cell_type": "code",
   "execution_count": 22,
   "id": "689c1c1e-d47f-4e70-be5c-da72e8ce0020",
   "metadata": {},
   "outputs": [
    {
     "name": "stdout",
     "output_type": "stream",
     "text": [
      "8\n",
      "3\n"
     ]
    }
   ],
   "source": [
    "\"\"\"Function Pointers in Python\n",
    "\n",
    "While Python doesn't have direct function pointers in the same way as languages like C or C++, it offers a similar concept through callable objects. These are objects that can be called like functions, such as functions themselves, bound methods, or lambda expressions.\n",
    "\n",
    "Achieving Polymorphism with Callable Objects\n",
    "\n",
    "You can use callable objects to achieve polymorphism by passing them as arguments to functions or storing them in data structures. This allows you to dynamically choose the function to be called based on the context, providing flexibility and reusability.\"\"\"\n",
    "def add(x, y):\n",
    "    return x + y\n",
    "\n",
    "def subtract(x, y):\n",
    "    return x - y\n",
    "\n",
    "def operate(x, y, operation):\n",
    "    return operation(x, y)\n",
    "\n",
    "# Using functions as callable objects\n",
    "result1 = operate(5, 3, add)\n",
    "print(result1)  # Output: 8\n",
    "\n",
    "result2 = operate(10, 7, subtract)\n",
    "print(result2)  # Output: 3"
   ]
  },
  {
   "cell_type": "code",
   "execution_count": 23,
   "id": "8f6ededb-64c3-40f2-9b65-26bdc4613649",
   "metadata": {},
   "outputs": [
    {
     "data": {
      "text/plain": [
       "\"Interfaces vs. Abstract Classes in Polymorphism\\nInterfaces and abstract classes are both essential concepts in object-oriented programming (OOP) that play a crucial role in achieving polymorphism. While they share some similarities, they have distinct characteristics and use cases.\\n\\nInterfaces\\nDefinition: An interface defines a contract of methods that a class must implement. It doesn't provide any implementation details.\\nPurpose: Primarily used to enforce a common structure or behavior among related classes.\\nKey Characteristics:\\nCannot have instance variables.\\nAll methods are abstract (declared but not implemented).\\nA class can implement multiple interfaces.\\nAbstract Classes\\nDefinition: An abstract class is a base class that contains at least one abstract method. It can also have concrete methods and instance variables.\\nPurpose: Provides a partial implementation and defines a common structure for related classes, while allowing for variations.\\nKey Characteristics:\\nCan have instance variables and concrete methods.\\nAt least one method must be abstract.\\nA class can only inherit from one abstract class.\\n\\nRole in Polymorphism\\nBoth interfaces and abstract classes are essential for achieving polymorphism:\\n\\nInterface-based polymorphism: When a class implements an interface, it guarantees that it provides specific methods. This allows objects of different classes that implement the same interface to be treated interchangeably, enabling polymorphic behavior.\\nAbstract class-based polymorphism: Abstract classes provide a common structure and partial implementation for related classes. By overriding abstract methods in subclasses, you can achieve polymorphic behavior.\""
      ]
     },
     "execution_count": 23,
     "metadata": {},
     "output_type": "execute_result"
    }
   ],
   "source": [
    "\"\"\"Interfaces vs. Abstract Classes in Polymorphism\n",
    "Interfaces and abstract classes are both essential concepts in object-oriented programming (OOP) that play a crucial role in achieving polymorphism. While they share some similarities, they have distinct characteristics and use cases.\n",
    "\n",
    "Interfaces\n",
    "Definition: An interface defines a contract of methods that a class must implement. It doesn't provide any implementation details.\n",
    "Purpose: Primarily used to enforce a common structure or behavior among related classes.\n",
    "Key Characteristics:\n",
    "Cannot have instance variables.\n",
    "All methods are abstract (declared but not implemented).\n",
    "A class can implement multiple interfaces.\n",
    "Abstract Classes\n",
    "Definition: An abstract class is a base class that contains at least one abstract method. It can also have concrete methods and instance variables.\n",
    "Purpose: Provides a partial implementation and defines a common structure for related classes, while allowing for variations.\n",
    "Key Characteristics:\n",
    "Can have instance variables and concrete methods.\n",
    "At least one method must be abstract.\n",
    "A class can only inherit from one abstract class.\n",
    "\n",
    "Role in Polymorphism\n",
    "Both interfaces and abstract classes are essential for achieving polymorphism:\n",
    "\n",
    "Interface-based polymorphism: When a class implements an interface, it guarantees that it provides specific methods. This allows objects of different classes that implement the same interface to be treated interchangeably, enabling polymorphic behavior.\n",
    "Abstract class-based polymorphism: Abstract classes provide a common structure and partial implementation for related classes. By overriding abstract methods in subclasses, you can achieve polymorphic behavior.\"\"\""
   ]
  },
  {
   "cell_type": "code",
   "execution_count": 24,
   "id": "bc52b855-930b-4a45-b20a-d2808fc1e064",
   "metadata": {},
   "outputs": [
    {
     "name": "stdout",
     "output_type": "stream",
     "text": [
      "Leo the mammal is eating.\n",
      "Leo the mammal is sleeping.\n",
      "Leo the mammal is making a generic mammal sound.\n",
      "Eagle the bird is eating seeds.\n",
      "Eagle the bird is sleeping in a nest.\n",
      "Eagle the bird is chirping.\n",
      "Python the reptile is eating insects.\n",
      "Python the reptile is basking in the sun.\n",
      "Python the reptile is hissing.\n"
     ]
    }
   ],
   "source": [
    "from abc import ABC, abstractmethod\n",
    "\n",
    "class Animal(ABC):\n",
    "    def __init__(self, name, species):\n",
    "        self.name = name\n",
    "        self.species = species\n",
    "\n",
    "    @abstractmethod\n",
    "    def eat(self):\n",
    "        pass\n",
    "\n",
    "    @abstractmethod\n",
    "    def sleep(self):\n",
    "        pass\n",
    "\n",
    "    @abstractmethod\n",
    "    def make_sound(self):\n",
    "        pass\n",
    "\n",
    "class Mammal(Animal):\n",
    "    def eat(self):\n",
    "        print(f\"{self.name} the mammal is eating.\")\n",
    "\n",
    "    def sleep(self):\n",
    "        print(f\"{self.name} the mammal is sleeping.\")\n",
    "\n",
    "    def make_sound(self):\n",
    "        print(f\"{self.name} the mammal is making a generic mammal sound.\")\n",
    "\n",
    "class Bird(Animal):\n",
    "    def eat(self):\n",
    "        print(f\"{self.name} the bird is eating seeds.\")\n",
    "\n",
    "    def sleep(self):\n",
    "        print(f\"{self.name} the bird is sleeping in a nest.\")\n",
    "\n",
    "    def make_sound(self):\n",
    "        print(f\"{self.name} the bird is chirping.\")\n",
    "\n",
    "class Reptile(Animal):\n",
    "    def eat(self):\n",
    "        print(f\"{self.name} the reptile is eating insects.\")\n",
    "\n",
    "    def sleep(self):\n",
    "        print(f\"{self.name} the reptile is basking in the sun.\")\n",
    "\n",
    "    def make_sound(self):\n",
    "        print(f\"{self.name} the reptile is hissing.\")\n",
    "\n",
    "# Example usage\n",
    "lion = Mammal(\"Leo\", \"Lion\")\n",
    "eagle = Bird(\"Eagle\", \"Golden Eagle\")\n",
    "snake = Reptile(\"Python\", \"Ball Python\")\n",
    "\n",
    "animals = [lion, eagle, snake]\n",
    "\n",
    "for animal in animals:\n",
    "    animal.eat()\n",
    "    animal.sleep()\n",
    "    animal.make_sound()"
   ]
  },
  {
   "cell_type": "code",
   "execution_count": 25,
   "id": "45b558b1-3743-498a-972c-f71e322b4848",
   "metadata": {},
   "outputs": [
    {
     "data": {
      "text/plain": [
       "'Abstraction:\\n1. What is abstraction in Python, and how does it relate to object-oriented programming?\\n2. Describe the benefits of abstraction in terms of code organization and complexity reduction.\\n3. Create a Python class called `Shape` with an abstract method `calculate_area()`. Then, create child classes (e.g., `Circle`, `Rectangle`) that implement the `calculate_area()` method. Provide an example of\\nusing these classes.\\n4. Explain the concept of abstract classes in Python and how they are defined using the `abc` module. Provide\\nan example.\\n5. How do abstract classes differ from regular classes in Python? Discuss their use cases.\\n6. Create a Python class for a bank account and demonstrate abstraction by hiding the account balance and\\nproviding methods to deposit and withdraw funds.\\n7. Discuss the concept of interface classes in Python and their role in achieving abstraction.\\n8. Create a Python class hierarchy for animals and implement abstraction by defining common methods (e.g., `eat()`, `sleep()`) in an abstract base class.\\n9. Explain the significance of encapsulation in achieving abstraction. Provide examples.\\n10. What is the purpose of abstract methods, and how do they enforce abstraction in Python classes?\\n11. Create a Python class for a vehicle system and demonstrate abstraction by defining common methods (e.g., `start()`, `stop()`) in an abstract base class.\\n12. Describe the use of abstract properties in Python and how they can be employed in abstract classes.\\n13. Create a Python class hierarchy for employees in a company (e.g., manager, developer, designer) and implement abstraction by defining a common `get_salary()` method.\\n14. Discuss the differences between abstract classes and concrete classes in Python, including their\\ninstantiation.\\n15. Explain the concept of abstract data types (ADTs) and their role in achieving abstraction in Python.\\n16. Create a Python class for a computer system, demonstrating abstraction by defining common methods (e.g., `power_on()`, `shutdown()`) in an abstract base class.\\n17. Discuss the benefits of using abstraction in large-scale software development projects.\\n18. Explain how abstraction enhances code reusability and modularity in Python programs.\\n19. Create a Python class for a library system, implementing abstraction by defining common methods (e.g., `add_book()`, `borrow_book()`) in an abstract base class.\\n20. Describe the concept of method abstraction in Python and how it relates to polymorphism.'"
      ]
     },
     "execution_count": 25,
     "metadata": {},
     "output_type": "execute_result"
    }
   ],
   "source": [
    "\"\"\"Abstraction:\n",
    "1. What is abstraction in Python, and how does it relate to object-oriented programming?\n",
    "2. Describe the benefits of abstraction in terms of code organization and complexity reduction.\n",
    "3. Create a Python class called `Shape` with an abstract method `calculate_area()`. Then, create child classes (e.g., `Circle`, `Rectangle`) that implement the `calculate_area()` method. Provide an example of\n",
    "using these classes.\n",
    "4. Explain the concept of abstract classes in Python and how they are defined using the `abc` module. Provide\n",
    "an example.\n",
    "5. How do abstract classes differ from regular classes in Python? Discuss their use cases.\n",
    "6. Create a Python class for a bank account and demonstrate abstraction by hiding the account balance and\n",
    "providing methods to deposit and withdraw funds.\n",
    "7. Discuss the concept of interface classes in Python and their role in achieving abstraction.\n",
    "8. Create a Python class hierarchy for animals and implement abstraction by defining common methods (e.g., `eat()`, `sleep()`) in an abstract base class.\n",
    "9. Explain the significance of encapsulation in achieving abstraction. Provide examples.\n",
    "10. What is the purpose of abstract methods, and how do they enforce abstraction in Python classes?\n",
    "11. Create a Python class for a vehicle system and demonstrate abstraction by defining common methods (e.g., `start()`, `stop()`) in an abstract base class.\n",
    "12. Describe the use of abstract properties in Python and how they can be employed in abstract classes.\n",
    "13. Create a Python class hierarchy for employees in a company (e.g., manager, developer, designer) and implement abstraction by defining a common `get_salary()` method.\n",
    "14. Discuss the differences between abstract classes and concrete classes in Python, including their\n",
    "instantiation.\n",
    "15. Explain the concept of abstract data types (ADTs) and their role in achieving abstraction in Python.\n",
    "16. Create a Python class for a computer system, demonstrating abstraction by defining common methods (e.g., `power_on()`, `shutdown()`) in an abstract base class.\n",
    "17. Discuss the benefits of using abstraction in large-scale software development projects.\n",
    "18. Explain how abstraction enhances code reusability and modularity in Python programs.\n",
    "19. Create a Python class for a library system, implementing abstraction by defining common methods (e.g., `add_book()`, `borrow_book()`) in an abstract base class.\n",
    "20. Describe the concept of method abstraction in Python and how it relates to polymorphism.\"\"\""
   ]
  },
  {
   "cell_type": "code",
   "execution_count": 26,
   "id": "53f11228-2d86-42d2-8edd-a47501f2da76",
   "metadata": {},
   "outputs": [
    {
     "data": {
      "text/plain": [
       "'Abstraction in Python\\nAbstraction in Python refers to the concept of hiding the implementation details and showing only the essential features of an object. It allows a programmer to focus on what an object does rather than how it does it. This is a core principle of object-oriented programming (OOP) and helps manage complexity by separating the interface (what is exposed to the user) from the implementation (what happens under the hood).\\n\\nHow Abstraction Works in Python:\\nIn Python, abstraction is implemented using abstract classes and abstract methods, which are provided by the abc (Abstract Base Class) module. An abstract class cannot be instantiated and often contains one or more abstract methods. Subclasses are expected to provide concrete implementations of these abstract methods.'"
      ]
     },
     "execution_count": 26,
     "metadata": {},
     "output_type": "execute_result"
    }
   ],
   "source": [
    "\"\"\"Abstraction in Python\n",
    "Abstraction in Python refers to the concept of hiding the implementation details and showing only the essential features of an object.\n",
    "It allows a programmer to focus on what an object does rather than how it does it. This is a core principle of object-oriented programming (OOP) and helps manage complexity by separating the interface (what is exposed to the user) from the implementation (what happens under the hood).\n",
    "\n",
    "How Abstraction Works in Python:\n",
    "In Python, abstraction is implemented using abstract classes and abstract methods, which are provided by the abc (Abstract Base Class) module.\n",
    "An abstract class cannot be instantiated and often contains one or more abstract methods. Subclasses are expected to provide concrete implementations of these abstract methods.\"\"\""
   ]
  },
  {
   "cell_type": "code",
   "execution_count": 27,
   "id": "c27d5a27-3848-40ce-8b0a-a65e255a22d4",
   "metadata": {},
   "outputs": [
    {
     "data": {
      "text/plain": [
       "'Benefits of Abstraction in Code Organization and Complexity Reduction\\nAbstraction is a fundamental concept in object-oriented programming that involves focusing on the essential features of a problem while hiding unnecessary details. This technique offers several advantages in terms of code organization and complexity reduction:\\n\\nImproved Code Organization:\\nModularization: Abstraction encourages the creation of well-defined modules or components, each responsible for a specific task. This modularization makes the code easier to understand, maintain, and reuse.\\nSeparation of Concerns: By separating concerns, abstraction helps prevent tight coupling between different parts of the code. This makes it easier to modify or replace individual components without affecting the entire system.\\nReduced Complexity:\\nSimplified Interface: Abstraction provides a simplified interface for interacting with complex systems. This allows developers to focus on the essential functionality without getting lost in the underlying implementation details.\\nInformation Hiding: By hiding unnecessary details, abstraction prevents developers from becoming overwhelmed with complexity. This makes the code easier to learn and understand.\\nFlexibility: Abstraction makes the code more flexible and adaptable to change. If the implementation details of a component need to be modified, the rest of the system can remain unaffected as long as the interface remains consistent.'"
      ]
     },
     "execution_count": 27,
     "metadata": {},
     "output_type": "execute_result"
    }
   ],
   "source": [
    "\"\"\"Benefits of Abstraction in Code Organization and Complexity Reduction\n",
    "Abstraction is a fundamental concept in object-oriented programming that involves focusing on the essential features of a problem while hiding unnecessary details. This technique offers several advantages in terms of code organization and complexity reduction:\n",
    "\n",
    "Improved Code Organization:\n",
    "Modularization: Abstraction encourages the creation of well-defined modules or components, each responsible for a specific task. This modularization makes the code easier to understand, maintain, and reuse.\n",
    "Separation of Concerns: By separating concerns, abstraction helps prevent tight coupling between different parts of the code. This makes it easier to modify or replace individual components without affecting the entire system.\n",
    "Reduced Complexity:\n",
    "Simplified Interface: Abstraction provides a simplified interface for interacting with complex systems. This allows developers to focus on the essential functionality without getting lost in the underlying implementation details.\n",
    "Information Hiding: By hiding unnecessary details, abstraction prevents developers from becoming overwhelmed with complexity. This makes the code easier to learn and understand.\n",
    "Flexibility: Abstraction makes the code more flexible and adaptable to change. If the implementation details of a component need to be modified, the rest of the system can remain unaffected as long as the interface remains consistent.\"\"\""
   ]
  },
  {
   "cell_type": "code",
   "execution_count": 28,
   "id": "f2a6698f-4315-47d5-96d0-aa7394c6cb7c",
   "metadata": {},
   "outputs": [
    {
     "name": "stdout",
     "output_type": "stream",
     "text": [
      "78.53975\n",
      "12\n"
     ]
    }
   ],
   "source": [
    "from abc import ABC, abstractmethod\n",
    "\n",
    "class Shape(ABC):\n",
    "    @abstractmethod\n",
    "    def calculate_area(self):\n",
    "        pass\n",
    "\n",
    "class Circle(Shape):\n",
    "    def __init__(self, radius):\n",
    "        self.radius = radius\n",
    "\n",
    "    def calculate_area(self):\n",
    "        return 3.14159 * self.radius * self.radius\n",
    "\n",
    "class Rectangle(Shape):\n",
    "    def __init__(self, length, width):\n",
    "        self.length = length\n",
    "        self.width = width\n",
    "\n",
    "    def calculate_area(self):\n",
    "        return self.length * self.width\n",
    "\n",
    "# Example usage\n",
    "circle = Circle(5)\n",
    "rectangle = Rectangle(4, 3)\n",
    "\n",
    "print(circle.calculate_area())  # Output: 78.53975\n",
    "print(rectangle.calculate_area())  # Output: 12"
   ]
  },
  {
   "cell_type": "code",
   "execution_count": 29,
   "id": "b5ba16a3-3dde-4f8c-bb91-ed42e0a00eb8",
   "metadata": {},
   "outputs": [
    {
     "name": "stdout",
     "output_type": "stream",
     "text": [
      "Area of rectangle: 20\n",
      "Perimeter of rectangle: 18\n"
     ]
    }
   ],
   "source": [
    "\"\"\"Abstract Classes in Python\n",
    "An abstract class in Python is a class that cannot be instantiated directly. It serves as a blueprint for other classes and usually contains one or more abstract methods—methods that are declared but contain no implementation. The main purpose of abstract classes is to provide a common interface for its subclasses while forcing them to implement specific methods.\n",
    "\n",
    "Python provides the abc (Abstract Base Class) module to define abstract classes. A class is made abstract by inheriting from ABC (from abc module), and methods can be marked as abstract using the @abstractmethod decorator.\n",
    "\n",
    "Key Points:\n",
    "Cannot Instantiate: You cannot create objects of an abstract class.\n",
    "Abstract Methods: Subclasses that inherit from an abstract class must implement the abstract methods; otherwise, they will also be considered abstract and cannot be instantiated.\n",
    "Partial Implementation: Abstract classes can also have concrete methods (fully defined methods) along with abstract methods.\n",
    "How to Define an Abstract Class\n",
    "Import the ABC class and abstractmethod decorator from the abc module.\n",
    "Define a class that inherits from ABC.\n",
    "Define abstract methods using the @abstractmethod decorator.\"\"\"\n",
    "from abc import ABC, abstractmethod\n",
    "\n",
    "# Abstract class\n",
    "class Shape(ABC):\n",
    "    @abstractmethod\n",
    "    def area(self):\n",
    "        pass  # Abstract method\n",
    "\n",
    "    @abstractmethod\n",
    "    def perimeter(self):\n",
    "        pass \n",
    "class Rectangle(Shape):\n",
    "    def __init__(self, width, height):\n",
    "        self.width = width\n",
    "        self.height = height\n",
    "\n",
    "    # Implementing the abstract methods\n",
    "    def area(self):\n",
    "        return self.width * self.height\n",
    "\n",
    "    def perimeter(self):\n",
    "        return 2 * (self.width + self.height)\n",
    "rectangle = Rectangle(4, 5)\n",
    "print(f\"Area of rectangle: {rectangle.area()}\")\n",
    "print(f\"Perimeter of rectangle: {rectangle.perimeter()}\")\n"
   ]
  },
  {
   "cell_type": "code",
   "execution_count": 30,
   "id": "f8cb9837-ed8e-473e-8799-db54fce2a746",
   "metadata": {},
   "outputs": [
    {
     "data": {
      "text/plain": [
       "'Instantiation:\\n\\nAbstract Class: Cannot be instantiated directly. You cannot create an object of an abstract class. It serves as a blueprint for subclasses.\\nRegular Class: Can be instantiated directly. You can create objects of a regular class.\\nAbstract Methods:\\n\\nAbstract Class: May contain abstract methods (methods without implementation) that must be implemented by any subclass. Abstract methods are defined using the @abstractmethod decorator.\\nRegular Class: Contains fully implemented methods and does not require subclasses to implement any method.\\nPurpose:\\n\\nAbstract Class: Defines a common interface and enforces subclasses to implement certain methods. It helps standardize the behavior of all subclasses, ensuring they share some essential functionality while allowing flexibility in implementation.\\nRegular Class: Provides complete functionality on its own and can be used directly.\\nUse of abc Module:\\n\\nAbstract Class: Uses the abc module and must inherit from ABC (Abstract Base Class) to become an abstract class.\\nRegular Class: Does not require the abc module or inheritance from ABC.\\nPartial Implementation:\\n\\nAbstract Class: Can have both abstract methods (without implementation) and concrete methods (with implementation). Subclasses are required to implement the abstract methods but can inherit or override concrete methods.\\nRegular Class: All methods are concrete (fully implemented).'"
      ]
     },
     "execution_count": 30,
     "metadata": {},
     "output_type": "execute_result"
    }
   ],
   "source": [
    "\"\"\"Instantiation:\n",
    "\n",
    "Abstract Class: Cannot be instantiated directly. You cannot create an object of an abstract class. It serves as a blueprint for subclasses.\n",
    "Regular Class: Can be instantiated directly. You can create objects of a regular class.\n",
    "Abstract Methods:\n",
    "\n",
    "Abstract Class: May contain abstract methods (methods without implementation) that must be implemented by any subclass. Abstract methods are defined using the @abstractmethod decorator.\n",
    "Regular Class: Contains fully implemented methods and does not require subclasses to implement any method.\n",
    "Purpose:\n",
    "\n",
    "Abstract Class: Defines a common interface and enforces subclasses to implement certain methods. It helps standardize the behavior of all subclasses, ensuring they share some essential functionality while allowing flexibility in implementation.\n",
    "Regular Class: Provides complete functionality on its own and can be used directly.\n",
    "Use of abc Module:\n",
    "\n",
    "Abstract Class: Uses the abc module and must inherit from ABC (Abstract Base Class) to become an abstract class.\n",
    "Regular Class: Does not require the abc module or inheritance from ABC.\n",
    "Partial Implementation:\n",
    "\n",
    "Abstract Class: Can have both abstract methods (without implementation) and concrete methods (with implementation). Subclasses are required to implement the abstract methods but can inherit or override concrete methods.\n",
    "Regular Class: All methods are concrete (fully implemented).\"\"\""
   ]
  },
  {
   "cell_type": "code",
   "execution_count": 31,
   "id": "ad2d65a5-9342-4bba-90e9-a6c6e2edc327",
   "metadata": {},
   "outputs": [
    {
     "name": "stdout",
     "output_type": "stream",
     "text": [
      "Deposit successful. New balance: 1500\n",
      "Withdrawal successful. New balance: 1300\n",
      "Current balance: 1300\n"
     ]
    }
   ],
   "source": [
    "class BankAccount:\n",
    "    def __init__(self, initial_balance):\n",
    "        self.__balance = initial_balance\n",
    "\n",
    "    def deposit(self, amount):\n",
    "        if amount > 0:\n",
    "            self.__balance += amount\n",
    "            print(\"Deposit successful. New balance:\", self.__balance)\n",
    "        else:\n",
    "            print(\"Invalid deposit amount.\")\n",
    "\n",
    "    def withdraw(self, amount):\n",
    "        if amount > 0 and amount <= self.__balance:\n",
    "            self.__balance -= amount\n",
    "            print(\"Withdrawal successful. New balance:\", self.__balance)\n",
    "        else:\n",
    "            print(\"Invalid withdrawal amount or insufficient funds.\")\n",
    "\n",
    "    def get_balance(self):\n",
    "        return self.__balance\n",
    "account = BankAccount(1000)\n",
    "account.deposit(500)\n",
    "account.withdraw(200)\n",
    "balance = account.get_balance()\n",
    "print(\"Current balance:\", balance)"
   ]
  },
  {
   "cell_type": "code",
   "execution_count": 32,
   "id": "856e6789-5daf-44f7-87b2-867df852f25e",
   "metadata": {},
   "outputs": [
    {
     "data": {
      "text/plain": [
       "'Interface Classes in Python: A Discussion\\nInterface classes in Python, while not an explicit language construct like in Java or C#, are often implemented using abstract base classes (ABCs). An ABC defines a common API for a set of classes, specifying the methods that must be implemented by its subclasses.\\n\\nKey Characteristics of Interface Classes in Python:\\nAbstract Methods: ABCs contain at least one abstract method, denoted by the @abstractmethod decorator. These methods have no implementation within the ABC itself and must be overridden by concrete subclasses.\\nNo Concrete Implementation: ABCs are not meant to be instantiated directly. They serve as a blueprint for other classes.\\nInheritance: Subclasses must inherit from the ABC to ensure they adhere to the specified interface.\\nPolymorphism: Objects of different subclasses can be treated as instances of the common interface, enabling polymorphic behavior.\\nAchieving Abstraction with Interface Classes:\\nDefining a Common Contract: ABCs establish a clear contract between the interface and its implementations. This ensures that all classes conforming to the interface provide the same set of functionalities.\\nPromoting Code Reusability: By defining a common API, ABCs can be used to create reusable components that can be easily integrated into different parts of an application.\\nEnhancing Code Maintainability: Interface-based programming makes code more modular and easier to understand and maintain. Changes to the interface can be made in one place, affecting all implementing classes.\\nFacilitating Testing: ABCs can be used to create mock objects for testing purposes, isolating the behavior of the class under test.'"
      ]
     },
     "execution_count": 32,
     "metadata": {},
     "output_type": "execute_result"
    }
   ],
   "source": [
    "\"\"\"Interface Classes in Python: A Discussion\n",
    "Interface classes in Python, while not an explicit language construct like in Java or C#, are often implemented using abstract base classes (ABCs). An ABC defines a common API for a set of classes, specifying the methods that must be implemented by its subclasses.\n",
    "\n",
    "Key Characteristics of Interface Classes in Python:\n",
    "Abstract Methods: ABCs contain at least one abstract method, denoted by the @abstractmethod decorator. These methods have no implementation within the ABC itself and must be overridden by concrete subclasses.\n",
    "No Concrete Implementation: ABCs are not meant to be instantiated directly. They serve as a blueprint for other classes.\n",
    "Inheritance: Subclasses must inherit from the ABC to ensure they adhere to the specified interface.\n",
    "Polymorphism: Objects of different subclasses can be treated as instances of the common interface, enabling polymorphic behavior.\n",
    "Achieving Abstraction with Interface Classes:\n",
    "Defining a Common Contract: ABCs establish a clear contract between the interface and its implementations. This ensures that all classes conforming to the interface provide the same set of functionalities.\n",
    "Promoting Code Reusability: By defining a common API, ABCs can be used to create reusable components that can be easily integrated into different parts of an application.\n",
    "Enhancing Code Maintainability: Interface-based programming makes code more modular and easier to understand and maintain. Changes to the interface can be made in one place, affecting all implementing classes.\n",
    "Facilitating Testing: ABCs can be used to create mock objects for testing purposes, isolating the behavior of the class under test.\"\"\""
   ]
  },
  {
   "cell_type": "code",
   "execution_count": 33,
   "id": "46681394-8774-4c9e-813c-6d9436eea0b3",
   "metadata": {},
   "outputs": [
    {
     "name": "stdout",
     "output_type": "stream",
     "text": [
      "Buddy is eating.\n",
      "Buddy is sleeping.\n",
      "Polly is pecking food.\n",
      "Polly is roosting.\n",
      "Goldie is eating algae.\n",
      "Goldie is resting on the seabed.\n"
     ]
    }
   ],
   "source": [
    "from abc import ABC, abstractmethod\n",
    "\n",
    "class Animal(ABC):\n",
    "    @abstractmethod\n",
    "    def eat(self):\n",
    "        pass\n",
    "\n",
    "    @abstractmethod\n",
    "    def sleep(self):\n",
    "        pass\n",
    "\n",
    "class Mammal(Animal):\n",
    "    def __init__(self, name):\n",
    "        self.name = name\n",
    "\n",
    "    def eat(self):\n",
    "        print(f\"{self.name} is eating.\")\n",
    "\n",
    "    def sleep(self):\n",
    "        print(f\"{self.name} is sleeping.\")\n",
    "\n",
    "class Bird(Animal):\n",
    "    def __init__(self, name):\n",
    "        self.name = name\n",
    "\n",
    "    def eat(self):\n",
    "        print(f\"{self.name} is pecking food.\")\n",
    "\n",
    "    def sleep(self):\n",
    "        print(f\"{self.name} is roosting.\")\n",
    "\n",
    "class Fish(Animal):\n",
    "    def __init__(self, name):\n",
    "        self.name = name\n",
    "\n",
    "    def eat(self):\n",
    "        print(f\"{self.name} is eating algae.\")\n",
    "\n",
    "    def sleep(self):\n",
    "        print(f\"{self.name} is resting on the seabed.\")\n",
    "\n",
    "# Create objects of different animal classes\n",
    "dog = Mammal(\"Buddy\")\n",
    "parrot = Bird(\"Polly\")\n",
    "goldfish = Fish(\"Goldie\")\n",
    "\n",
    "# Call common methods on each animal\n",
    "dog.eat()\n",
    "dog.sleep()\n",
    "parrot.eat()\n",
    "parrot.sleep()\n",
    "goldfish.eat()\n",
    "goldfish.sleep()"
   ]
  },
  {
   "cell_type": "code",
   "execution_count": 34,
   "id": "6d2e293c-c06c-4c7c-b935-538c4a4fa2b4",
   "metadata": {},
   "outputs": [
    {
     "data": {
      "text/plain": [
       "'\\nEncapsulation is a fundamental programming principle that involves bundling data and the methods that operate on that data within a single unit, typically a class. This helps to protect data from external access and modification, ensuring data integrity and preventing unintended side effects.\\n\\nSignificance of Encapsulation in Achieving Abstraction:\\n\\nInformation Hiding: Encapsulation hides the internal implementation details of a class from the outside world. This allows users to interact with the class through a well-defined interface, without needing to understand the underlying mechanisms. This promotes abstraction by focusing on the what rather than the how.\\nData Integrity: By restricting access to data, encapsulation helps to prevent accidental or malicious modifications that could corrupt the data. This ensures that the data remains consistent and reliable.\\nModularity: Encapsulated classes are more modular, meaning they can be easily changed or replaced without affecting other parts of the system. This improves code maintainability and flexibility.\\nReusability: Encapsulated classes can be reused in different parts of an application or even in other projects. This can save development time and effort.'"
      ]
     },
     "execution_count": 34,
     "metadata": {},
     "output_type": "execute_result"
    }
   ],
   "source": [
    "\"\"\"\n",
    "Encapsulation is a fundamental programming principle that involves bundling data and the methods that operate on that data within a single unit, typically a class. This helps to protect data from external access and modification, ensuring data integrity and preventing unintended side effects.\n",
    "\n",
    "Significance of Encapsulation in Achieving Abstraction:\n",
    "\n",
    "Information Hiding: Encapsulation hides the internal implementation details of a class from the outside world. This allows users to interact with the class through a well-defined interface, without needing to understand the underlying mechanisms. This promotes abstraction by focusing on the what rather than the how.\n",
    "Data Integrity: By restricting access to data, encapsulation helps to prevent accidental or malicious modifications that could corrupt the data. This ensures that the data remains consistent and reliable.\n",
    "Modularity: Encapsulated classes are more modular, meaning they can be easily changed or replaced without affecting other parts of the system. This improves code maintainability and flexibility.\n",
    "Reusability: Encapsulated classes can be reused in different parts of an application or even in other projects. This can save development time and effort.\"\"\""
   ]
  },
  {
   "cell_type": "code",
   "execution_count": 35,
   "id": "c52cbb30-cdc7-414a-adf1-509b810aaf8d",
   "metadata": {},
   "outputs": [
    {
     "data": {
      "text/plain": [
       "'Abstract methods in Python are methods that are defined within an abstract base class (ABC) but have no implementation. They serve as placeholders for methods that must be implemented by concrete subclasses.\\n\\nPurpose:\\n\\nDefining a Common Interface: Abstract methods define a common interface or contract that all subclasses must adhere to. This ensures that all objects of subclasses have the same set of methods, promoting consistency and interoperability.\\nEnforcing Implementation: By requiring subclasses to provide implementations for abstract methods, abstract methods ensure that the necessary functionality is present in derived classes. This prevents incomplete or inconsistent implementations.\\nPromoting Polymorphism: Abstract methods enable polymorphism, where objects of different subclasses can be treated as instances of the common base class. This allows for more flexible and reusable code.\\nHow they enforce abstraction:\\n\\nPreventing Instantiation: Abstract base classes cannot be directly instantiated. This forces developers to create concrete subclasses that provide implementations for the abstract methods. This ensures that the abstract methods are not used directly, promoting abstraction.\\nEnforcing Method Overriding: Subclasses must override abstract methods to provide their own implementations. This ensures that the required functionality is present in derived classes, preventing incomplete or inconsistent implementations.\\nHiding Implementation Details: By defining abstract methods in the base class, the implementation details of these methods are hidden from the users of the class. This promotes abstraction by focusing on the what rather than the how.'"
      ]
     },
     "execution_count": 35,
     "metadata": {},
     "output_type": "execute_result"
    }
   ],
   "source": [
    "\"\"\"Abstract methods in Python are methods that are defined within an abstract base class (ABC) but have no implementation. They serve as placeholders for methods that must be implemented by concrete subclasses.\n",
    "\n",
    "Purpose:\n",
    "\n",
    "Defining a Common Interface: Abstract methods define a common interface or contract that all subclasses must adhere to. This ensures that all objects of subclasses have the same set of methods, promoting consistency and interoperability.\n",
    "Enforcing Implementation: By requiring subclasses to provide implementations for abstract methods, abstract methods ensure that the necessary functionality is present in derived classes. This prevents incomplete or inconsistent implementations.\n",
    "Promoting Polymorphism: Abstract methods enable polymorphism, where objects of different subclasses can be treated as instances of the common base class. This allows for more flexible and reusable code.\n",
    "How they enforce abstraction:\n",
    "\n",
    "Preventing Instantiation: Abstract base classes cannot be directly instantiated. This forces developers to create concrete subclasses that provide implementations for the abstract methods. This ensures that the abstract methods are not used directly, promoting abstraction.\n",
    "Enforcing Method Overriding: Subclasses must override abstract methods to provide their own implementations. This ensures that the required functionality is present in derived classes, preventing incomplete or inconsistent implementations.\n",
    "Hiding Implementation Details: By defining abstract methods in the base class, the implementation details of these methods are hidden from the users of the class. This promotes abstraction by focusing on the what rather than the how.\"\"\""
   ]
  },
  {
   "cell_type": "code",
   "execution_count": 36,
   "id": "e12624c3-d458-4745-9a2a-582fd763e676",
   "metadata": {},
   "outputs": [
    {
     "name": "stdout",
     "output_type": "stream",
     "text": [
      "Car engine starting...\n",
      "Fuel level is sufficient.\n",
      "Bike engine starting...\n",
      "Truck engine stopping...\n"
     ]
    }
   ],
   "source": [
    "from abc import ABC, abstractmethod\n",
    "\n",
    "# Abstract base class\n",
    "class Vehicle(ABC):\n",
    "    @abstractmethod\n",
    "    def start(self):\n",
    "        pass\n",
    "    \n",
    "    @abstractmethod\n",
    "    def stop(self):\n",
    "        pass\n",
    "\n",
    "    def fuel_level(self):\n",
    "        return \"Fuel level is sufficient.\"\n",
    "\n",
    "# Subclass Car\n",
    "class Car(Vehicle):\n",
    "    def start(self):\n",
    "        return \"Car engine starting...\"\n",
    "\n",
    "    def stop(self):\n",
    "        return \"Car engine stopping...\"\n",
    "\n",
    "# Subclass Bike\n",
    "class Bike(Vehicle):\n",
    "    def start(self):\n",
    "        return \"Bike engine starting...\"\n",
    "\n",
    "    def stop(self):\n",
    "        return \"Bike engine stopping...\"\n",
    "\n",
    "# Subclass Truck\n",
    "class Truck(Vehicle):\n",
    "    def start(self):\n",
    "        return \"Truck engine starting...\"\n",
    "\n",
    "    def stop(self):\n",
    "        return \"Truck engine stopping...\"\n",
    "\n",
    "\n",
    "car = Car()\n",
    "bike = Bike()\n",
    "truck = Truck()\n",
    "\n",
    "print(car.start())  \n",
    "print(car.fuel_level())  \n",
    "print(bike.start())  \n",
    "print(truck.stop())  \n"
   ]
  },
  {
   "cell_type": "code",
   "execution_count": 37,
   "id": "faae6053-db4a-4c04-8fbe-e81c789e17c6",
   "metadata": {},
   "outputs": [
    {
     "data": {
      "text/plain": [
       "'Abstract Properties in Python are a powerful mechanism for defining the interface of a class, similar to abstract methods. They allow you to specify the attributes that a class must have, but without providing a concrete implementation.\\n\\nKey Characteristics:\\n\\nDeclared with @property and @abstractmethod: Abstract properties are declared using both the @property and @abstractmethod decorators.\\nNo Implementation: Like abstract methods, abstract properties do not have a concrete implementation in the base class.\\nGetter and Setter Methods: Abstract properties typically have corresponding getter and setter methods that can be defined in subclasses.\\nEnforced by Subclasses: Subclasses must provide concrete implementations for abstract properties, ensuring that they have the required attributes.\\nUse Cases:\\n\\nDefining a Common Interface: Abstract properties can be used to define a common interface for a set of classes, ensuring that all classes have the same set of attributes.\\nEnforcing Attribute Existence: By requiring subclasses to implement abstract properties, you can ensure that they have the necessary attributes, preventing incomplete or inconsistent implementations.\\nControlling Access to Attributes: You can use getter and setter methods to control access to attributes, providing validation or modifying values as needed.'"
      ]
     },
     "execution_count": 37,
     "metadata": {},
     "output_type": "execute_result"
    }
   ],
   "source": [
    "\"\"\"Abstract Properties in Python are a powerful mechanism for defining the interface of a class, similar to abstract methods. They allow you to specify the attributes that a class must have, but without providing a concrete implementation.\n",
    "\n",
    "Key Characteristics:\n",
    "\n",
    "Declared with @property and @abstractmethod: Abstract properties are declared using both the @property and @abstractmethod decorators.\n",
    "No Implementation: Like abstract methods, abstract properties do not have a concrete implementation in the base class.\n",
    "Getter and Setter Methods: Abstract properties typically have corresponding getter and setter methods that can be defined in subclasses.\n",
    "Enforced by Subclasses: Subclasses must provide concrete implementations for abstract properties, ensuring that they have the required attributes.\n",
    "Use Cases:\n",
    "\n",
    "Defining a Common Interface: Abstract properties can be used to define a common interface for a set of classes, ensuring that all classes have the same set of attributes.\n",
    "Enforcing Attribute Existence: By requiring subclasses to implement abstract properties, you can ensure that they have the necessary attributes, preventing incomplete or inconsistent implementations.\n",
    "Controlling Access to Attributes: You can use getter and setter methods to control access to attributes, providing validation or modifying values as needed.\"\"\""
   ]
  },
  {
   "cell_type": "code",
   "execution_count": 39,
   "id": "fc6a3e49-5a16-4c37-b2c3-278e4a404335",
   "metadata": {},
   "outputs": [
    {
     "name": "stdout",
     "output_type": "stream",
     "text": [
      "60000\n",
      "50000\n",
      "42000\n"
     ]
    }
   ],
   "source": [
    "from abc import ABC, abstractmethod\n",
    "\n",
    "class Employee(ABC):\n",
    "    def __init__(self, name, salary):\n",
    "        self.name = name\n",
    "        self.salary = salary\n",
    "\n",
    "    @abstractmethod\n",
    "    def get_salary(self):\n",
    "        pass\n",
    "\n",
    "class Manager(Employee):\n",
    "    def __init__(self, name, salary, bonus):\n",
    "        super().__init__(name, salary)\n",
    "        self.bonus = bonus\n",
    "\n",
    "    def get_salary(self):\n",
    "        return self.salary + self.bonus\n",
    "\n",
    "class Developer(Employee):\n",
    "    def __init__(self, name, salary, project_bonus):\n",
    "        super().__init__(name, salary)\n",
    "        self.project_bonus = project_bonus\n",
    "\n",
    "    def get_salary(self):\n",
    "        return self.salary + self.project_bonus\n",
    "\n",
    "class Designer(Employee):\n",
    "    def __init__(self, name, salary, overtime_pay):\n",
    "        super().__init__(name, salary)\n",
    "        self.overtime_pay = overtime_pay\n",
    "\n",
    "    def get_salary(self):\n",
    "        return self.salary + self.overtime_pay\n",
    "\n",
    "# Create objects of different employee types\n",
    "manager = Manager(\"John Doe\", 50000, 10000)\n",
    "developer = Developer(\"Jane Smith\", 45000, 5000)\n",
    "designer = Designer(\"Alice Johnson\", 40000, 2000)\n",
    "\n",
    "# Calculate and print salaries\n",
    "print(manager.get_salary())\n",
    "print(developer.get_salary())\n",
    "print(designer.get_salary())"
   ]
  },
  {
   "cell_type": "code",
   "execution_count": 40,
   "id": "6edb3b67-9661-4001-97f2-3d95595d186f",
   "metadata": {},
   "outputs": [
    {
     "data": {
      "text/plain": [
       "'\\nAbstract Data Types (ADTs) and Abstraction in Python\\nAbstract Data Types (ADTs) are mathematical models that define a set of operations that can be performed on a data structure without specifying the underlying implementation. In other words, an ADT focuses on the what of the data structure, rather than the how. This concept is crucial for achieving abstraction in programming.\\nRole of ADTs in Achieving Abstraction:\\nInformation Hiding: ADTs hide the internal implementation details of a data structure, providing a level of abstraction. This prevents users from relying on specific implementation details, making the code more maintainable and flexible.\\nModularity: ADTs can be treated as self-contained units, making it easier to reason about and modify code. This promotes modularity and reusability.\\nPolymorphism: Different implementations of the same ADT can be used interchangeably, as long as they provide the same interface. This enables polymorphism and flexibility in code design.\\nProblem-Solving Focus: By focusing on the operations needed to solve a problem, ADTs help programmers concentrate on the problem domain rather than the intricacies of data structures.'"
      ]
     },
     "execution_count": 40,
     "metadata": {},
     "output_type": "execute_result"
    }
   ],
   "source": [
    "\"\"\"\n",
    "Abstract Data Types (ADTs) and Abstraction in Python\n",
    "Abstract Data Types (ADTs) are mathematical models that define a set of operations that can be performed on a data structure without specifying the underlying implementation. In other words, an ADT focuses on the what of the data structure, rather than the how. This concept is crucial for achieving abstraction in programming.\n",
    "Role of ADTs in Achieving Abstraction:\n",
    "Information Hiding: ADTs hide the internal implementation details of a data structure, providing a level of abstraction. This prevents users from relying on specific implementation details, making the code more maintainable and flexible.\n",
    "Modularity: ADTs can be treated as self-contained units, making it easier to reason about and modify code. This promotes modularity and reusability.\n",
    "Polymorphism: Different implementations of the same ADT can be used interchangeably, as long as they provide the same interface. This enables polymorphism and flexibility in code design.\n",
    "Problem-Solving Focus: By focusing on the operations needed to solve a problem, ADTs help programmers concentrate on the problem domain rather than the intricacies of data structures.\"\"\""
   ]
  },
  {
   "cell_type": "code",
   "execution_count": 41,
   "id": "9c414cd5-a703-4465-9f71-92d0f226b67a",
   "metadata": {},
   "outputs": [
    {
     "name": "stdout",
     "output_type": "stream",
     "text": [
      "Desktop computer powered on.\n",
      "Laptop powered on.\n",
      "Server powered on.\n",
      "Desktop computer shutting down...\n",
      "Laptop shutting down...\n",
      "Server shutting down...\n"
     ]
    }
   ],
   "source": [
    "from abc import ABC, abstractmethod\n",
    "\n",
    "class ComputerSystem(ABC):\n",
    "    @abstractmethod\n",
    "    def power_on(self):\n",
    "        pass\n",
    "\n",
    "    @abstractmethod\n",
    "    def shutdown(self):\n",
    "        pass\n",
    "\n",
    "class Desktop(ComputerSystem):\n",
    "    def power_on(self):\n",
    "        print(\"Desktop computer powered on.\")\n",
    "\n",
    "    def shutdown(self):\n",
    "        print(\"Desktop computer shutting down...\")\n",
    "\n",
    "class Laptop(ComputerSystem):\n",
    "    def power_on(self):\n",
    "        print(\"Laptop powered on.\")\n",
    "\n",
    "    def shutdown(self):\n",
    "        print(\"Laptop shutting down...\")\n",
    "\n",
    "class Server(ComputerSystem):\n",
    "    def power_on(self):\n",
    "        print(\"Server powered on.\")\n",
    "\n",
    "    def shutdown(self):\n",
    "        print(\"Server shutting down...\")\n",
    "\n",
    "# Create objects of different computer types\n",
    "desktop = Desktop()\n",
    "laptop = Laptop()\n",
    "server = Server()\n",
    "\n",
    "# Perform common actions on each computer\n",
    "desktop.power_on()\n",
    "laptop.power_on()\n",
    "server.power_on()\n",
    "\n",
    "desktop.shutdown()\n",
    "laptop.shutdown()\n",
    "server.shutdown()"
   ]
  },
  {
   "cell_type": "code",
   "execution_count": 42,
   "id": "5a843a5f-ace8-4a27-9511-71b5cc8dfcdf",
   "metadata": {},
   "outputs": [
    {
     "data": {
      "text/plain": [
       "'Benefits of Using Abstraction in Large-Scale Software Development Projects\\n\\nAbstraction is a fundamental concept in software engineering that involves simplifying complex systems by focusing on essential features while hiding unnecessary details. In large-scale projects, abstraction offers several significant advantages:\\n\\nModularity and Reusability:\\n\\nBreaking Down Complexity: Abstraction allows large systems to be broken down into smaller, more manageable modules. This makes the code easier to understand, maintain, and test.\\nCode Reusability: By focusing on the essential features, abstract components can be reused in different parts of the project or even in other projects, reducing development time and effort.\\nImproved Maintainability:\\n\\nIsolation of Changes: Changes to one module are less likely to affect other parts of the system, as the implementation details are hidden behind an abstract interface. This makes the code easier to maintain and update.\\nEasier Debugging: Abstraction can help isolate issues to specific modules, making debugging more efficient.\\nEnhanced Scalability:\\n\\nFlexibility: Abstract components can be easily replaced or modified without affecting the overall system behavior. This makes it easier to scale the system to accommodate future growth.\\nAdaptability: Abstraction allows for the integration of new technologies or features without requiring major changes to the existing codebase.'"
      ]
     },
     "execution_count": 42,
     "metadata": {},
     "output_type": "execute_result"
    }
   ],
   "source": [
    "\"\"\"Benefits of Using Abstraction in Large-Scale Software Development Projects\n",
    "\n",
    "Abstraction is a fundamental concept in software engineering that involves simplifying complex systems by focusing on essential features while hiding unnecessary details. In large-scale projects, abstraction offers several significant advantages:\n",
    "\n",
    "Modularity and Reusability:\n",
    "\n",
    "Breaking Down Complexity: Abstraction allows large systems to be broken down into smaller, more manageable modules. This makes the code easier to understand, maintain, and test.\n",
    "Code Reusability: By focusing on the essential features, abstract components can be reused in different parts of the project or even in other projects, reducing development time and effort.\n",
    "Improved Maintainability:\n",
    "\n",
    "Isolation of Changes: Changes to one module are less likely to affect other parts of the system, as the implementation details are hidden behind an abstract interface. This makes the code easier to maintain and update.\n",
    "Easier Debugging: Abstraction can help isolate issues to specific modules, making debugging more efficient.\n",
    "Enhanced Scalability:\n",
    "\n",
    "Flexibility: Abstract components can be easily replaced or modified without affecting the overall system behavior. This makes it easier to scale the system to accommodate future growth.\n",
    "Adaptability: Abstraction allows for the integration of new technologies or features without requiring major changes to the existing codebase.\"\"\""
   ]
  },
  {
   "cell_type": "code",
   "execution_count": 43,
   "id": "50bbd928-57a8-4925-839f-2fce2c820db3",
   "metadata": {},
   "outputs": [
    {
     "data": {
      "text/plain": [
       "'\\nAbstraction: The Key to Reusability and Modularity\\nAbstraction in programming involves focusing on the essential features of a problem or object while hiding unnecessary details. In Python, this concept plays a crucial role in enhancing code reusability and modularity.\\n\\nCode Reusability\\nCommon Patterns: Abstraction allows you to identify common patterns and behaviors in your code. By encapsulating these patterns into reusable components (like functions, classes, or modules), you can avoid writing the same code multiple times.\\nGeneric Solutions: Abstracting away specific details can lead to more generic solutions that can be applied to various scenarios. For example, a generic sorting algorithm can be used to sort different types of data.\\nModularity\\nDivide and Conquer: Abstraction helps break down large, complex problems into smaller, more manageable modules. This makes the code easier to understand, maintain, and test.\\nLoose Coupling: By focusing on the interface rather than the implementation, abstract components can be loosely coupled, reducing dependencies and making the code more flexible.\\nIndependent Development: Different modules can be developed independently, as long as they adhere to the defined interfaces. This can accelerate development and improve collaboration.'"
      ]
     },
     "execution_count": 43,
     "metadata": {},
     "output_type": "execute_result"
    }
   ],
   "source": [
    "\"\"\"\n",
    "Abstraction: The Key to Reusability and Modularity\n",
    "Abstraction in programming involves focusing on the essential features of a problem or object while hiding unnecessary details. In Python, this concept plays a crucial role in enhancing code reusability and modularity.\n",
    "\n",
    "Code Reusability\n",
    "Common Patterns: Abstraction allows you to identify common patterns and behaviors in your code. By encapsulating these patterns into reusable components (like functions, classes, or modules), you can avoid writing the same code multiple times.\n",
    "Generic Solutions: Abstracting away specific details can lead to more generic solutions that can be applied to various scenarios. For example, a generic sorting algorithm can be used to sort different types of data.\n",
    "Modularity\n",
    "Divide and Conquer: Abstraction helps break down large, complex problems into smaller, more manageable modules. This makes the code easier to understand, maintain, and test.\n",
    "Loose Coupling: By focusing on the interface rather than the implementation, abstract components can be loosely coupled, reducing dependencies and making the code more flexible.\n",
    "Independent Development: Different modules can be developed independently, as long as they adhere to the defined interfaces. This can accelerate development and improve collaboration.\"\"\""
   ]
  },
  {
   "cell_type": "code",
   "execution_count": 44,
   "id": "b8f7deaa-2a54-463d-ab25-5d7761248ffe",
   "metadata": {},
   "outputs": [
    {
     "name": "stdout",
     "output_type": "stream",
     "text": [
      "Book 'The Great Gatsby' added to the library.\n",
      "Book 'The Great Gatsby' borrowed.\n",
      "Book 'The Great Gatsby' returned to the library.\n",
      "Magazine 'National Geographic' added to the library.\n",
      "Magazine 'National Geographic' borrowed.\n",
      "Magazine 'National Geographic' returned to the library.\n"
     ]
    }
   ],
   "source": [
    "from abc import ABC, abstractmethod\n",
    "\n",
    "class LibraryItem(ABC):\n",
    "    def __init__(self, title, author, isbn):\n",
    "        self.title = title\n",
    "        self.author = author\n",
    "        self.isbn = isbn\n",
    "\n",
    "    @abstractmethod\n",
    "    def add_to_library(self):\n",
    "        pass\n",
    "\n",
    "    @abstractmethod\n",
    "    def borrow(self):\n",
    "        pass\n",
    "\n",
    "    @abstractmethod\n",
    "    def return_to_library(self):\n",
    "        pass\n",
    "\n",
    "class Book(LibraryItem):\n",
    "    def __init__(self, title, author, isbn, genre):\n",
    "        super().__init__(title, author, isbn)\n",
    "        self.genre = genre\n",
    "\n",
    "    def add_to_library(self):\n",
    "        print(f\"Book '{self.title}' added to the library.\")\n",
    "\n",
    "    def borrow(self):\n",
    "        print(f\"Book '{self.title}' borrowed.\")\n",
    "\n",
    "    def return_to_library(self):\n",
    "        print(f\"Book '{self.title}' returned to the library.\")\n",
    "\n",
    "class Magazine(LibraryItem):\n",
    "    def __init__(self, title, author, isbn, issue_number):\n",
    "        super().__init__(title, author, isbn)\n",
    "        self.issue_number = issue_number\n",
    "\n",
    "    def add_to_library(self):\n",
    "        print(f\"Magazine '{self.title}' added to the library.\")\n",
    "\n",
    "    def borrow(self):\n",
    "        print(f\"Magazine '{self.title}' borrowed.\")\n",
    "\n",
    "    def return_to_library(self):\n",
    "        print(f\"Magazine '{self.title}' returned to the library.\")\n",
    "\n",
    "# Create objects of different library items\n",
    "book = Book(\"The Great Gatsby\", \"F. Scott Fitzgerald\", \"9780743273565\", \"Fiction\")\n",
    "magazine = Magazine(\"National Geographic\", \"Various\", \"1234567890\", 10)\n",
    "\n",
    "# Perform common actions on each library item\n",
    "book.add_to_library()\n",
    "book.borrow()\n",
    "book.return_to_library()\n",
    "\n",
    "magazine.add_to_library()\n",
    "magazine.borrow()\n",
    "magazine.return_to_library()"
   ]
  },
  {
   "cell_type": "code",
   "execution_count": 45,
   "id": "dad79611-9ff3-4cc8-9e63-a40c2d8c0484",
   "metadata": {},
   "outputs": [
    {
     "data": {
      "text/plain": [
       "'Method Abstraction in Python\\nMethod abstraction in Python refers to the process of defining methods in a class without providing the complete implementation. This concept allows a class to outline what methods must exist, but leaves the details of how they should be performed to the subclasses. Method abstraction is typically achieved using abstract classes and abstract methods.\\n\\nAn abstract method is a method that is declared in a class but lacks an implementation. These methods force subclasses to provide their own specific implementation. This way, method abstraction ensures that the subclasses adhere to a specific contract or interface, while allowing flexibility in the implementation.\\n\\nIn Python, method abstraction is achieved using the abc (Abstract Base Classes) module, and abstract methods are decorated with @abstractmethod.'"
      ]
     },
     "execution_count": 45,
     "metadata": {},
     "output_type": "execute_result"
    }
   ],
   "source": [
    "\"\"\"Method Abstraction in Python\n",
    "Method abstraction in Python refers to the process of defining methods in a class without providing the complete implementation. This concept allows a class to outline what methods must exist, but leaves the details of how they should be performed to the subclasses. Method abstraction is typically achieved using abstract classes and abstract methods.\n",
    "\n",
    "An abstract method is a method that is declared in a class but lacks an implementation. These methods force subclasses to provide their own specific implementation. This way, method abstraction ensures that the subclasses adhere to a specific contract or interface, while allowing flexibility in the implementation.\n",
    "\n",
    "In Python, method abstraction is achieved using the abc (Abstract Base Classes) module, and abstract methods are decorated with @abstractmethod.\"\"\""
   ]
  },
  {
   "cell_type": "code",
   "execution_count": 46,
   "id": "a1995abf-9472-4f3e-94b1-03682d018a77",
   "metadata": {},
   "outputs": [
    {
     "data": {
      "text/plain": [
       "'Composition:\\n1. Explain the concept of composition in Python and how it is used to build complex objects from simpler ones.\\n2. Describe the difference between composition and inheritance in object-oriented programming.\\n3. Create a Python class called `Author` with attributes for name and birthdate. Then, create a `Book` class\\nthat contains an instance of `Author` as a composition. Provide an example of creating a `Book` object.\\n4. Discuss the benefits of using composition over inheritance in Python, especially in terms of code flexibility\\nand reusability.\\n5. How can you implement composition in Python classes? Provide examples of using composition to create\\ncomplex objects.\\n6. Create a Python class hierarchy for a music player system, using composition to represent playlists and\\nsongs.\\n7. Explain the concept of \"has-a\" relationships in composition and how it helps design software systems.\\n8. Create a Python class for a computer system, using composition to represent components like CPU, RAM,\\nand storage devices.\\n9. Describe the concept of \"delegation\" in composition and how it simplifies the design of complex systems.\\n10. Create a Python class for a car, using composition to represent components like the engine, wheels, and\\ntransmission.\\n11. How can you encapsulate and hide the details of composed objects in Python classes to maintain\\nabstraction?\\n12. Create a Python class for a university course, using composition to represent students, instructors, and\\ncourse materials.\\n13. Discuss the challenges and drawbacks of composition, such as increased complexity and potential for\\ntight coupling between objects.\\n14. Create a Python class hierarchy for a restaurant system, using composition to represent menus, dishes,\\nand ingredients.\\n15. Explain how composition enhances code maintainability and modularity in Python programs.\\n16. Create a Python class for a computer game character, using composition to represent attributes like\\nweapons, armor, and inventory.\\n17. Describe the concept of \"aggregation\" in composition and how it differs from simple composition.\\n18. Create a Python class for a house, using composition to represent rooms, furniture, and appliances.\\n19. How can you achieve flexibility in composed objects by allowing them to be replaced or modified\\ndynamically at runtime?\\n20. Create a Python class for a social media application, using composition to represent users, posts, and\\ncomments.\\n'"
      ]
     },
     "execution_count": 46,
     "metadata": {},
     "output_type": "execute_result"
    }
   ],
   "source": [
    "\"\"\"Composition:\n",
    "1. Explain the concept of composition in Python and how it is used to build complex objects from simpler ones.\n",
    "2. Describe the difference between composition and inheritance in object-oriented programming.\n",
    "3. Create a Python class called `Author` with attributes for name and birthdate. Then, create a `Book` class\n",
    "that contains an instance of `Author` as a composition. Provide an example of creating a `Book` object.\n",
    "4. Discuss the benefits of using composition over inheritance in Python, especially in terms of code flexibility\n",
    "and reusability.\n",
    "5. How can you implement composition in Python classes? Provide examples of using composition to create\n",
    "complex objects.\n",
    "6. Create a Python class hierarchy for a music player system, using composition to represent playlists and\n",
    "songs.\n",
    "7. Explain the concept of \"has-a\" relationships in composition and how it helps design software systems.\n",
    "8. Create a Python class for a computer system, using composition to represent components like CPU, RAM,\n",
    "and storage devices.\n",
    "9. Describe the concept of \"delegation\" in composition and how it simplifies the design of complex systems.\n",
    "10. Create a Python class for a car, using composition to represent components like the engine, wheels, and\n",
    "transmission.\n",
    "11. How can you encapsulate and hide the details of composed objects in Python classes to maintain\n",
    "abstraction?\n",
    "12. Create a Python class for a university course, using composition to represent students, instructors, and\n",
    "course materials.\n",
    "13. Discuss the challenges and drawbacks of composition, such as increased complexity and potential for\n",
    "tight coupling between objects.\n",
    "14. Create a Python class hierarchy for a restaurant system, using composition to represent menus, dishes,\n",
    "and ingredients.\n",
    "15. Explain how composition enhances code maintainability and modularity in Python programs.\n",
    "16. Create a Python class for a computer game character, using composition to represent attributes like\n",
    "weapons, armor, and inventory.\n",
    "17. Describe the concept of \"aggregation\" in composition and how it differs from simple composition.\n",
    "18. Create a Python class for a house, using composition to represent rooms, furniture, and appliances.\n",
    "19. How can you achieve flexibility in composed objects by allowing them to be replaced or modified\n",
    "dynamically at runtime?\n",
    "20. Create a Python class for a social media application, using composition to represent users, posts, and\n",
    "comments.\n",
    "\"\"\"\n"
   ]
  },
  {
   "cell_type": "code",
   "execution_count": 47,
   "id": "dddca8f2-87b8-49aa-8aba-1279b2165697",
   "metadata": {},
   "outputs": [
    {
     "data": {
      "text/plain": [
       "'Composition in Python: Building Complex Objects\\nComposition in Python is a fundamental object-oriented programming concept that involves building complex objects by combining simpler objects. It\\'s often described as a \"has-a\" relationship, meaning a class can have instances of other classes as its attributes.\\n\\nKey Characteristics of Composition:\\nAggregation: A form of composition where the components can exist independently, but the composite class manages them.\\nContainment: A stronger form of composition where the components are dependent on the composite class and cannot exist independently.\\nFlexibility: Composition offers greater flexibility than inheritance, as it allows you to dynamically change the composition of an object without modifying its class.'"
      ]
     },
     "execution_count": 47,
     "metadata": {},
     "output_type": "execute_result"
    }
   ],
   "source": [
    "\"\"\"Composition in Python: Building Complex Objects\n",
    "Composition in Python is a fundamental object-oriented programming concept that involves building complex objects by combining simpler objects. It's often described as a \"has-a\" relationship, meaning a class can have instances of other classes as its attributes.\n",
    "\n",
    "Key Characteristics of Composition:\n",
    "Aggregation: A form of composition where the components can exist independently, but the composite class manages them.\n",
    "Containment: A stronger form of composition where the components are dependent on the composite class and cannot exist independently.\n",
    "Flexibility: Composition offers greater flexibility than inheritance, as it allows you to dynamically change the composition of an object without modifying its class.\"\"\"\n"
   ]
  },
  {
   "cell_type": "code",
   "execution_count": 48,
   "id": "532b13e4-edf9-4fb2-8b50-762d62a175d7",
   "metadata": {},
   "outputs": [
    {
     "data": {
      "text/plain": [
       "'Composition and inheritance are two fundamental concepts in object-oriented programming (OOP) that are used to create relationships between classes. While both are used to build complex objects, they serve different purposes and have distinct characteristics.\\n\\nComposition\\n\"Has-a\" relationship: A class composed of other classes has instances of those classes as its attributes.\\nFlexibility: Offers greater flexibility as components can be changed dynamically without modifying the class.\\nDecoupling: Promotes loose coupling between classes, making the code more modular and maintainable.\\nExample: A Car object might compose of an Engine object and four Wheel objects.\\nInheritance\\n\"Is-a\" relationship: A subclass inherits properties and methods from its superclass.\\nSpecialization: Allows for creating specialized subclasses that extend the functionality of the superclass.\\nCode reuse: Promotes code reuse by sharing common attributes and methods between related classes.\\nExample: A Dog class might inherit from a Animal superclass, inheriting properties like name, age, and methods like eat and sleep.'"
      ]
     },
     "execution_count": 48,
     "metadata": {},
     "output_type": "execute_result"
    }
   ],
   "source": [
    "\"\"\"Composition and inheritance are two fundamental concepts in object-oriented programming (OOP) that are used to create relationships between classes. While both are used to build complex objects, they serve different purposes and have distinct characteristics.\n",
    "\n",
    "Composition\n",
    "\"Has-a\" relationship: A class composed of other classes has instances of those classes as its attributes.\n",
    "Flexibility: Offers greater flexibility as components can be changed dynamically without modifying the class.\n",
    "Decoupling: Promotes loose coupling between classes, making the code more modular and maintainable.\n",
    "Example: A Car object might compose of an Engine object and four Wheel objects.\n",
    "Inheritance\n",
    "\"Is-a\" relationship: A subclass inherits properties and methods from its superclass.\n",
    "Specialization: Allows for creating specialized subclasses that extend the functionality of the superclass.\n",
    "Code reuse: Promotes code reuse by sharing common attributes and methods between related classes.\n",
    "Example: A Dog class might inherit from a Animal superclass, inheriting properties like name, age, and methods like eat and sleep.\"\"\""
   ]
  },
  {
   "cell_type": "code",
   "execution_count": 49,
   "id": "eecc14ad-0aa6-4dc7-abc9-6c5a0d4b78cd",
   "metadata": {},
   "outputs": [],
   "source": [
    "class Engine:\n",
    "    def start(self):\n",
    "        print(\"Engine started.\")\n",
    "\n",
    "    def stop(self):\n",
    "        print(\"Engine stopped.\")\n",
    "\n",
    "class Wheels:\n",
    "    def rotate(self):\n",
    "        print(\"Wheels rotating.\")\n",
    "\n",
    "class Car:\n",
    "    def __init__(self):\n",
    "        self.engine = Engine()\n",
    "        self.wheels = [Wheels() for _ in range(4)]\n",
    "\n",
    "    def drive(self):\n",
    "        self.engine.start()\n",
    "        for wheel in self.wheels:\n",
    "            wheel.rotate()"
   ]
  },
  {
   "cell_type": "code",
   "execution_count": 50,
   "id": "1f1ed63c-3f73-49ef-9f2b-4ee8a062c208",
   "metadata": {},
   "outputs": [
    {
     "name": "stdout",
     "output_type": "stream",
     "text": [
      "Playing: Bohemian Rhapsody by Queen\n",
      "Playing: Hotel California by Eagles\n"
     ]
    }
   ],
   "source": [
    "class Song:\n",
    "    def __init__(self, title, artist, duration):\n",
    "        self.title = title\n",
    "        self.artist = artist\n",
    "        self.duration = duration\n",
    "\n",
    "class Playlist:\n",
    "    def __init__(self, name):\n",
    "        self.name = name\n",
    "        self.songs = []\n",
    "\n",
    "    def add_song(self, song):\n",
    "        self.songs.append(song)\n",
    "\n",
    "    def remove_song(self, song):\n",
    "        self.songs.remove(song)\n",
    "\n",
    "    def play(self):\n",
    "        for song in self.songs:\n",
    "            print(f\"Playing: {song.title} by {song.artist}\")\n",
    "\n",
    "class MusicPlayer:\n",
    "    def __init__(self):\n",
    "        self.playlists = []\n",
    "\n",
    "    def add_playlist(self, playlist):\n",
    "        self.playlists.append(playlist)\n",
    "\n",
    "    def remove_playlist(self, playlist):\n",
    "        self.playlists.remove(playlist)\n",
    "\n",
    "    def play_playlist(self, playlist_name):\n",
    "        for playlist in self.playlists:\n",
    "            if playlist.name == playlist_name:\n",
    "                playlist.play()\n",
    "                break\n",
    "        else:\n",
    "            print(\"Playlist not found.\")\n",
    "\n",
    "# Create objects\n",
    "song1 = Song(\"Bohemian Rhapsody\", \"Queen\", 5.96)\n",
    "song2 = Song(\"Hotel California\", \"Eagles\", 6.33)\n",
    "\n",
    "playlist1 = Playlist(\"My Favorites\")\n",
    "playlist1.add_song(song1)\n",
    "playlist1.add_song(song2)\n",
    "\n",
    "music_player = MusicPlayer()\n",
    "music_player.add_playlist(playlist1)\n",
    "\n",
    "# Play the playlist\n",
    "music_player.play_playlist(\"My Favorites\")"
   ]
  },
  {
   "cell_type": "code",
   "execution_count": 51,
   "id": "4ee99451-cf49-4559-a677-3a69033c004c",
   "metadata": {},
   "outputs": [
    {
     "data": {
      "text/plain": [
       "'Has-a Relationships in Composition\\n\\nIn the context of object-oriented programming, a \"has-a\" relationship describes a situation where one object contains or has another object as its attribute. This is a fundamental concept in composition, where complex objects are built from simpler ones.\\n\\nHow \"Has-a\" Relationships Help Design Software Systems\\nModularity: By breaking down complex systems into smaller, self-contained objects, \"has-a\" relationships promote modularity. This makes the code easier to understand, maintain, and test.\\nReusability: When objects are designed with a \"has-a\" relationship, they can often be reused in different contexts. For example, a Car object might have an Engine object and four Wheel objects. These components could be reused in other vehicles like trucks or motorcycles.\\nFlexibility: \"Has-a\" relationships provide flexibility in system design. You can change the composition of an object without modifying its class. For instance, a Car could have different types of Engine or Wheel objects depending on the specific model.\\nDecoupling: By separating concerns into different objects, \"has-a\" relationships can help decouple components, making the system less tightly coupled and more maintainable.\\nAbstraction: \"Has-a\" relationships can be used to implement abstraction by hiding the internal details of components. For example, a Car object can expose a public interface for driving, without revealing the specific implementation of its Engine or Wheels.'"
      ]
     },
     "execution_count": 51,
     "metadata": {},
     "output_type": "execute_result"
    }
   ],
   "source": [
    "\"\"\"Has-a Relationships in Composition\n",
    "\n",
    "In the context of object-oriented programming, a \"has-a\" relationship describes a situation where one object contains or has another object as its attribute. This is a fundamental concept in composition, where complex objects are built from simpler ones.\n",
    "\n",
    "How \"Has-a\" Relationships Help Design Software Systems\n",
    "Modularity: By breaking down complex systems into smaller, self-contained objects, \"has-a\" relationships promote modularity. This makes the code easier to understand, maintain, and test.\n",
    "Reusability: When objects are designed with a \"has-a\" relationship, they can often be reused in different contexts. For example, a Car object might have an Engine object and four Wheel objects. These components could be reused in other vehicles like trucks or motorcycles.\n",
    "Flexibility: \"Has-a\" relationships provide flexibility in system design. You can change the composition of an object without modifying its class. For instance, a Car could have different types of Engine or Wheel objects depending on the specific model.\n",
    "Decoupling: By separating concerns into different objects, \"has-a\" relationships can help decouple components, making the system less tightly coupled and more maintainable.\n",
    "Abstraction: \"Has-a\" relationships can be used to implement abstraction by hiding the internal details of components. For example, a Car object can expose a public interface for driving, without revealing the specific implementation of its Engine or Wheels.\"\"\""
   ]
  },
  {
   "cell_type": "code",
   "execution_count": 52,
   "id": "dd1c468b-db28-4c31-85ff-ab73213d8453",
   "metadata": {},
   "outputs": [
    {
     "name": "stdout",
     "output_type": "stream",
     "text": [
      "Computer Specifications:\n",
      "CPU: 8 cores at 3.6 GHz\n",
      "RAM: 16 GB\n",
      "Storage: 512 GB SSD\n"
     ]
    }
   ],
   "source": [
    "# CPU class\n",
    "class CPU:\n",
    "    def __init__(self, cores, speed):\n",
    "        self.cores = cores  # Number of CPU cores\n",
    "        self.speed = speed  # Speed in GHz\n",
    "\n",
    "    def display_specs(self):\n",
    "        return f\"CPU: {self.cores} cores at {self.speed} GHz\"\n",
    "\n",
    "# RAM class\n",
    "class RAM:\n",
    "    def __init__(self, size):\n",
    "        self.size = size  # Size in GB\n",
    "\n",
    "    def display_specs(self):\n",
    "        return f\"RAM: {self.size} GB\"\n",
    "\n",
    "# Storage class\n",
    "class Storage:\n",
    "    def __init__(self, type, capacity):\n",
    "        self.type = type  # HDD or SSD\n",
    "        self.capacity = capacity  # Capacity in GB\n",
    "\n",
    "    def display_specs(self):\n",
    "        return f\"Storage: {self.capacity} GB {self.type}\"\n",
    "\n",
    "# Computer class (uses composition)\n",
    "class Computer:\n",
    "    def __init__(self, cpu, ram, storage):\n",
    "        self.cpu = cpu  # Composed of a CPU object\n",
    "        self.ram = ram  # Composed of a RAM object\n",
    "        self.storage = storage  # Composed of a Storage object\n",
    "\n",
    "    def display_specs(self):\n",
    "        return (f\"Computer Specifications:\\n\"\n",
    "                f\"{self.cpu.display_specs()}\\n\"\n",
    "                f\"{self.ram.display_specs()}\\n\"\n",
    "                f\"{self.storage.display_specs()}\")\n",
    "\n",
    "# Creating component objects\n",
    "cpu = CPU(cores=8, speed=3.6)  # CPU with 8 cores, 3.6 GHz\n",
    "ram = RAM(size=16)  # 16 GB RAM\n",
    "storage = Storage(type=\"SSD\", capacity=512)  # 512 GB SSD\n",
    "\n",
    "# Creating the computer using composition\n",
    "computer = Computer(cpu, ram, storage)\n",
    "\n",
    "# Display the computer specifications\n",
    "print(computer.display_specs())\n"
   ]
  },
  {
   "cell_type": "code",
   "execution_count": 53,
   "id": "83bf9b89-e658-4667-a46a-f9ff9ac7fc83",
   "metadata": {},
   "outputs": [
    {
     "data": {
      "text/plain": [
       "'Delegation is a pattern in object-oriented programming where an object delegates tasks to other objects. This is often implemented using composition, where a class has references to other classes as its attributes.\\n\\nHow Delegation Simplifies Design:\\n\\nSeparation of Concerns: Delegation helps to separate concerns by breaking down complex tasks into smaller, more manageable subtasks. This makes the code easier to understand, maintain, and test.\\nReusability: By delegating tasks to other objects, you can reuse those objects in different contexts. This promotes code reuse and reduces redundancy.\\nFlexibility: Delegation provides flexibility by allowing you to change the behavior of a system by changing the objects it delegates to. This can make the system more adaptable to changes.\\nDecoupling: Delegation can help decouple components, making the system less tightly coupled and more maintainable.'"
      ]
     },
     "execution_count": 53,
     "metadata": {},
     "output_type": "execute_result"
    }
   ],
   "source": [
    "\"\"\"Delegation is a pattern in object-oriented programming where an object delegates tasks to other objects. This is often implemented using composition, where a class has references to other classes as its attributes.\n",
    "\n",
    "How Delegation Simplifies Design:\n",
    "\n",
    "Separation of Concerns: Delegation helps to separate concerns by breaking down complex tasks into smaller, more manageable subtasks. This makes the code easier to understand, maintain, and test.\n",
    "Reusability: By delegating tasks to other objects, you can reuse those objects in different contexts. This promotes code reuse and reduces redundancy.\n",
    "Flexibility: Delegation provides flexibility by allowing you to change the behavior of a system by changing the objects it delegates to. This can make the system more adaptable to changes.\n",
    "Decoupling: Delegation can help decouple components, making the system less tightly coupled and more maintainable.\"\"\""
   ]
  },
  {
   "cell_type": "code",
   "execution_count": 54,
   "id": "06a4305a-7530-4245-9031-4fc4743a9fff",
   "metadata": {},
   "outputs": [
    {
     "name": "stdout",
     "output_type": "stream",
     "text": [
      "Engine started.\n",
      "Shifted to gear 1.\n",
      "Wheels rotating.\n",
      "Wheels rotating.\n",
      "Wheels rotating.\n",
      "Wheels rotating.\n"
     ]
    }
   ],
   "source": [
    "class Engine:\n",
    "    def start(self):\n",
    "        print(\"Engine started.\")\n",
    "\n",
    "    def stop(self):\n",
    "        print(\"Engine stopped.\")\n",
    "\n",
    "class Wheels:\n",
    "    def rotate(self):\n",
    "        print(\"Wheels rotating.\")\n",
    "\n",
    "class Transmission:\n",
    "    def shift_gear(self, gear):\n",
    "        print(f\"Shifted to gear {gear}.\")\n",
    "\n",
    "class Car:\n",
    "    def __init__(self):\n",
    "        self.engine = Engine()\n",
    "        self.wheels = [Wheels() for _ in range(4)]\n",
    "        self.transmission = Transmission()\n",
    "\n",
    "    def drive(self):\n",
    "        self.engine.start()\n",
    "        self.transmission.shift_gear(1)\n",
    "        for wheel in self.wheels:\n",
    "            wheel.rotate()\n",
    "\n",
    "# Create a car object and drive it\n",
    "car = Car()\n",
    "car.drive()"
   ]
  },
  {
   "cell_type": "code",
   "execution_count": 55,
   "id": "6b9efd83-cd1f-4288-9f14-33d86d1af085",
   "metadata": {},
   "outputs": [
    {
     "data": {
      "text/plain": [
       "'Encapsulating Composed Objects in Python\\n\\nTo maintain abstraction and hide the details of composed objects in Python, you can:\\n\\nMake the composed objects private: Use double underscores (__) to make the attributes that reference composed objects private. This prevents direct access from outside the class.\\nProvide public methods to interact with the composed objects: Create public methods that expose the necessary functionality of the composed objects without revealing their internal details.'"
      ]
     },
     "execution_count": 55,
     "metadata": {},
     "output_type": "execute_result"
    }
   ],
   "source": [
    "\"\"\"Encapsulating Composed Objects in Python\n",
    "\n",
    "To maintain abstraction and hide the details of composed objects in Python, you can:\n",
    "\n",
    "Make the composed objects private: Use double underscores (__) to make the attributes that reference composed objects private. This prevents direct access from outside the class.\n",
    "Provide public methods to interact with the composed objects: Create public methods that expose the necessary functionality of the composed objects without revealing their internal details.\"\"\""
   ]
  },
  {
   "cell_type": "code",
   "execution_count": 56,
   "id": "7e16843d-4475-462b-8bb7-93b6cec88e64",
   "metadata": {},
   "outputs": [
    {
     "name": "stdout",
     "output_type": "stream",
     "text": [
      "Course Name: Introduction to Programming\n",
      "Course Code: CS101\n",
      "Students:\n",
      "  - Alice (A123)\n",
      "  - Bob (B456)\n",
      "Instructor:\n",
      "  - Professor Smith (S789)\n",
      "Course Materials:\n",
      "  - Introduction to Python\n",
      "  - Data Structures\n"
     ]
    }
   ],
   "source": [
    "class Student:\n",
    "    def __init__(self, name, student_id):\n",
    "        self.name = name\n",
    "        self.student_id = student_id\n",
    "\n",
    "class Instructor:\n",
    "    def __init__(self, name, instructor_id):\n",
    "        self.name = name\n",
    "        self.instructor_id = instructor_id\n",
    "\n",
    "class CourseMaterial:\n",
    "    def __init__(self, title, content):\n",
    "        self.title = title\n",
    "        self.content = content\n",
    "\n",
    "class Course:\n",
    "    def __init__(self, course_name, course_code):\n",
    "        self.course_name = course_name\n",
    "        self.course_code = course_code\n",
    "        self.students = []\n",
    "        self.instructor = None\n",
    "        self.course_materials = []\n",
    "\n",
    "    def add_student(self, student):\n",
    "        self.students.append(student)\n",
    "\n",
    "    def add_instructor(self, instructor):\n",
    "        self.instructor = instructor\n",
    "\n",
    "    def add_course_material(self, material):\n",
    "        self.course_materials.append(material)\n",
    "\n",
    "    def get_course_details(self):\n",
    "        print(f\"Course Name: {self.course_name}\")\n",
    "        print(f\"Course Code: {self.course_code}\")\n",
    "        print(\"Students:\")\n",
    "        for student in self.students:\n",
    "            print(f\"  - {student.name} ({student.student_id})\")\n",
    "        print(\"Instructor:\")\n",
    "        print(f\"  - {self.instructor.name} ({self.instructor.instructor_id})\")\n",
    "        print(\"Course Materials:\")\n",
    "        for material in self.course_materials:\n",
    "            print(f\"  - {material.title}\")\n",
    "\n",
    "# Create objects\n",
    "student1 = Student(\"Alice\", \"A123\")\n",
    "student2 = Student(\"Bob\", \"B456\")\n",
    "instructor = Instructor(\"Professor Smith\", \"S789\")\n",
    "material1 = CourseMaterial(\"Introduction to Python\", \"Python programming basics\")\n",
    "material2 = CourseMaterial(\"Data Structures\", \"Lists, dictionaries, sets\")\n",
    "\n",
    "# Create a course and add components\n",
    "course = Course(\"Introduction to Programming\", \"CS101\")\n",
    "course.add_student(student1)\n",
    "course.add_student(student2)\n",
    "course.add_instructor(instructor)\n",
    "course.add_course_material(material1)\n",
    "course.add_course_material(material2)\n",
    "\n",
    "# Get course details\n",
    "course.get_course_details()"
   ]
  },
  {
   "cell_type": "code",
   "execution_count": 57,
   "id": "fc71b21a-aaac-4046-8d42-33eb26848352",
   "metadata": {},
   "outputs": [
    {
     "data": {
      "text/plain": [
       "\"Challenges and Drawbacks of Composition\\n\\nWhile composition offers many benefits, it also comes with certain challenges and potential drawbacks:\\n\\nIncreased Complexity:\\n\\nMore Objects: Using composition can lead to a proliferation of objects, making the system more complex to understand and manage.\\nRelationship Management: Managing the relationships between composed objects can be challenging, especially in large-scale systems.\\nTight Coupling:\\n\\nDependency: If components are too tightly coupled, changes to one component can have unintended consequences on others. This can make the system less flexible and more difficult to maintain.\\nCircular Dependencies: Circular dependencies between objects can create a complex web of relationships, making it difficult to reason about the system's behavior.\\nPerformance Overhead:\\n\\nObject Creation: Creating and managing multiple objects can incur performance overhead, especially in systems with limited resources.\\nTesting Challenges:\\n\\nComplex Interactions: Testing systems that use composition can be more complex due to the interactions between different components.\\nTo mitigate these challenges:\\n\\nCareful Design: Design components with clear boundaries and responsibilities to avoid tight coupling.\\nModularity: Break down complex systems into smaller, more manageable modules.\\nTesting Strategies: Use effective testing strategies, such as unit testing and integration testing, to ensure the correctness of composed objects.\\nPerformance Optimization: Consider performance optimization techniques if necessary, such as caching or reducing the number of object creations.\""
      ]
     },
     "execution_count": 57,
     "metadata": {},
     "output_type": "execute_result"
    }
   ],
   "source": [
    "\"\"\"Challenges and Drawbacks of Composition\n",
    "\n",
    "While composition offers many benefits, it also comes with certain challenges and potential drawbacks:\n",
    "\n",
    "Increased Complexity:\n",
    "\n",
    "More Objects: Using composition can lead to a proliferation of objects, making the system more complex to understand and manage.\n",
    "Relationship Management: Managing the relationships between composed objects can be challenging, especially in large-scale systems.\n",
    "Tight Coupling:\n",
    "\n",
    "Dependency: If components are too tightly coupled, changes to one component can have unintended consequences on others. This can make the system less flexible and more difficult to maintain.\n",
    "Circular Dependencies: Circular dependencies between objects can create a complex web of relationships, making it difficult to reason about the system's behavior.\n",
    "Performance Overhead:\n",
    "\n",
    "Object Creation: Creating and managing multiple objects can incur performance overhead, especially in systems with limited resources.\n",
    "Testing Challenges:\n",
    "\n",
    "Complex Interactions: Testing systems that use composition can be more complex due to the interactions between different components.\n",
    "To mitigate these challenges:\n",
    "\n",
    "Careful Design: Design components with clear boundaries and responsibilities to avoid tight coupling.\n",
    "Modularity: Break down complex systems into smaller, more manageable modules.\n",
    "Testing Strategies: Use effective testing strategies, such as unit testing and integration testing, to ensure the correctness of composed objects.\n",
    "Performance Optimization: Consider performance optimization techniques if necessary, such as caching or reducing the number of object creations.\"\"\""
   ]
  },
  {
   "cell_type": "code",
   "execution_count": 58,
   "id": "b028229f-8042-4658-aad8-d0652e0f0ccc",
   "metadata": {},
   "outputs": [
    {
     "name": "stdout",
     "output_type": "stream",
     "text": [
      "Pizza Hut\n",
      "Main Course\n",
      "  - Tomato Soup (Price: 100)\n",
      "    - Tomato (2 pcs)\n",
      "    - Onion (1 pc)\n",
      "    - Olive Oil (2 tbsp)\n"
     ]
    }
   ],
   "source": [
    "class Ingredient:\n",
    "    def __init__(self, name, quantity, unit):\n",
    "        self.name = name\n",
    "        self.quantity = quantity\n",
    "        self.unit = unit\n",
    "\n",
    "class Dish:\n",
    "    def __init__(self, name, price, ingredients):\n",
    "        self.name = name\n",
    "        self.price = price\n",
    "        self.ingredients = ingredients\n",
    "\n",
    "class Menu:\n",
    "    def __init__(self, name):\n",
    "        self.name = name\n",
    "        self.dishes = []\n",
    "\n",
    "    def add_dish(self, dish):\n",
    "        self.dishes.append(dish)\n",
    "\n",
    "class Restaurant:\n",
    "    def __init__(self, name):\n",
    "        self.name = name\n",
    "        self.menus = []\n",
    "\n",
    "    def add_menu(self, menu):\n",
    "        self.menus.append(menu)\n",
    "\n",
    "# Create objects\n",
    "ingredient1 = Ingredient(\"Tomato\", 2, \"pcs\")\n",
    "ingredient2 = Ingredient(\"Onion\", 1, \"pc\")\n",
    "ingredient3 = Ingredient(\"Olive Oil\", 2, \"tbsp\")\n",
    "\n",
    "dish1 = Dish(\"Tomato Soup\", 100, [ingredient1, ingredient2, ingredient3])\n",
    "\n",
    "menu1 = Menu(\"Main Course\")\n",
    "menu1.add_dish(dish1)\n",
    "\n",
    "restaurant = Restaurant(\"Pizza Hut\")\n",
    "restaurant.add_menu(menu1)\n",
    "\n",
    "# Print the menu\n",
    "print(restaurant.name)\n",
    "for menu in restaurant.menus:\n",
    "    print(menu.name)\n",
    "    for dish in menu.dishes:\n",
    "        print(f\"  - {dish.name} (Price: {dish.price})\")\n",
    "        for ingredient in dish.ingredients:\n",
    "            print(f\"    - {ingredient.name} ({ingredient.quantity} {ingredient.unit})\")"
   ]
  },
  {
   "cell_type": "code",
   "execution_count": 59,
   "id": "c0778b70-cf9f-491f-bf38-b1f241504d91",
   "metadata": {},
   "outputs": [
    {
     "data": {
      "text/plain": [
       "'Composition and Code Maintainability and Modularity\\n\\nComposition, a fundamental object-oriented programming concept, plays a crucial role in enhancing code maintainability and modularity.\\n\\nHow Composition Enhances Maintainability:\\n\\nIsolation of Changes: By breaking down complex systems into smaller, self-contained components, composition isolates changes. Modifications to one component are less likely to affect other parts of the system, making it easier to maintain and update.\\nReduced Complexity: Composition simplifies code by dividing it into smaller, more manageable units. This makes it easier to understand and reason about the code, reducing the likelihood of errors.\\nImproved Testability: Composition makes it easier to test individual components in isolation, leading to more efficient and reliable testing.\\nHow Composition Enhances Modularity:\\n\\nReusable Components: Composition allows you to create reusable components that can be used in different parts of a project or even in other projects.\\nLoose Coupling: By focusing on the interface rather than the implementation, composition promotes loose coupling between components. This makes the code more flexible and easier to modify.\\nIndependent Development: Different modules can be developed independently, as long as they adhere to the defined interfaces. This can accelerate development and improve collaboration.\\nExample:\\n\\nConsider a library system where books and magazines are managed. Using composition, you can create separate classes for Book and Magazine, and a Library class that composes these objects. This modular approach makes it easier to add new types of library items or modify existing ones without affecting the core functionality of the library system.'"
      ]
     },
     "execution_count": 59,
     "metadata": {},
     "output_type": "execute_result"
    }
   ],
   "source": [
    "\"\"\"Composition and Code Maintainability and Modularity\n",
    "\n",
    "Composition, a fundamental object-oriented programming concept, plays a crucial role in enhancing code maintainability and modularity.\n",
    "\n",
    "How Composition Enhances Maintainability:\n",
    "\n",
    "Isolation of Changes: By breaking down complex systems into smaller, self-contained components, composition isolates changes. Modifications\n",
    "to one component are less likely to affect other parts of the system, making it easier to maintain and update.\n",
    "Reduced Complexity: Composition simplifies code by dividing it into smaller, more manageable units. This makes it easier to understand and\n",
    "reason about the code, reducing the likelihood of errors.\n",
    "Improved Testability: Composition makes it easier to test individual components in isolation, leading to more efficient and reliable testing.\n",
    "How Composition Enhances Modularity:\n",
    "\n",
    "Reusable Components: Composition allows you to create reusable components that can be used in different parts of a project or even in other projects.\n",
    "Loose Coupling: By focusing on the interface rather than the implementation, composition promotes loose coupling between components. This makes the\n",
    "code more flexible and easier to modify.\n",
    "Independent Development: Different modules can be developed independently, as long as they adhere to the defined interfaces. This can accelerate \n",
    "development and improve collaboration.\n",
    "Example:\n",
    "\n",
    "Consider a library system where books and magazines are managed. Using composition, you can create separate classes for Book and Magazine,\n",
    "and a Library class that composes these objects. This modular approach makes it easier to add new types of library items or modify existing \n",
    "ones without affecting the core functionality of the library system.\"\"\""
   ]
  },
  {
   "cell_type": "code",
   "execution_count": 62,
   "id": "c22470a9-3649-4969-99c1-f90e2d24fdb7",
   "metadata": {},
   "outputs": [
    {
     "name": "stdout",
     "output_type": "stream",
     "text": [
      "Character: Hero\n",
      "Weapon: Sword, Damage: 25\n",
      "Armor: Shield, Defense: 15\n",
      "Inventory: Health Potion, Mana Potion\n"
     ]
    }
   ],
   "source": [
    "# Weapon class\n",
    "class Weapon:\n",
    "    def __init__(self, name, damage):\n",
    "        self.name = name  # Name of the weapon\n",
    "        self.damage = damage  # Damage dealt by the weapon\n",
    "\n",
    "    def display_info(self):\n",
    "        return f\"Weapon: {self.name}, Damage: {self.damage}\"\n",
    "\n",
    "# Armor class\n",
    "class Armor:\n",
    "    def __init__(self, name, defense):\n",
    "        self.name = name  # Name of the armor\n",
    "        self.defense = defense  # Defense rating of the armor\n",
    "\n",
    "    def display_info(self):\n",
    "        return f\"Armor: {self.name}, Defense: {self.defense}\"\n",
    "\n",
    "# Inventory class\n",
    "class Inventory:\n",
    "    def __init__(self):\n",
    "        self.items = []  # List to hold inventory items\n",
    "\n",
    "    def add_item(self, item):\n",
    "        self.items.append(item)\n",
    "\n",
    "    def display_items(self):\n",
    "        if not self.items:\n",
    "            return \"Inventory is empty.\"\n",
    "        return \"Inventory: \" + \", \".join(self.items)\n",
    "\n",
    "# Character class (uses composition)\n",
    "class Character:\n",
    "    def __init__(self, name, weapon, armor, inventory):\n",
    "        self.name = name  # Name of the character\n",
    "        self.weapon = weapon  # Composed of a Weapon object\n",
    "        self.armor = armor  # Composed of an Armor object\n",
    "        self.inventory = inventory  # Composed of an Inventory object\n",
    "\n",
    "    def display_character_info(self):\n",
    "        return (f\"Character: {self.name}\\n\"\n",
    "                f\"{self.weapon.display_info()}\\n\"\n",
    "                f\"{self.armor.display_info()}\\n\"\n",
    "                f\"{self.inventory.display_items()}\")\n",
    "\n",
    "# Creating component objects\n",
    "sword = Weapon(name=\"Sword\", damage=25)  # Weapon with name 'Sword' and damage 25\n",
    "shield = Armor(name=\"Shield\", defense=15)  # Armor with name 'Shield' and defense 15\n",
    "inventory = Inventory()\n",
    "inventory.add_item(\"Health Potion\")  # Adding item to inventory\n",
    "inventory.add_item(\"Mana Potion\")\n",
    "\n",
    "# Creating the character using composition\n",
    "hero = Character(name=\"Hero\", weapon=sword, armor=shield, inventory=inventory)\n",
    "\n",
    "# Display the character information\n",
    "print(hero.display_character_info())\n"
   ]
  },
  {
   "cell_type": "code",
   "execution_count": 63,
   "id": "d7490bdc-d759-4082-aec0-e47a0317a450",
   "metadata": {},
   "outputs": [
    {
     "data": {
      "text/plain": [
       "'Aggregation and simple composition are both ways to model relationships between objects in object-oriented programming, but they differ in their nature and strength of coupling between the objects.\\n\\n1. Simple Composition\\nDefinition: Simple composition is a strong form of association where one class contains objects of another class as part of its state. The lifecycle of the contained objects is typically tied to the lifecycle of the container object.\\nRelationship: It represents a \"has-a\" relationship with a strong ownership. If the container object is destroyed, its composed objects are also typically destroyed.\\n2. Aggregation\\nDefinition: Aggregation is a weaker form of association where one class contains or refers to objects of another class, but the contained objects can exist independently of the container. The lifecycle of the contained objects is not necessarily tied to the lifecycle of the container object.\\nRelationship: Represents a \"has-a\" or \"uses-a\" relationship with weaker ownership. The contained object can exist independently of the container.\\nUsage: Used when the contained object can be shared across multiple containers or when the contained object has a lifespan independent of the container.'"
      ]
     },
     "execution_count": 63,
     "metadata": {},
     "output_type": "execute_result"
    }
   ],
   "source": [
    "\"\"\"Aggregation and simple composition are both ways to model relationships between objects in object-oriented programming, but they differ in their nature and strength of coupling between the objects.\n",
    "\n",
    "1. Simple Composition\n",
    "Definition: Simple composition is a strong form of association where one class contains objects of another class as part of its state. The lifecycle of the contained objects is typically tied to the lifecycle of the container object.\n",
    "Relationship: It represents a \"has-a\" relationship with a strong ownership. If the container object is destroyed, its composed objects are also typically destroyed.\n",
    "2. Aggregation\n",
    "Definition: Aggregation is a weaker form of association where one class contains or refers to objects of another class, but the contained objects can exist independently of the container. The lifecycle of the contained objects is not necessarily tied to the lifecycle of the container object.\n",
    "Relationship: Represents a \"has-a\" or \"uses-a\" relationship with weaker ownership. The contained object can exist independently of the container.\n",
    "Usage: Used when the contained object can be shared across multiple containers or when the contained object has a lifespan independent of the container.\"\"\""
   ]
  },
  {
   "cell_type": "code",
   "execution_count": 64,
   "id": "79f8f2c3-55c2-4081-9271-dcd0c71134e4",
   "metadata": {},
   "outputs": [
    {
     "name": "stdout",
     "output_type": "stream",
     "text": [
      "123 Main Street\n",
      "Bedroom\n",
      "  - Bed\n",
      "  - Television (100 watts)\n",
      "Living Room\n",
      "  - Sofa\n",
      "  - Refrigerator (200 watts)\n"
     ]
    }
   ],
   "source": [
    "class Furniture:\n",
    "    def __init__(self, name):\n",
    "        self.name = name\n",
    "\n",
    "class Appliance:\n",
    "    def __init__(self, name, power_consumption):\n",
    "        self.name = name\n",
    "        self.power_consumption = power_consumption\n",
    "\n",
    "class Room:\n",
    "    def __init__(self, name):\n",
    "        self.name = name\n",
    "        self.furniture = []\n",
    "        self.appliances = []\n",
    "\n",
    "    def add_furniture(self, furniture):\n",
    "        self.furniture.append(furniture)\n",
    "\n",
    "    def add_appliance(self, appliance):\n",
    "        self.appliances.append(appliance)\n",
    "\n",
    "class House:\n",
    "    def __init__(self, address):\n",
    "        self.address = address\n",
    "        self.rooms = []\n",
    "\n",
    "    def add_room(self, room):\n",
    "        self.rooms.append(room)\n",
    "\n",
    "# Create objects\n",
    "bed = Furniture(\"Bed\")\n",
    "sofa = Furniture(\"Sofa\")\n",
    "tv = Appliance(\"Television\", 100)\n",
    "fridge = Appliance(\"Refrigerator\", 200)\n",
    "\n",
    "bedroom = Room(\"Bedroom\")\n",
    "bedroom.add_furniture(bed)\n",
    "bedroom.add_appliance(tv)\n",
    "\n",
    "living_room = Room(\"Living Room\")\n",
    "living_room.add_furniture(sofa)\n",
    "living_room.add_appliance(fridge)\n",
    "\n",
    "house = House(\"123 Main Street\")\n",
    "house.add_room(bedroom)\n",
    "house.add_room(living_room)\n",
    "\n",
    "# Print house details\n",
    "print(house.address)\n",
    "for room in house.rooms:\n",
    "    print(room.name)\n",
    "    for furniture in room.furniture:\n",
    "        print(f\"  - {furniture.name}\")\n",
    "    for appliance in room.appliances:\n",
    "        print(f\"  - {appliance.name} ({appliance.power_consumption} watts)\")"
   ]
  },
  {
   "cell_type": "code",
   "execution_count": 65,
   "id": "b1fb9b36-34b7-471e-886e-f1208c4ff51e",
   "metadata": {},
   "outputs": [
    {
     "data": {
      "text/plain": [
       "'Achieving Flexibility in Composed Objects\\nFlexibility in composed objects is essential for creating adaptable and maintainable software systems. Here are some techniques to achieve this:\\n\\n1. Interface-Based Design:\\nDefine Interfaces: Define interfaces that specify the behavior of components. This allows you to replace components as long as they adhere to the interface.\\nDependency Injection: Use dependency injection to inject components into other components at runtime, making it easier to replace them.\\n2. Configuration:\\nExternal Configuration: Store configuration information in external files or databases. This allows you to modify the composition of objects without changing the code.\\nConfiguration Management: Use configuration management tools to manage and deploy different configurations.\\n3. Plugins and Extensions:\\nPlugin Architecture: Design the system to support plugins that can be added or removed at runtime. This allows for customization and extensibility without modifying the core code.\\nExtension Points: Define extension points in the system where plugins can be integrated.\\n4. Dependency Injection Frameworks:\\nAutomatic Wiring: Use dependency injection frameworks like Spring, Guice, or Dagger to automatically wire together components based on their dependencies. This can simplify the configuration process.'"
      ]
     },
     "execution_count": 65,
     "metadata": {},
     "output_type": "execute_result"
    }
   ],
   "source": [
    "\"\"\"Achieving Flexibility in Composed Objects\n",
    "Flexibility in composed objects is essential for creating adaptable and maintainable software systems. Here are some techniques to achieve this:\n",
    "\n",
    "1. Interface-Based Design:\n",
    "Define Interfaces: Define interfaces that specify the behavior of components. This allows you to replace components as long as they adhere to the interface.\n",
    "Dependency Injection: Use dependency injection to inject components into other components at runtime, making it easier to replace them.\n",
    "2. Configuration:\n",
    "External Configuration: Store configuration information in external files or databases. This allows you to modify the composition of objects without changing the code.\n",
    "Configuration Management: Use configuration management tools to manage and deploy different configurations.\n",
    "3. Plugins and Extensions:\n",
    "Plugin Architecture: Design the system to support plugins that can be added or removed at runtime. This allows for customization and extensibility without modifying the core code.\n",
    "Extension Points: Define extension points in the system where plugins can be integrated.\n",
    "4. Dependency Injection Frameworks:\n",
    "Automatic Wiring: Use dependency injection frameworks like Spring, Guice, or Dagger to automatically wire together components based on their dependencies. This can simplify the configuration process.\"\"\""
   ]
  },
  {
   "cell_type": "code",
   "execution_count": 68,
   "id": "8ab981ff-8736-43a7-a1d7-a6baf68a0b0f",
   "metadata": {},
   "outputs": [
    {
     "name": "stdout",
     "output_type": "stream",
     "text": [
      "Post by Alice: Hello world!\n",
      "Comments:\n",
      " - Bob: Hi Alice, nice post!\n",
      "\n"
     ]
    }
   ],
   "source": [
    "# Comment class\n",
    "class Comment:\n",
    "    def __init__(self, user, content):\n",
    "        self.user = user  \n",
    "        self.content = content  \n",
    "\n",
    "    def display_comment(self):\n",
    "        return f\"{self.user.username}: {self.content}\"\n",
    "\n",
    "# Post class\n",
    "class Post:\n",
    "    def __init__(self, user, content):\n",
    "        self.user = user  \n",
    "        self.content = content  \n",
    "        self.comments = []  \n",
    "\n",
    "    def add_comment(self, comment):\n",
    "        self.comments.append(comment)\n",
    "\n",
    "    def display_post(self):\n",
    "        post_info = f\"Post by {self.user.username}: {self.content}\\nComments:\\n\"\n",
    "        if not self.comments:\n",
    "            post_info += \"No comments yet.\"\n",
    "        else:\n",
    "            for comment in self.comments:\n",
    "                post_info += f\" - {comment.display_comment()}\\n\"\n",
    "        return post_info\n",
    "\n",
    "# User class\n",
    "class User:\n",
    "    def __init__(self, username):\n",
    "        self.username = username  #\n",
    "        \n",
    "        \n",
    "        \n",
    "\n",
    "    def create_post(self, content):\n",
    "        return Post(user=self, content=content)\n",
    "\n",
    "    def create_comment(self, post, content):\n",
    "        comment = Comment(user=self, content=content)\n",
    "        post.add_comment(comment)\n",
    "        return comment\n",
    "    \n",
    "alice = User(username=\"Alice\")\n",
    "bob = User(username=\"Bob\")\n",
    "\n",
    "post1 = alice.create_post(content=\"Hello world!\")\n",
    "\n",
    "bob.create_comment(post=post1, content=\"Hi Alice, nice post!\")\n",
    "\n",
    "print(post1.display_post())\n"
   ]
  },
  {
   "cell_type": "code",
   "execution_count": null,
   "id": "1a06ed80-bc98-4dff-937f-a41dc98c12b3",
   "metadata": {},
   "outputs": [],
   "source": []
  }
 ],
 "metadata": {
  "kernelspec": {
   "display_name": "Python 3 (ipykernel)",
   "language": "python",
   "name": "python3"
  },
  "language_info": {
   "codemirror_mode": {
    "name": "ipython",
    "version": 3
   },
   "file_extension": ".py",
   "mimetype": "text/x-python",
   "name": "python",
   "nbconvert_exporter": "python",
   "pygments_lexer": "ipython3",
   "version": "3.10.8"
  }
 },
 "nbformat": 4,
 "nbformat_minor": 5
}
